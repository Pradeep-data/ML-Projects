{
  "nbformat": 4,
  "nbformat_minor": 0,
  "metadata": {
    "kernelspec": {
      "display_name": "Python 3",
      "language": "python",
      "name": "python3"
    },
    "language_info": {
      "codemirror_mode": {
        "name": "ipython",
        "version": 3
      },
      "file_extension": ".py",
      "mimetype": "text/x-python",
      "name": "python",
      "nbconvert_exporter": "python",
      "pygments_lexer": "ipython3",
      "version": "3.7.4"
    },
    "colab": {
      "name": "Micro_Credit.ipynb",
      "provenance": [],
      "toc_visible": true
    }
  },
  "cells": [
    {
      "cell_type": "code",
      "metadata": {
        "id": "7VnTV5dRevl5"
      },
      "source": [
        "#importing required libraries and performance metrics\n",
        "import pandas as pd\n",
        "import numpy as np\n",
        "import matplotlib.pyplot as plt\n",
        "import seaborn as sns\n",
        "from sklearn.model_selection import train_test_split,GridSearchCV,cross_val_score\n",
        "from sklearn.metrics import confusion_matrix,accuracy_score,classification_report,roc_curve,roc_auc_score\n",
        "\n",
        "import warnings\n",
        "warnings.filterwarnings('ignore')"
      ],
      "execution_count": null,
      "outputs": []
    },
    {
      "cell_type": "code",
      "metadata": {
        "id": "Y1oWGjlCevl-",
        "outputId": "e925c640-118b-41a9-f634-9cbb251beccb",
        "colab": {
          "base_uri": "https://localhost:8080/",
          "height": 326
        }
      },
      "source": [
        "#importing data file from file folder\n",
        "s=pd.read_csv('/content/drive/My Drive/Micro credit/Data file.csv')\n",
        "\n",
        "credit=pd.DataFrame(s)\n",
        "credit.head()"
      ],
      "execution_count": null,
      "outputs": [
        {
          "output_type": "execute_result",
          "data": {
            "text/html": [
              "<div>\n",
              "<style scoped>\n",
              "    .dataframe tbody tr th:only-of-type {\n",
              "        vertical-align: middle;\n",
              "    }\n",
              "\n",
              "    .dataframe tbody tr th {\n",
              "        vertical-align: top;\n",
              "    }\n",
              "\n",
              "    .dataframe thead th {\n",
              "        text-align: right;\n",
              "    }\n",
              "</style>\n",
              "<table border=\"1\" class=\"dataframe\">\n",
              "  <thead>\n",
              "    <tr style=\"text-align: right;\">\n",
              "      <th></th>\n",
              "      <th>Unnamed: 0</th>\n",
              "      <th>label</th>\n",
              "      <th>msisdn</th>\n",
              "      <th>aon</th>\n",
              "      <th>daily_decr30</th>\n",
              "      <th>daily_decr90</th>\n",
              "      <th>rental30</th>\n",
              "      <th>rental90</th>\n",
              "      <th>last_rech_date_ma</th>\n",
              "      <th>last_rech_date_da</th>\n",
              "      <th>last_rech_amt_ma</th>\n",
              "      <th>cnt_ma_rech30</th>\n",
              "      <th>fr_ma_rech30</th>\n",
              "      <th>sumamnt_ma_rech30</th>\n",
              "      <th>medianamnt_ma_rech30</th>\n",
              "      <th>medianmarechprebal30</th>\n",
              "      <th>cnt_ma_rech90</th>\n",
              "      <th>fr_ma_rech90</th>\n",
              "      <th>sumamnt_ma_rech90</th>\n",
              "      <th>medianamnt_ma_rech90</th>\n",
              "      <th>medianmarechprebal90</th>\n",
              "      <th>cnt_da_rech30</th>\n",
              "      <th>fr_da_rech30</th>\n",
              "      <th>cnt_da_rech90</th>\n",
              "      <th>fr_da_rech90</th>\n",
              "      <th>cnt_loans30</th>\n",
              "      <th>amnt_loans30</th>\n",
              "      <th>maxamnt_loans30</th>\n",
              "      <th>medianamnt_loans30</th>\n",
              "      <th>cnt_loans90</th>\n",
              "      <th>amnt_loans90</th>\n",
              "      <th>maxamnt_loans90</th>\n",
              "      <th>medianamnt_loans90</th>\n",
              "      <th>payback30</th>\n",
              "      <th>payback90</th>\n",
              "      <th>pcircle</th>\n",
              "      <th>pdate</th>\n",
              "    </tr>\n",
              "  </thead>\n",
              "  <tbody>\n",
              "    <tr>\n",
              "      <th>0</th>\n",
              "      <td>1</td>\n",
              "      <td>0</td>\n",
              "      <td>21408I70789</td>\n",
              "      <td>272.0</td>\n",
              "      <td>3055.050000</td>\n",
              "      <td>3065.150000</td>\n",
              "      <td>220.13</td>\n",
              "      <td>260.13</td>\n",
              "      <td>2.0</td>\n",
              "      <td>0.0</td>\n",
              "      <td>1539</td>\n",
              "      <td>2</td>\n",
              "      <td>21.0</td>\n",
              "      <td>3078.0</td>\n",
              "      <td>1539.0</td>\n",
              "      <td>7.50</td>\n",
              "      <td>2</td>\n",
              "      <td>21</td>\n",
              "      <td>3078</td>\n",
              "      <td>1539.0</td>\n",
              "      <td>7.50</td>\n",
              "      <td>0.0</td>\n",
              "      <td>0.0</td>\n",
              "      <td>0</td>\n",
              "      <td>0</td>\n",
              "      <td>2</td>\n",
              "      <td>12</td>\n",
              "      <td>6.0</td>\n",
              "      <td>0.0</td>\n",
              "      <td>2.0</td>\n",
              "      <td>12</td>\n",
              "      <td>6</td>\n",
              "      <td>0.0</td>\n",
              "      <td>29.000000</td>\n",
              "      <td>29.000000</td>\n",
              "      <td>UPW</td>\n",
              "      <td>2016-07-20</td>\n",
              "    </tr>\n",
              "    <tr>\n",
              "      <th>1</th>\n",
              "      <td>2</td>\n",
              "      <td>1</td>\n",
              "      <td>76462I70374</td>\n",
              "      <td>712.0</td>\n",
              "      <td>12122.000000</td>\n",
              "      <td>12124.750000</td>\n",
              "      <td>3691.26</td>\n",
              "      <td>3691.26</td>\n",
              "      <td>20.0</td>\n",
              "      <td>0.0</td>\n",
              "      <td>5787</td>\n",
              "      <td>1</td>\n",
              "      <td>0.0</td>\n",
              "      <td>5787.0</td>\n",
              "      <td>5787.0</td>\n",
              "      <td>61.04</td>\n",
              "      <td>1</td>\n",
              "      <td>0</td>\n",
              "      <td>5787</td>\n",
              "      <td>5787.0</td>\n",
              "      <td>61.04</td>\n",
              "      <td>0.0</td>\n",
              "      <td>0.0</td>\n",
              "      <td>0</td>\n",
              "      <td>0</td>\n",
              "      <td>1</td>\n",
              "      <td>12</td>\n",
              "      <td>12.0</td>\n",
              "      <td>0.0</td>\n",
              "      <td>1.0</td>\n",
              "      <td>12</td>\n",
              "      <td>12</td>\n",
              "      <td>0.0</td>\n",
              "      <td>0.000000</td>\n",
              "      <td>0.000000</td>\n",
              "      <td>UPW</td>\n",
              "      <td>2016-08-10</td>\n",
              "    </tr>\n",
              "    <tr>\n",
              "      <th>2</th>\n",
              "      <td>3</td>\n",
              "      <td>1</td>\n",
              "      <td>17943I70372</td>\n",
              "      <td>535.0</td>\n",
              "      <td>1398.000000</td>\n",
              "      <td>1398.000000</td>\n",
              "      <td>900.13</td>\n",
              "      <td>900.13</td>\n",
              "      <td>3.0</td>\n",
              "      <td>0.0</td>\n",
              "      <td>1539</td>\n",
              "      <td>1</td>\n",
              "      <td>0.0</td>\n",
              "      <td>1539.0</td>\n",
              "      <td>1539.0</td>\n",
              "      <td>66.32</td>\n",
              "      <td>1</td>\n",
              "      <td>0</td>\n",
              "      <td>1539</td>\n",
              "      <td>1539.0</td>\n",
              "      <td>66.32</td>\n",
              "      <td>0.0</td>\n",
              "      <td>0.0</td>\n",
              "      <td>0</td>\n",
              "      <td>0</td>\n",
              "      <td>1</td>\n",
              "      <td>6</td>\n",
              "      <td>6.0</td>\n",
              "      <td>0.0</td>\n",
              "      <td>1.0</td>\n",
              "      <td>6</td>\n",
              "      <td>6</td>\n",
              "      <td>0.0</td>\n",
              "      <td>0.000000</td>\n",
              "      <td>0.000000</td>\n",
              "      <td>UPW</td>\n",
              "      <td>2016-08-19</td>\n",
              "    </tr>\n",
              "    <tr>\n",
              "      <th>3</th>\n",
              "      <td>4</td>\n",
              "      <td>1</td>\n",
              "      <td>55773I70781</td>\n",
              "      <td>241.0</td>\n",
              "      <td>21.228000</td>\n",
              "      <td>21.228000</td>\n",
              "      <td>159.42</td>\n",
              "      <td>159.42</td>\n",
              "      <td>41.0</td>\n",
              "      <td>0.0</td>\n",
              "      <td>947</td>\n",
              "      <td>0</td>\n",
              "      <td>0.0</td>\n",
              "      <td>0.0</td>\n",
              "      <td>0.0</td>\n",
              "      <td>0.00</td>\n",
              "      <td>1</td>\n",
              "      <td>0</td>\n",
              "      <td>947</td>\n",
              "      <td>947.0</td>\n",
              "      <td>2.50</td>\n",
              "      <td>0.0</td>\n",
              "      <td>0.0</td>\n",
              "      <td>0</td>\n",
              "      <td>0</td>\n",
              "      <td>2</td>\n",
              "      <td>12</td>\n",
              "      <td>6.0</td>\n",
              "      <td>0.0</td>\n",
              "      <td>2.0</td>\n",
              "      <td>12</td>\n",
              "      <td>6</td>\n",
              "      <td>0.0</td>\n",
              "      <td>0.000000</td>\n",
              "      <td>0.000000</td>\n",
              "      <td>UPW</td>\n",
              "      <td>2016-06-06</td>\n",
              "    </tr>\n",
              "    <tr>\n",
              "      <th>4</th>\n",
              "      <td>5</td>\n",
              "      <td>1</td>\n",
              "      <td>03813I82730</td>\n",
              "      <td>947.0</td>\n",
              "      <td>150.619333</td>\n",
              "      <td>150.619333</td>\n",
              "      <td>1098.90</td>\n",
              "      <td>1098.90</td>\n",
              "      <td>4.0</td>\n",
              "      <td>0.0</td>\n",
              "      <td>2309</td>\n",
              "      <td>7</td>\n",
              "      <td>2.0</td>\n",
              "      <td>20029.0</td>\n",
              "      <td>2309.0</td>\n",
              "      <td>29.00</td>\n",
              "      <td>8</td>\n",
              "      <td>2</td>\n",
              "      <td>23496</td>\n",
              "      <td>2888.0</td>\n",
              "      <td>35.00</td>\n",
              "      <td>0.0</td>\n",
              "      <td>0.0</td>\n",
              "      <td>0</td>\n",
              "      <td>0</td>\n",
              "      <td>7</td>\n",
              "      <td>42</td>\n",
              "      <td>6.0</td>\n",
              "      <td>0.0</td>\n",
              "      <td>7.0</td>\n",
              "      <td>42</td>\n",
              "      <td>6</td>\n",
              "      <td>0.0</td>\n",
              "      <td>2.333333</td>\n",
              "      <td>2.333333</td>\n",
              "      <td>UPW</td>\n",
              "      <td>2016-06-22</td>\n",
              "    </tr>\n",
              "  </tbody>\n",
              "</table>\n",
              "</div>"
            ],
            "text/plain": [
              "   Unnamed: 0  label       msisdn  ...  payback90  pcircle       pdate\n",
              "0           1      0  21408I70789  ...  29.000000      UPW  2016-07-20\n",
              "1           2      1  76462I70374  ...   0.000000      UPW  2016-08-10\n",
              "2           3      1  17943I70372  ...   0.000000      UPW  2016-08-19\n",
              "3           4      1  55773I70781  ...   0.000000      UPW  2016-06-06\n",
              "4           5      1  03813I82730  ...   2.333333      UPW  2016-06-22\n",
              "\n",
              "[5 rows x 37 columns]"
            ]
          },
          "metadata": {
            "tags": []
          },
          "execution_count": 30
        }
      ]
    },
    {
      "cell_type": "code",
      "metadata": {
        "id": "thyCivBGevmB",
        "outputId": "79da72b1-bca5-4141-d03e-6665ec956386",
        "colab": {
          "base_uri": "https://localhost:8080/"
        }
      },
      "source": [
        "#getting description of each row\n",
        "credit.info()"
      ],
      "execution_count": null,
      "outputs": [
        {
          "output_type": "stream",
          "text": [
            "<class 'pandas.core.frame.DataFrame'>\n",
            "RangeIndex: 209593 entries, 0 to 209592\n",
            "Data columns (total 37 columns):\n",
            " #   Column                Non-Null Count   Dtype  \n",
            "---  ------                --------------   -----  \n",
            " 0   Unnamed: 0            209593 non-null  int64  \n",
            " 1   label                 209593 non-null  int64  \n",
            " 2   msisdn                209593 non-null  object \n",
            " 3   aon                   209593 non-null  float64\n",
            " 4   daily_decr30          209593 non-null  float64\n",
            " 5   daily_decr90          209593 non-null  float64\n",
            " 6   rental30              209593 non-null  float64\n",
            " 7   rental90              209593 non-null  float64\n",
            " 8   last_rech_date_ma     209593 non-null  float64\n",
            " 9   last_rech_date_da     209593 non-null  float64\n",
            " 10  last_rech_amt_ma      209593 non-null  int64  \n",
            " 11  cnt_ma_rech30         209593 non-null  int64  \n",
            " 12  fr_ma_rech30          209593 non-null  float64\n",
            " 13  sumamnt_ma_rech30     209593 non-null  float64\n",
            " 14  medianamnt_ma_rech30  209593 non-null  float64\n",
            " 15  medianmarechprebal30  209593 non-null  float64\n",
            " 16  cnt_ma_rech90         209593 non-null  int64  \n",
            " 17  fr_ma_rech90          209593 non-null  int64  \n",
            " 18  sumamnt_ma_rech90     209593 non-null  int64  \n",
            " 19  medianamnt_ma_rech90  209593 non-null  float64\n",
            " 20  medianmarechprebal90  209593 non-null  float64\n",
            " 21  cnt_da_rech30         209593 non-null  float64\n",
            " 22  fr_da_rech30          209593 non-null  float64\n",
            " 23  cnt_da_rech90         209593 non-null  int64  \n",
            " 24  fr_da_rech90          209593 non-null  int64  \n",
            " 25  cnt_loans30           209593 non-null  int64  \n",
            " 26  amnt_loans30          209593 non-null  int64  \n",
            " 27  maxamnt_loans30       209593 non-null  float64\n",
            " 28  medianamnt_loans30    209593 non-null  float64\n",
            " 29  cnt_loans90           209593 non-null  float64\n",
            " 30  amnt_loans90          209593 non-null  int64  \n",
            " 31  maxamnt_loans90       209593 non-null  int64  \n",
            " 32  medianamnt_loans90    209593 non-null  float64\n",
            " 33  payback30             209593 non-null  float64\n",
            " 34  payback90             209593 non-null  float64\n",
            " 35  pcircle               209593 non-null  object \n",
            " 36  pdate                 209593 non-null  object \n",
            "dtypes: float64(21), int64(13), object(3)\n",
            "memory usage: 59.2+ MB\n"
          ],
          "name": "stdout"
        }
      ]
    },
    {
      "cell_type": "code",
      "metadata": {
        "id": "gz0rRcGjevmE",
        "outputId": "a6a9462a-744a-408d-ba92-e9720351351e",
        "colab": {
          "base_uri": "https://localhost:8080/"
        }
      },
      "source": [
        "credit.shape"
      ],
      "execution_count": null,
      "outputs": [
        {
          "output_type": "execute_result",
          "data": {
            "text/plain": [
              "(209593, 37)"
            ]
          },
          "metadata": {
            "tags": []
          },
          "execution_count": 32
        }
      ]
    },
    {
      "cell_type": "code",
      "metadata": {
        "id": "Pw480Wy-evmG"
      },
      "source": [
        "#here we have to remove some of the columns that are not adding any value to the prediction such as unnamed\n",
        "#unnamed,msisdn are unique\n",
        "#pcircle has only one value throughout the data and date is not needed when we have previous 30 days and 90 days data\n",
        "credit.drop(['Unnamed: 0','msisdn','pcircle','pdate'],axis=1,inplace=True)"
      ],
      "execution_count": null,
      "outputs": []
    },
    {
      "cell_type": "code",
      "metadata": {
        "id": "xCrESK6aevmI",
        "outputId": "4e29b04d-ba39-49a8-bfa6-ff1106a2ee93",
        "colab": {
          "base_uri": "https://localhost:8080/",
          "height": 224
        }
      },
      "source": [
        "#getting the overview from top 5 rows\n",
        "credit.head()"
      ],
      "execution_count": null,
      "outputs": [
        {
          "output_type": "execute_result",
          "data": {
            "text/html": [
              "<div>\n",
              "<style scoped>\n",
              "    .dataframe tbody tr th:only-of-type {\n",
              "        vertical-align: middle;\n",
              "    }\n",
              "\n",
              "    .dataframe tbody tr th {\n",
              "        vertical-align: top;\n",
              "    }\n",
              "\n",
              "    .dataframe thead th {\n",
              "        text-align: right;\n",
              "    }\n",
              "</style>\n",
              "<table border=\"1\" class=\"dataframe\">\n",
              "  <thead>\n",
              "    <tr style=\"text-align: right;\">\n",
              "      <th></th>\n",
              "      <th>label</th>\n",
              "      <th>aon</th>\n",
              "      <th>daily_decr30</th>\n",
              "      <th>daily_decr90</th>\n",
              "      <th>rental30</th>\n",
              "      <th>rental90</th>\n",
              "      <th>last_rech_date_ma</th>\n",
              "      <th>last_rech_date_da</th>\n",
              "      <th>last_rech_amt_ma</th>\n",
              "      <th>cnt_ma_rech30</th>\n",
              "      <th>fr_ma_rech30</th>\n",
              "      <th>sumamnt_ma_rech30</th>\n",
              "      <th>medianamnt_ma_rech30</th>\n",
              "      <th>medianmarechprebal30</th>\n",
              "      <th>cnt_ma_rech90</th>\n",
              "      <th>fr_ma_rech90</th>\n",
              "      <th>sumamnt_ma_rech90</th>\n",
              "      <th>medianamnt_ma_rech90</th>\n",
              "      <th>medianmarechprebal90</th>\n",
              "      <th>cnt_da_rech30</th>\n",
              "      <th>fr_da_rech30</th>\n",
              "      <th>cnt_da_rech90</th>\n",
              "      <th>fr_da_rech90</th>\n",
              "      <th>cnt_loans30</th>\n",
              "      <th>amnt_loans30</th>\n",
              "      <th>maxamnt_loans30</th>\n",
              "      <th>medianamnt_loans30</th>\n",
              "      <th>cnt_loans90</th>\n",
              "      <th>amnt_loans90</th>\n",
              "      <th>maxamnt_loans90</th>\n",
              "      <th>medianamnt_loans90</th>\n",
              "      <th>payback30</th>\n",
              "      <th>payback90</th>\n",
              "    </tr>\n",
              "  </thead>\n",
              "  <tbody>\n",
              "    <tr>\n",
              "      <th>0</th>\n",
              "      <td>0</td>\n",
              "      <td>272.0</td>\n",
              "      <td>3055.050000</td>\n",
              "      <td>3065.150000</td>\n",
              "      <td>220.13</td>\n",
              "      <td>260.13</td>\n",
              "      <td>2.0</td>\n",
              "      <td>0.0</td>\n",
              "      <td>1539</td>\n",
              "      <td>2</td>\n",
              "      <td>21.0</td>\n",
              "      <td>3078.0</td>\n",
              "      <td>1539.0</td>\n",
              "      <td>7.50</td>\n",
              "      <td>2</td>\n",
              "      <td>21</td>\n",
              "      <td>3078</td>\n",
              "      <td>1539.0</td>\n",
              "      <td>7.50</td>\n",
              "      <td>0.0</td>\n",
              "      <td>0.0</td>\n",
              "      <td>0</td>\n",
              "      <td>0</td>\n",
              "      <td>2</td>\n",
              "      <td>12</td>\n",
              "      <td>6.0</td>\n",
              "      <td>0.0</td>\n",
              "      <td>2.0</td>\n",
              "      <td>12</td>\n",
              "      <td>6</td>\n",
              "      <td>0.0</td>\n",
              "      <td>29.000000</td>\n",
              "      <td>29.000000</td>\n",
              "    </tr>\n",
              "    <tr>\n",
              "      <th>1</th>\n",
              "      <td>1</td>\n",
              "      <td>712.0</td>\n",
              "      <td>12122.000000</td>\n",
              "      <td>12124.750000</td>\n",
              "      <td>3691.26</td>\n",
              "      <td>3691.26</td>\n",
              "      <td>20.0</td>\n",
              "      <td>0.0</td>\n",
              "      <td>5787</td>\n",
              "      <td>1</td>\n",
              "      <td>0.0</td>\n",
              "      <td>5787.0</td>\n",
              "      <td>5787.0</td>\n",
              "      <td>61.04</td>\n",
              "      <td>1</td>\n",
              "      <td>0</td>\n",
              "      <td>5787</td>\n",
              "      <td>5787.0</td>\n",
              "      <td>61.04</td>\n",
              "      <td>0.0</td>\n",
              "      <td>0.0</td>\n",
              "      <td>0</td>\n",
              "      <td>0</td>\n",
              "      <td>1</td>\n",
              "      <td>12</td>\n",
              "      <td>12.0</td>\n",
              "      <td>0.0</td>\n",
              "      <td>1.0</td>\n",
              "      <td>12</td>\n",
              "      <td>12</td>\n",
              "      <td>0.0</td>\n",
              "      <td>0.000000</td>\n",
              "      <td>0.000000</td>\n",
              "    </tr>\n",
              "    <tr>\n",
              "      <th>2</th>\n",
              "      <td>1</td>\n",
              "      <td>535.0</td>\n",
              "      <td>1398.000000</td>\n",
              "      <td>1398.000000</td>\n",
              "      <td>900.13</td>\n",
              "      <td>900.13</td>\n",
              "      <td>3.0</td>\n",
              "      <td>0.0</td>\n",
              "      <td>1539</td>\n",
              "      <td>1</td>\n",
              "      <td>0.0</td>\n",
              "      <td>1539.0</td>\n",
              "      <td>1539.0</td>\n",
              "      <td>66.32</td>\n",
              "      <td>1</td>\n",
              "      <td>0</td>\n",
              "      <td>1539</td>\n",
              "      <td>1539.0</td>\n",
              "      <td>66.32</td>\n",
              "      <td>0.0</td>\n",
              "      <td>0.0</td>\n",
              "      <td>0</td>\n",
              "      <td>0</td>\n",
              "      <td>1</td>\n",
              "      <td>6</td>\n",
              "      <td>6.0</td>\n",
              "      <td>0.0</td>\n",
              "      <td>1.0</td>\n",
              "      <td>6</td>\n",
              "      <td>6</td>\n",
              "      <td>0.0</td>\n",
              "      <td>0.000000</td>\n",
              "      <td>0.000000</td>\n",
              "    </tr>\n",
              "    <tr>\n",
              "      <th>3</th>\n",
              "      <td>1</td>\n",
              "      <td>241.0</td>\n",
              "      <td>21.228000</td>\n",
              "      <td>21.228000</td>\n",
              "      <td>159.42</td>\n",
              "      <td>159.42</td>\n",
              "      <td>41.0</td>\n",
              "      <td>0.0</td>\n",
              "      <td>947</td>\n",
              "      <td>0</td>\n",
              "      <td>0.0</td>\n",
              "      <td>0.0</td>\n",
              "      <td>0.0</td>\n",
              "      <td>0.00</td>\n",
              "      <td>1</td>\n",
              "      <td>0</td>\n",
              "      <td>947</td>\n",
              "      <td>947.0</td>\n",
              "      <td>2.50</td>\n",
              "      <td>0.0</td>\n",
              "      <td>0.0</td>\n",
              "      <td>0</td>\n",
              "      <td>0</td>\n",
              "      <td>2</td>\n",
              "      <td>12</td>\n",
              "      <td>6.0</td>\n",
              "      <td>0.0</td>\n",
              "      <td>2.0</td>\n",
              "      <td>12</td>\n",
              "      <td>6</td>\n",
              "      <td>0.0</td>\n",
              "      <td>0.000000</td>\n",
              "      <td>0.000000</td>\n",
              "    </tr>\n",
              "    <tr>\n",
              "      <th>4</th>\n",
              "      <td>1</td>\n",
              "      <td>947.0</td>\n",
              "      <td>150.619333</td>\n",
              "      <td>150.619333</td>\n",
              "      <td>1098.90</td>\n",
              "      <td>1098.90</td>\n",
              "      <td>4.0</td>\n",
              "      <td>0.0</td>\n",
              "      <td>2309</td>\n",
              "      <td>7</td>\n",
              "      <td>2.0</td>\n",
              "      <td>20029.0</td>\n",
              "      <td>2309.0</td>\n",
              "      <td>29.00</td>\n",
              "      <td>8</td>\n",
              "      <td>2</td>\n",
              "      <td>23496</td>\n",
              "      <td>2888.0</td>\n",
              "      <td>35.00</td>\n",
              "      <td>0.0</td>\n",
              "      <td>0.0</td>\n",
              "      <td>0</td>\n",
              "      <td>0</td>\n",
              "      <td>7</td>\n",
              "      <td>42</td>\n",
              "      <td>6.0</td>\n",
              "      <td>0.0</td>\n",
              "      <td>7.0</td>\n",
              "      <td>42</td>\n",
              "      <td>6</td>\n",
              "      <td>0.0</td>\n",
              "      <td>2.333333</td>\n",
              "      <td>2.333333</td>\n",
              "    </tr>\n",
              "  </tbody>\n",
              "</table>\n",
              "</div>"
            ],
            "text/plain": [
              "   label    aon  daily_decr30  ...  medianamnt_loans90  payback30  payback90\n",
              "0      0  272.0   3055.050000  ...                 0.0  29.000000  29.000000\n",
              "1      1  712.0  12122.000000  ...                 0.0   0.000000   0.000000\n",
              "2      1  535.0   1398.000000  ...                 0.0   0.000000   0.000000\n",
              "3      1  241.0     21.228000  ...                 0.0   0.000000   0.000000\n",
              "4      1  947.0    150.619333  ...                 0.0   2.333333   2.333333\n",
              "\n",
              "[5 rows x 33 columns]"
            ]
          },
          "metadata": {
            "tags": []
          },
          "execution_count": 34
        }
      ]
    },
    {
      "cell_type": "code",
      "metadata": {
        "id": "eZZsgG_cevmK",
        "outputId": "09f7db1c-99c0-4957-f7c0-7535c26af01c",
        "colab": {
          "base_uri": "https://localhost:8080/"
        }
      },
      "source": [
        "#checking the data counts\n",
        "credit['label'].value_counts()"
      ],
      "execution_count": null,
      "outputs": [
        {
          "output_type": "execute_result",
          "data": {
            "text/plain": [
              "1    183431\n",
              "0     26162\n",
              "Name: label, dtype: int64"
            ]
          },
          "metadata": {
            "tags": []
          },
          "execution_count": 35
        }
      ]
    },
    {
      "cell_type": "markdown",
      "metadata": {
        "id": "ZBhVtsVQevmN"
      },
      "source": [
        "The ratio b/w label 1 and label 0 clearly shows that this is a imbalanced dataset"
      ]
    },
    {
      "cell_type": "code",
      "metadata": {
        "id": "Gvs-LkAWevmO",
        "outputId": "316f0ac3-4aee-4a97-c256-5ea9ca2b43a3",
        "colab": {
          "base_uri": "https://localhost:8080/"
        }
      },
      "source": [
        "#verifying for null value if any\n",
        "credit.isnull().sum()"
      ],
      "execution_count": null,
      "outputs": [
        {
          "output_type": "execute_result",
          "data": {
            "text/plain": [
              "label                   0\n",
              "aon                     0\n",
              "daily_decr30            0\n",
              "daily_decr90            0\n",
              "rental30                0\n",
              "rental90                0\n",
              "last_rech_date_ma       0\n",
              "last_rech_date_da       0\n",
              "last_rech_amt_ma        0\n",
              "cnt_ma_rech30           0\n",
              "fr_ma_rech30            0\n",
              "sumamnt_ma_rech30       0\n",
              "medianamnt_ma_rech30    0\n",
              "medianmarechprebal30    0\n",
              "cnt_ma_rech90           0\n",
              "fr_ma_rech90            0\n",
              "sumamnt_ma_rech90       0\n",
              "medianamnt_ma_rech90    0\n",
              "medianmarechprebal90    0\n",
              "cnt_da_rech30           0\n",
              "fr_da_rech30            0\n",
              "cnt_da_rech90           0\n",
              "fr_da_rech90            0\n",
              "cnt_loans30             0\n",
              "amnt_loans30            0\n",
              "maxamnt_loans30         0\n",
              "medianamnt_loans30      0\n",
              "cnt_loans90             0\n",
              "amnt_loans90            0\n",
              "maxamnt_loans90         0\n",
              "medianamnt_loans90      0\n",
              "payback30               0\n",
              "payback90               0\n",
              "dtype: int64"
            ]
          },
          "metadata": {
            "tags": []
          },
          "execution_count": 36
        }
      ]
    },
    {
      "cell_type": "markdown",
      "metadata": {
        "id": "7sQHHqMAevmQ"
      },
      "source": [
        "There is no null values here in the dataset"
      ]
    },
    {
      "cell_type": "code",
      "metadata": {
        "id": "x88jO552evmR",
        "outputId": "874a0adf-c7f3-4d9a-bca7-1191942cf2b9",
        "colab": {
          "base_uri": "https://localhost:8080/",
          "height": 317
        }
      },
      "source": [
        "#statistical summary of the dataset\n",
        "credit.describe()"
      ],
      "execution_count": null,
      "outputs": [
        {
          "output_type": "execute_result",
          "data": {
            "text/html": [
              "<div>\n",
              "<style scoped>\n",
              "    .dataframe tbody tr th:only-of-type {\n",
              "        vertical-align: middle;\n",
              "    }\n",
              "\n",
              "    .dataframe tbody tr th {\n",
              "        vertical-align: top;\n",
              "    }\n",
              "\n",
              "    .dataframe thead th {\n",
              "        text-align: right;\n",
              "    }\n",
              "</style>\n",
              "<table border=\"1\" class=\"dataframe\">\n",
              "  <thead>\n",
              "    <tr style=\"text-align: right;\">\n",
              "      <th></th>\n",
              "      <th>label</th>\n",
              "      <th>aon</th>\n",
              "      <th>daily_decr30</th>\n",
              "      <th>daily_decr90</th>\n",
              "      <th>rental30</th>\n",
              "      <th>rental90</th>\n",
              "      <th>last_rech_date_ma</th>\n",
              "      <th>last_rech_date_da</th>\n",
              "      <th>last_rech_amt_ma</th>\n",
              "      <th>cnt_ma_rech30</th>\n",
              "      <th>fr_ma_rech30</th>\n",
              "      <th>sumamnt_ma_rech30</th>\n",
              "      <th>medianamnt_ma_rech30</th>\n",
              "      <th>medianmarechprebal30</th>\n",
              "      <th>cnt_ma_rech90</th>\n",
              "      <th>fr_ma_rech90</th>\n",
              "      <th>sumamnt_ma_rech90</th>\n",
              "      <th>medianamnt_ma_rech90</th>\n",
              "      <th>medianmarechprebal90</th>\n",
              "      <th>cnt_da_rech30</th>\n",
              "      <th>fr_da_rech30</th>\n",
              "      <th>cnt_da_rech90</th>\n",
              "      <th>fr_da_rech90</th>\n",
              "      <th>cnt_loans30</th>\n",
              "      <th>amnt_loans30</th>\n",
              "      <th>maxamnt_loans30</th>\n",
              "      <th>medianamnt_loans30</th>\n",
              "      <th>cnt_loans90</th>\n",
              "      <th>amnt_loans90</th>\n",
              "      <th>maxamnt_loans90</th>\n",
              "      <th>medianamnt_loans90</th>\n",
              "      <th>payback30</th>\n",
              "      <th>payback90</th>\n",
              "    </tr>\n",
              "  </thead>\n",
              "  <tbody>\n",
              "    <tr>\n",
              "      <th>count</th>\n",
              "      <td>209593.000000</td>\n",
              "      <td>209593.000000</td>\n",
              "      <td>209593.000000</td>\n",
              "      <td>209593.000000</td>\n",
              "      <td>209593.000000</td>\n",
              "      <td>209593.000000</td>\n",
              "      <td>209593.000000</td>\n",
              "      <td>209593.000000</td>\n",
              "      <td>209593.000000</td>\n",
              "      <td>209593.000000</td>\n",
              "      <td>209593.000000</td>\n",
              "      <td>209593.000000</td>\n",
              "      <td>209593.000000</td>\n",
              "      <td>209593.000000</td>\n",
              "      <td>209593.00000</td>\n",
              "      <td>209593.000000</td>\n",
              "      <td>209593.000000</td>\n",
              "      <td>209593.000000</td>\n",
              "      <td>209593.000000</td>\n",
              "      <td>209593.000000</td>\n",
              "      <td>209593.000000</td>\n",
              "      <td>209593.000000</td>\n",
              "      <td>209593.000000</td>\n",
              "      <td>209593.000000</td>\n",
              "      <td>209593.000000</td>\n",
              "      <td>209593.000000</td>\n",
              "      <td>209593.000000</td>\n",
              "      <td>209593.000000</td>\n",
              "      <td>209593.000000</td>\n",
              "      <td>209593.000000</td>\n",
              "      <td>209593.000000</td>\n",
              "      <td>209593.000000</td>\n",
              "      <td>209593.000000</td>\n",
              "    </tr>\n",
              "    <tr>\n",
              "      <th>mean</th>\n",
              "      <td>0.875177</td>\n",
              "      <td>8112.343445</td>\n",
              "      <td>5381.402289</td>\n",
              "      <td>6082.515068</td>\n",
              "      <td>2692.581910</td>\n",
              "      <td>3483.406534</td>\n",
              "      <td>3755.847800</td>\n",
              "      <td>3712.202921</td>\n",
              "      <td>2064.452797</td>\n",
              "      <td>3.978057</td>\n",
              "      <td>3737.355121</td>\n",
              "      <td>7704.501157</td>\n",
              "      <td>1812.817952</td>\n",
              "      <td>3851.927942</td>\n",
              "      <td>6.31543</td>\n",
              "      <td>7.716780</td>\n",
              "      <td>12396.218352</td>\n",
              "      <td>1864.595821</td>\n",
              "      <td>92.025541</td>\n",
              "      <td>262.578110</td>\n",
              "      <td>3749.494447</td>\n",
              "      <td>0.041495</td>\n",
              "      <td>0.045712</td>\n",
              "      <td>2.758981</td>\n",
              "      <td>17.952021</td>\n",
              "      <td>274.658747</td>\n",
              "      <td>0.054029</td>\n",
              "      <td>18.520919</td>\n",
              "      <td>23.645398</td>\n",
              "      <td>6.703134</td>\n",
              "      <td>0.046077</td>\n",
              "      <td>3.398826</td>\n",
              "      <td>4.321485</td>\n",
              "    </tr>\n",
              "    <tr>\n",
              "      <th>std</th>\n",
              "      <td>0.330519</td>\n",
              "      <td>75696.082531</td>\n",
              "      <td>9220.623400</td>\n",
              "      <td>10918.812767</td>\n",
              "      <td>4308.586781</td>\n",
              "      <td>5770.461279</td>\n",
              "      <td>53905.892230</td>\n",
              "      <td>53374.833430</td>\n",
              "      <td>2370.786034</td>\n",
              "      <td>4.256090</td>\n",
              "      <td>53643.625172</td>\n",
              "      <td>10139.621714</td>\n",
              "      <td>2070.864620</td>\n",
              "      <td>54006.374433</td>\n",
              "      <td>7.19347</td>\n",
              "      <td>12.590251</td>\n",
              "      <td>16857.793882</td>\n",
              "      <td>2081.680664</td>\n",
              "      <td>369.215658</td>\n",
              "      <td>4183.897978</td>\n",
              "      <td>53885.414979</td>\n",
              "      <td>0.397556</td>\n",
              "      <td>0.951386</td>\n",
              "      <td>2.554502</td>\n",
              "      <td>17.379741</td>\n",
              "      <td>4245.264648</td>\n",
              "      <td>0.218039</td>\n",
              "      <td>224.797423</td>\n",
              "      <td>26.469861</td>\n",
              "      <td>2.103864</td>\n",
              "      <td>0.200692</td>\n",
              "      <td>8.813729</td>\n",
              "      <td>10.308108</td>\n",
              "    </tr>\n",
              "    <tr>\n",
              "      <th>min</th>\n",
              "      <td>0.000000</td>\n",
              "      <td>-48.000000</td>\n",
              "      <td>-93.012667</td>\n",
              "      <td>-93.012667</td>\n",
              "      <td>-23737.140000</td>\n",
              "      <td>-24720.580000</td>\n",
              "      <td>-29.000000</td>\n",
              "      <td>-29.000000</td>\n",
              "      <td>0.000000</td>\n",
              "      <td>0.000000</td>\n",
              "      <td>0.000000</td>\n",
              "      <td>0.000000</td>\n",
              "      <td>0.000000</td>\n",
              "      <td>-200.000000</td>\n",
              "      <td>0.00000</td>\n",
              "      <td>0.000000</td>\n",
              "      <td>0.000000</td>\n",
              "      <td>0.000000</td>\n",
              "      <td>-200.000000</td>\n",
              "      <td>0.000000</td>\n",
              "      <td>0.000000</td>\n",
              "      <td>0.000000</td>\n",
              "      <td>0.000000</td>\n",
              "      <td>0.000000</td>\n",
              "      <td>0.000000</td>\n",
              "      <td>0.000000</td>\n",
              "      <td>0.000000</td>\n",
              "      <td>0.000000</td>\n",
              "      <td>0.000000</td>\n",
              "      <td>0.000000</td>\n",
              "      <td>0.000000</td>\n",
              "      <td>0.000000</td>\n",
              "      <td>0.000000</td>\n",
              "    </tr>\n",
              "    <tr>\n",
              "      <th>25%</th>\n",
              "      <td>1.000000</td>\n",
              "      <td>246.000000</td>\n",
              "      <td>42.440000</td>\n",
              "      <td>42.692000</td>\n",
              "      <td>280.420000</td>\n",
              "      <td>300.260000</td>\n",
              "      <td>1.000000</td>\n",
              "      <td>0.000000</td>\n",
              "      <td>770.000000</td>\n",
              "      <td>1.000000</td>\n",
              "      <td>0.000000</td>\n",
              "      <td>1540.000000</td>\n",
              "      <td>770.000000</td>\n",
              "      <td>11.000000</td>\n",
              "      <td>2.00000</td>\n",
              "      <td>0.000000</td>\n",
              "      <td>2317.000000</td>\n",
              "      <td>773.000000</td>\n",
              "      <td>14.600000</td>\n",
              "      <td>0.000000</td>\n",
              "      <td>0.000000</td>\n",
              "      <td>0.000000</td>\n",
              "      <td>0.000000</td>\n",
              "      <td>1.000000</td>\n",
              "      <td>6.000000</td>\n",
              "      <td>6.000000</td>\n",
              "      <td>0.000000</td>\n",
              "      <td>1.000000</td>\n",
              "      <td>6.000000</td>\n",
              "      <td>6.000000</td>\n",
              "      <td>0.000000</td>\n",
              "      <td>0.000000</td>\n",
              "      <td>0.000000</td>\n",
              "    </tr>\n",
              "    <tr>\n",
              "      <th>50%</th>\n",
              "      <td>1.000000</td>\n",
              "      <td>527.000000</td>\n",
              "      <td>1469.175667</td>\n",
              "      <td>1500.000000</td>\n",
              "      <td>1083.570000</td>\n",
              "      <td>1334.000000</td>\n",
              "      <td>3.000000</td>\n",
              "      <td>0.000000</td>\n",
              "      <td>1539.000000</td>\n",
              "      <td>3.000000</td>\n",
              "      <td>2.000000</td>\n",
              "      <td>4628.000000</td>\n",
              "      <td>1539.000000</td>\n",
              "      <td>33.900000</td>\n",
              "      <td>4.00000</td>\n",
              "      <td>2.000000</td>\n",
              "      <td>7226.000000</td>\n",
              "      <td>1539.000000</td>\n",
              "      <td>36.000000</td>\n",
              "      <td>0.000000</td>\n",
              "      <td>0.000000</td>\n",
              "      <td>0.000000</td>\n",
              "      <td>0.000000</td>\n",
              "      <td>2.000000</td>\n",
              "      <td>12.000000</td>\n",
              "      <td>6.000000</td>\n",
              "      <td>0.000000</td>\n",
              "      <td>2.000000</td>\n",
              "      <td>12.000000</td>\n",
              "      <td>6.000000</td>\n",
              "      <td>0.000000</td>\n",
              "      <td>0.000000</td>\n",
              "      <td>1.666667</td>\n",
              "    </tr>\n",
              "    <tr>\n",
              "      <th>75%</th>\n",
              "      <td>1.000000</td>\n",
              "      <td>982.000000</td>\n",
              "      <td>7244.000000</td>\n",
              "      <td>7802.790000</td>\n",
              "      <td>3356.940000</td>\n",
              "      <td>4201.790000</td>\n",
              "      <td>7.000000</td>\n",
              "      <td>0.000000</td>\n",
              "      <td>2309.000000</td>\n",
              "      <td>5.000000</td>\n",
              "      <td>6.000000</td>\n",
              "      <td>10010.000000</td>\n",
              "      <td>1924.000000</td>\n",
              "      <td>83.000000</td>\n",
              "      <td>8.00000</td>\n",
              "      <td>8.000000</td>\n",
              "      <td>16000.000000</td>\n",
              "      <td>1924.000000</td>\n",
              "      <td>79.310000</td>\n",
              "      <td>0.000000</td>\n",
              "      <td>0.000000</td>\n",
              "      <td>0.000000</td>\n",
              "      <td>0.000000</td>\n",
              "      <td>4.000000</td>\n",
              "      <td>24.000000</td>\n",
              "      <td>6.000000</td>\n",
              "      <td>0.000000</td>\n",
              "      <td>5.000000</td>\n",
              "      <td>30.000000</td>\n",
              "      <td>6.000000</td>\n",
              "      <td>0.000000</td>\n",
              "      <td>3.750000</td>\n",
              "      <td>4.500000</td>\n",
              "    </tr>\n",
              "    <tr>\n",
              "      <th>max</th>\n",
              "      <td>1.000000</td>\n",
              "      <td>999860.755168</td>\n",
              "      <td>265926.000000</td>\n",
              "      <td>320630.000000</td>\n",
              "      <td>198926.110000</td>\n",
              "      <td>200148.110000</td>\n",
              "      <td>998650.377733</td>\n",
              "      <td>999171.809410</td>\n",
              "      <td>55000.000000</td>\n",
              "      <td>203.000000</td>\n",
              "      <td>999606.368132</td>\n",
              "      <td>810096.000000</td>\n",
              "      <td>55000.000000</td>\n",
              "      <td>999479.419319</td>\n",
              "      <td>336.00000</td>\n",
              "      <td>88.000000</td>\n",
              "      <td>953036.000000</td>\n",
              "      <td>55000.000000</td>\n",
              "      <td>41456.500000</td>\n",
              "      <td>99914.441420</td>\n",
              "      <td>999809.240107</td>\n",
              "      <td>38.000000</td>\n",
              "      <td>64.000000</td>\n",
              "      <td>50.000000</td>\n",
              "      <td>306.000000</td>\n",
              "      <td>99864.560864</td>\n",
              "      <td>3.000000</td>\n",
              "      <td>4997.517944</td>\n",
              "      <td>438.000000</td>\n",
              "      <td>12.000000</td>\n",
              "      <td>3.000000</td>\n",
              "      <td>171.500000</td>\n",
              "      <td>171.500000</td>\n",
              "    </tr>\n",
              "  </tbody>\n",
              "</table>\n",
              "</div>"
            ],
            "text/plain": [
              "               label            aon  ...      payback30      payback90\n",
              "count  209593.000000  209593.000000  ...  209593.000000  209593.000000\n",
              "mean        0.875177    8112.343445  ...       3.398826       4.321485\n",
              "std         0.330519   75696.082531  ...       8.813729      10.308108\n",
              "min         0.000000     -48.000000  ...       0.000000       0.000000\n",
              "25%         1.000000     246.000000  ...       0.000000       0.000000\n",
              "50%         1.000000     527.000000  ...       0.000000       1.666667\n",
              "75%         1.000000     982.000000  ...       3.750000       4.500000\n",
              "max         1.000000  999860.755168  ...     171.500000     171.500000\n",
              "\n",
              "[8 rows x 33 columns]"
            ]
          },
          "metadata": {
            "tags": []
          },
          "execution_count": 37
        }
      ]
    },
    {
      "cell_type": "markdown",
      "metadata": {
        "id": "wO69KIibevmT"
      },
      "source": [
        "From the describe column,we see there is presence of outliers in each and every feature here,Lets apply z-score to reduce some"
      ]
    },
    {
      "cell_type": "code",
      "metadata": {
        "id": "9mgDx_1YevmT",
        "outputId": "026d0ad7-08fc-4a9b-9bae-fc7a734b956b",
        "colab": {
          "base_uri": "https://localhost:8080/"
        }
      },
      "source": [
        "#applying zscore\n",
        "from scipy.stats import zscore\n",
        "z=np.abs(zscore(credit))\n",
        "credit_new=credit[(z<3).all(axis=1)]\n",
        "credit_new.shape"
      ],
      "execution_count": null,
      "outputs": [
        {
          "output_type": "execute_result",
          "data": {
            "text/plain": [
              "(161465, 33)"
            ]
          },
          "metadata": {
            "tags": []
          },
          "execution_count": 38
        }
      ]
    },
    {
      "cell_type": "markdown",
      "metadata": {
        "id": "TClLPvBoevmV"
      },
      "source": [
        "We see after applying zscore,we get huge reduce in rows size and column too,so taking it as a primary dataset for processing"
      ]
    },
    {
      "cell_type": "code",
      "metadata": {
        "id": "SKy_OOtSevmW",
        "outputId": "ba1d24d0-aa2e-4b65-992f-e92358fe5400",
        "colab": {
          "base_uri": "https://localhost:8080/",
          "height": 439
        }
      },
      "source": [
        "credit=credit_new\n",
        "credit"
      ],
      "execution_count": null,
      "outputs": [
        {
          "output_type": "execute_result",
          "data": {
            "text/html": [
              "<div>\n",
              "<style scoped>\n",
              "    .dataframe tbody tr th:only-of-type {\n",
              "        vertical-align: middle;\n",
              "    }\n",
              "\n",
              "    .dataframe tbody tr th {\n",
              "        vertical-align: top;\n",
              "    }\n",
              "\n",
              "    .dataframe thead th {\n",
              "        text-align: right;\n",
              "    }\n",
              "</style>\n",
              "<table border=\"1\" class=\"dataframe\">\n",
              "  <thead>\n",
              "    <tr style=\"text-align: right;\">\n",
              "      <th></th>\n",
              "      <th>label</th>\n",
              "      <th>aon</th>\n",
              "      <th>daily_decr30</th>\n",
              "      <th>daily_decr90</th>\n",
              "      <th>rental30</th>\n",
              "      <th>rental90</th>\n",
              "      <th>last_rech_date_ma</th>\n",
              "      <th>last_rech_date_da</th>\n",
              "      <th>last_rech_amt_ma</th>\n",
              "      <th>cnt_ma_rech30</th>\n",
              "      <th>fr_ma_rech30</th>\n",
              "      <th>sumamnt_ma_rech30</th>\n",
              "      <th>medianamnt_ma_rech30</th>\n",
              "      <th>medianmarechprebal30</th>\n",
              "      <th>cnt_ma_rech90</th>\n",
              "      <th>fr_ma_rech90</th>\n",
              "      <th>sumamnt_ma_rech90</th>\n",
              "      <th>medianamnt_ma_rech90</th>\n",
              "      <th>medianmarechprebal90</th>\n",
              "      <th>cnt_da_rech30</th>\n",
              "      <th>fr_da_rech30</th>\n",
              "      <th>cnt_da_rech90</th>\n",
              "      <th>fr_da_rech90</th>\n",
              "      <th>cnt_loans30</th>\n",
              "      <th>amnt_loans30</th>\n",
              "      <th>maxamnt_loans30</th>\n",
              "      <th>medianamnt_loans30</th>\n",
              "      <th>cnt_loans90</th>\n",
              "      <th>amnt_loans90</th>\n",
              "      <th>maxamnt_loans90</th>\n",
              "      <th>medianamnt_loans90</th>\n",
              "      <th>payback30</th>\n",
              "      <th>payback90</th>\n",
              "    </tr>\n",
              "  </thead>\n",
              "  <tbody>\n",
              "    <tr>\n",
              "      <th>0</th>\n",
              "      <td>0</td>\n",
              "      <td>272.0</td>\n",
              "      <td>3055.050000</td>\n",
              "      <td>3065.150000</td>\n",
              "      <td>220.13</td>\n",
              "      <td>260.13</td>\n",
              "      <td>2.0</td>\n",
              "      <td>0.0</td>\n",
              "      <td>1539</td>\n",
              "      <td>2</td>\n",
              "      <td>21.0</td>\n",
              "      <td>3078.0</td>\n",
              "      <td>1539.0</td>\n",
              "      <td>7.50</td>\n",
              "      <td>2</td>\n",
              "      <td>21</td>\n",
              "      <td>3078</td>\n",
              "      <td>1539.0</td>\n",
              "      <td>7.50</td>\n",
              "      <td>0.0</td>\n",
              "      <td>0.0</td>\n",
              "      <td>0</td>\n",
              "      <td>0</td>\n",
              "      <td>2</td>\n",
              "      <td>12</td>\n",
              "      <td>6.0</td>\n",
              "      <td>0.0</td>\n",
              "      <td>2.0</td>\n",
              "      <td>12</td>\n",
              "      <td>6</td>\n",
              "      <td>0.0</td>\n",
              "      <td>29.000000</td>\n",
              "      <td>29.000000</td>\n",
              "    </tr>\n",
              "    <tr>\n",
              "      <th>1</th>\n",
              "      <td>1</td>\n",
              "      <td>712.0</td>\n",
              "      <td>12122.000000</td>\n",
              "      <td>12124.750000</td>\n",
              "      <td>3691.26</td>\n",
              "      <td>3691.26</td>\n",
              "      <td>20.0</td>\n",
              "      <td>0.0</td>\n",
              "      <td>5787</td>\n",
              "      <td>1</td>\n",
              "      <td>0.0</td>\n",
              "      <td>5787.0</td>\n",
              "      <td>5787.0</td>\n",
              "      <td>61.04</td>\n",
              "      <td>1</td>\n",
              "      <td>0</td>\n",
              "      <td>5787</td>\n",
              "      <td>5787.0</td>\n",
              "      <td>61.04</td>\n",
              "      <td>0.0</td>\n",
              "      <td>0.0</td>\n",
              "      <td>0</td>\n",
              "      <td>0</td>\n",
              "      <td>1</td>\n",
              "      <td>12</td>\n",
              "      <td>12.0</td>\n",
              "      <td>0.0</td>\n",
              "      <td>1.0</td>\n",
              "      <td>12</td>\n",
              "      <td>12</td>\n",
              "      <td>0.0</td>\n",
              "      <td>0.000000</td>\n",
              "      <td>0.000000</td>\n",
              "    </tr>\n",
              "    <tr>\n",
              "      <th>2</th>\n",
              "      <td>1</td>\n",
              "      <td>535.0</td>\n",
              "      <td>1398.000000</td>\n",
              "      <td>1398.000000</td>\n",
              "      <td>900.13</td>\n",
              "      <td>900.13</td>\n",
              "      <td>3.0</td>\n",
              "      <td>0.0</td>\n",
              "      <td>1539</td>\n",
              "      <td>1</td>\n",
              "      <td>0.0</td>\n",
              "      <td>1539.0</td>\n",
              "      <td>1539.0</td>\n",
              "      <td>66.32</td>\n",
              "      <td>1</td>\n",
              "      <td>0</td>\n",
              "      <td>1539</td>\n",
              "      <td>1539.0</td>\n",
              "      <td>66.32</td>\n",
              "      <td>0.0</td>\n",
              "      <td>0.0</td>\n",
              "      <td>0</td>\n",
              "      <td>0</td>\n",
              "      <td>1</td>\n",
              "      <td>6</td>\n",
              "      <td>6.0</td>\n",
              "      <td>0.0</td>\n",
              "      <td>1.0</td>\n",
              "      <td>6</td>\n",
              "      <td>6</td>\n",
              "      <td>0.0</td>\n",
              "      <td>0.000000</td>\n",
              "      <td>0.000000</td>\n",
              "    </tr>\n",
              "    <tr>\n",
              "      <th>3</th>\n",
              "      <td>1</td>\n",
              "      <td>241.0</td>\n",
              "      <td>21.228000</td>\n",
              "      <td>21.228000</td>\n",
              "      <td>159.42</td>\n",
              "      <td>159.42</td>\n",
              "      <td>41.0</td>\n",
              "      <td>0.0</td>\n",
              "      <td>947</td>\n",
              "      <td>0</td>\n",
              "      <td>0.0</td>\n",
              "      <td>0.0</td>\n",
              "      <td>0.0</td>\n",
              "      <td>0.00</td>\n",
              "      <td>1</td>\n",
              "      <td>0</td>\n",
              "      <td>947</td>\n",
              "      <td>947.0</td>\n",
              "      <td>2.50</td>\n",
              "      <td>0.0</td>\n",
              "      <td>0.0</td>\n",
              "      <td>0</td>\n",
              "      <td>0</td>\n",
              "      <td>2</td>\n",
              "      <td>12</td>\n",
              "      <td>6.0</td>\n",
              "      <td>0.0</td>\n",
              "      <td>2.0</td>\n",
              "      <td>12</td>\n",
              "      <td>6</td>\n",
              "      <td>0.0</td>\n",
              "      <td>0.000000</td>\n",
              "      <td>0.000000</td>\n",
              "    </tr>\n",
              "    <tr>\n",
              "      <th>4</th>\n",
              "      <td>1</td>\n",
              "      <td>947.0</td>\n",
              "      <td>150.619333</td>\n",
              "      <td>150.619333</td>\n",
              "      <td>1098.90</td>\n",
              "      <td>1098.90</td>\n",
              "      <td>4.0</td>\n",
              "      <td>0.0</td>\n",
              "      <td>2309</td>\n",
              "      <td>7</td>\n",
              "      <td>2.0</td>\n",
              "      <td>20029.0</td>\n",
              "      <td>2309.0</td>\n",
              "      <td>29.00</td>\n",
              "      <td>8</td>\n",
              "      <td>2</td>\n",
              "      <td>23496</td>\n",
              "      <td>2888.0</td>\n",
              "      <td>35.00</td>\n",
              "      <td>0.0</td>\n",
              "      <td>0.0</td>\n",
              "      <td>0</td>\n",
              "      <td>0</td>\n",
              "      <td>7</td>\n",
              "      <td>42</td>\n",
              "      <td>6.0</td>\n",
              "      <td>0.0</td>\n",
              "      <td>7.0</td>\n",
              "      <td>42</td>\n",
              "      <td>6</td>\n",
              "      <td>0.0</td>\n",
              "      <td>2.333333</td>\n",
              "      <td>2.333333</td>\n",
              "    </tr>\n",
              "    <tr>\n",
              "      <th>...</th>\n",
              "      <td>...</td>\n",
              "      <td>...</td>\n",
              "      <td>...</td>\n",
              "      <td>...</td>\n",
              "      <td>...</td>\n",
              "      <td>...</td>\n",
              "      <td>...</td>\n",
              "      <td>...</td>\n",
              "      <td>...</td>\n",
              "      <td>...</td>\n",
              "      <td>...</td>\n",
              "      <td>...</td>\n",
              "      <td>...</td>\n",
              "      <td>...</td>\n",
              "      <td>...</td>\n",
              "      <td>...</td>\n",
              "      <td>...</td>\n",
              "      <td>...</td>\n",
              "      <td>...</td>\n",
              "      <td>...</td>\n",
              "      <td>...</td>\n",
              "      <td>...</td>\n",
              "      <td>...</td>\n",
              "      <td>...</td>\n",
              "      <td>...</td>\n",
              "      <td>...</td>\n",
              "      <td>...</td>\n",
              "      <td>...</td>\n",
              "      <td>...</td>\n",
              "      <td>...</td>\n",
              "      <td>...</td>\n",
              "      <td>...</td>\n",
              "      <td>...</td>\n",
              "    </tr>\n",
              "    <tr>\n",
              "      <th>209588</th>\n",
              "      <td>1</td>\n",
              "      <td>404.0</td>\n",
              "      <td>151.872333</td>\n",
              "      <td>151.872333</td>\n",
              "      <td>1089.19</td>\n",
              "      <td>1089.19</td>\n",
              "      <td>1.0</td>\n",
              "      <td>0.0</td>\n",
              "      <td>4048</td>\n",
              "      <td>3</td>\n",
              "      <td>2.0</td>\n",
              "      <td>10404.0</td>\n",
              "      <td>3178.0</td>\n",
              "      <td>91.81</td>\n",
              "      <td>3</td>\n",
              "      <td>2</td>\n",
              "      <td>10404</td>\n",
              "      <td>3178.0</td>\n",
              "      <td>91.81</td>\n",
              "      <td>0.0</td>\n",
              "      <td>0.0</td>\n",
              "      <td>0</td>\n",
              "      <td>0</td>\n",
              "      <td>2</td>\n",
              "      <td>12</td>\n",
              "      <td>6.0</td>\n",
              "      <td>0.0</td>\n",
              "      <td>2.0</td>\n",
              "      <td>12</td>\n",
              "      <td>6</td>\n",
              "      <td>0.0</td>\n",
              "      <td>1.000000</td>\n",
              "      <td>1.000000</td>\n",
              "    </tr>\n",
              "    <tr>\n",
              "      <th>209589</th>\n",
              "      <td>1</td>\n",
              "      <td>1075.0</td>\n",
              "      <td>36.936000</td>\n",
              "      <td>36.936000</td>\n",
              "      <td>1728.36</td>\n",
              "      <td>1728.36</td>\n",
              "      <td>4.0</td>\n",
              "      <td>0.0</td>\n",
              "      <td>773</td>\n",
              "      <td>4</td>\n",
              "      <td>1.0</td>\n",
              "      <td>3092.0</td>\n",
              "      <td>773.0</td>\n",
              "      <td>161.30</td>\n",
              "      <td>6</td>\n",
              "      <td>2</td>\n",
              "      <td>4038</td>\n",
              "      <td>773.0</td>\n",
              "      <td>111.80</td>\n",
              "      <td>0.0</td>\n",
              "      <td>0.0</td>\n",
              "      <td>0</td>\n",
              "      <td>0</td>\n",
              "      <td>3</td>\n",
              "      <td>18</td>\n",
              "      <td>6.0</td>\n",
              "      <td>0.0</td>\n",
              "      <td>3.0</td>\n",
              "      <td>18</td>\n",
              "      <td>6</td>\n",
              "      <td>0.0</td>\n",
              "      <td>1.000000</td>\n",
              "      <td>1.000000</td>\n",
              "    </tr>\n",
              "    <tr>\n",
              "      <th>209590</th>\n",
              "      <td>1</td>\n",
              "      <td>1013.0</td>\n",
              "      <td>11843.111667</td>\n",
              "      <td>11904.350000</td>\n",
              "      <td>5861.83</td>\n",
              "      <td>8893.20</td>\n",
              "      <td>3.0</td>\n",
              "      <td>0.0</td>\n",
              "      <td>1539</td>\n",
              "      <td>5</td>\n",
              "      <td>8.0</td>\n",
              "      <td>9334.0</td>\n",
              "      <td>1539.0</td>\n",
              "      <td>51.13</td>\n",
              "      <td>11</td>\n",
              "      <td>5</td>\n",
              "      <td>18592</td>\n",
              "      <td>1539.0</td>\n",
              "      <td>47.13</td>\n",
              "      <td>0.0</td>\n",
              "      <td>0.0</td>\n",
              "      <td>0</td>\n",
              "      <td>0</td>\n",
              "      <td>4</td>\n",
              "      <td>42</td>\n",
              "      <td>12.0</td>\n",
              "      <td>0.0</td>\n",
              "      <td>6.0</td>\n",
              "      <td>54</td>\n",
              "      <td>12</td>\n",
              "      <td>0.0</td>\n",
              "      <td>4.000000</td>\n",
              "      <td>3.833333</td>\n",
              "    </tr>\n",
              "    <tr>\n",
              "      <th>209591</th>\n",
              "      <td>1</td>\n",
              "      <td>1732.0</td>\n",
              "      <td>12488.228333</td>\n",
              "      <td>12574.370000</td>\n",
              "      <td>411.83</td>\n",
              "      <td>984.58</td>\n",
              "      <td>2.0</td>\n",
              "      <td>38.0</td>\n",
              "      <td>773</td>\n",
              "      <td>5</td>\n",
              "      <td>4.0</td>\n",
              "      <td>12154.0</td>\n",
              "      <td>773.0</td>\n",
              "      <td>164.00</td>\n",
              "      <td>6</td>\n",
              "      <td>4</td>\n",
              "      <td>17941</td>\n",
              "      <td>2410.5</td>\n",
              "      <td>100.00</td>\n",
              "      <td>0.0</td>\n",
              "      <td>0.0</td>\n",
              "      <td>1</td>\n",
              "      <td>0</td>\n",
              "      <td>2</td>\n",
              "      <td>18</td>\n",
              "      <td>12.0</td>\n",
              "      <td>0.0</td>\n",
              "      <td>3.0</td>\n",
              "      <td>24</td>\n",
              "      <td>12</td>\n",
              "      <td>0.0</td>\n",
              "      <td>0.000000</td>\n",
              "      <td>10.500000</td>\n",
              "    </tr>\n",
              "    <tr>\n",
              "      <th>209592</th>\n",
              "      <td>1</td>\n",
              "      <td>1581.0</td>\n",
              "      <td>4489.362000</td>\n",
              "      <td>4534.820000</td>\n",
              "      <td>483.92</td>\n",
              "      <td>631.20</td>\n",
              "      <td>13.0</td>\n",
              "      <td>0.0</td>\n",
              "      <td>7526</td>\n",
              "      <td>2</td>\n",
              "      <td>1.0</td>\n",
              "      <td>9065.0</td>\n",
              "      <td>4532.5</td>\n",
              "      <td>356.70</td>\n",
              "      <td>3</td>\n",
              "      <td>19</td>\n",
              "      <td>16591</td>\n",
              "      <td>7526.0</td>\n",
              "      <td>392.20</td>\n",
              "      <td>0.0</td>\n",
              "      <td>0.0</td>\n",
              "      <td>0</td>\n",
              "      <td>0</td>\n",
              "      <td>2</td>\n",
              "      <td>18</td>\n",
              "      <td>12.0</td>\n",
              "      <td>0.0</td>\n",
              "      <td>2.0</td>\n",
              "      <td>18</td>\n",
              "      <td>12</td>\n",
              "      <td>0.0</td>\n",
              "      <td>0.000000</td>\n",
              "      <td>0.000000</td>\n",
              "    </tr>\n",
              "  </tbody>\n",
              "</table>\n",
              "<p>161465 rows × 33 columns</p>\n",
              "</div>"
            ],
            "text/plain": [
              "        label     aon  daily_decr30  ...  medianamnt_loans90  payback30  payback90\n",
              "0           0   272.0   3055.050000  ...                 0.0  29.000000  29.000000\n",
              "1           1   712.0  12122.000000  ...                 0.0   0.000000   0.000000\n",
              "2           1   535.0   1398.000000  ...                 0.0   0.000000   0.000000\n",
              "3           1   241.0     21.228000  ...                 0.0   0.000000   0.000000\n",
              "4           1   947.0    150.619333  ...                 0.0   2.333333   2.333333\n",
              "...       ...     ...           ...  ...                 ...        ...        ...\n",
              "209588      1   404.0    151.872333  ...                 0.0   1.000000   1.000000\n",
              "209589      1  1075.0     36.936000  ...                 0.0   1.000000   1.000000\n",
              "209590      1  1013.0  11843.111667  ...                 0.0   4.000000   3.833333\n",
              "209591      1  1732.0  12488.228333  ...                 0.0   0.000000  10.500000\n",
              "209592      1  1581.0   4489.362000  ...                 0.0   0.000000   0.000000\n",
              "\n",
              "[161465 rows x 33 columns]"
            ]
          },
          "metadata": {
            "tags": []
          },
          "execution_count": 39
        }
      ]
    },
    {
      "cell_type": "code",
      "metadata": {
        "id": "6GJ1O-l6evmY",
        "outputId": "da27dbcd-109f-4428-c351-2043a71f9b6b",
        "colab": {
          "base_uri": "https://localhost:8080/",
          "height": 296
        }
      },
      "source": [
        "sns.barplot('label','rental30',data=credit)"
      ],
      "execution_count": null,
      "outputs": [
        {
          "output_type": "execute_result",
          "data": {
            "text/plain": [
              "<matplotlib.axes._subplots.AxesSubplot at 0x7f0d535a8a20>"
            ]
          },
          "metadata": {
            "tags": []
          },
          "execution_count": 40
        },
        {
          "output_type": "display_data",
          "data": {
            "image/png": "[encoded data removed]",
            "text/plain": [
              "<Figure size 432x288 with 1 Axes>"
            ]
          },
          "metadata": {
            "tags": [],
            "needs_background": "light"
          }
        }
      ]
    },
    {
      "cell_type": "code",
      "metadata": {
        "id": "SAOT2npFevma",
        "outputId": "7b271666-45a5-4f62-8aff-85e747a36462",
        "colab": {
          "base_uri": "https://localhost:8080/",
          "height": 296
        }
      },
      "source": [
        "sns.scatterplot('rental30','rental90',data=credit)"
      ],
      "execution_count": null,
      "outputs": [
        {
          "output_type": "execute_result",
          "data": {
            "text/plain": [
              "<matplotlib.axes._subplots.AxesSubplot at 0x7f0d53576630>"
            ]
          },
          "metadata": {
            "tags": []
          },
          "execution_count": 41
        },
        {
          "output_type": "display_data",
          "data": {
            "image/png": "[encoded data removed]",
            "text/plain": [
              "<Figure size 432x288 with 1 Axes>"
            ]
          },
          "metadata": {
            "tags": [],
            "needs_background": "light"
          }
        }
      ]
    },
    {
      "cell_type": "code",
      "metadata": {
        "id": "V0ELpHVvevmc",
        "outputId": "f5f47336-dbcd-45a1-b499-7cadcb870f78",
        "colab": {
          "base_uri": "https://localhost:8080/",
          "height": 400
        }
      },
      "source": [
        "sns.heatmap(credit.corr())"
      ],
      "execution_count": null,
      "outputs": [
        {
          "output_type": "execute_result",
          "data": {
            "text/plain": [
              "<matplotlib.axes._subplots.AxesSubplot at 0x7f0d534d9be0>"
            ]
          },
          "metadata": {
            "tags": []
          },
          "execution_count": 42
        },
        {
          "output_type": "display_data",
          "data": {
            "image/png": "[encoded data removed]",
            "text/plain": [
              "<Figure size 432x288 with 2 Axes>"
            ]
          },
          "metadata": {
            "tags": [],
            "needs_background": "light"
          }
        }
      ]
    },
    {
      "cell_type": "code",
      "metadata": {
        "id": "HWyByMyBevmf"
      },
      "source": [
        "#from the correlation heatmap,we see there is a high correlation in two columns over all the features,lets drop it\n",
        "credit.drop(['fr_da_rech30','fr_da_rech90'],axis=1,inplace=True)"
      ],
      "execution_count": null,
      "outputs": []
    },
    {
      "cell_type": "markdown",
      "metadata": {
        "id": "FSq4uo1fevmh"
      },
      "source": [
        "#### Splitting independent and dependent variable"
      ]
    },
    {
      "cell_type": "code",
      "metadata": {
        "id": "1tdLEgojevmi",
        "outputId": "27f6d289-bec8-46ed-8dce-475028da06e9",
        "colab": {
          "base_uri": "https://localhost:8080/"
        }
      },
      "source": [
        "x=credit.iloc[:,1:]\n",
        "y=credit.iloc[:,0]\n",
        "print(x.shape)\n",
        "print(y.shape)"
      ],
      "execution_count": null,
      "outputs": [
        {
          "output_type": "stream",
          "text": [
            "(161465, 30)\n",
            "(161465,)\n"
          ],
          "name": "stdout"
        }
      ]
    },
    {
      "cell_type": "code",
      "metadata": {
        "id": "j8tNoKiIevmk"
      },
      "source": [
        "#splitting to train & test\n",
        "x_train,x_test,y_train,y_test=train_test_split(x,y,test_size=0.33)"
      ],
      "execution_count": null,
      "outputs": []
    },
    {
      "cell_type": "code",
      "metadata": {
        "id": "1B7FCsjJevml",
        "outputId": "65b55abb-edbc-487f-b995-a84683094a7d",
        "colab": {
          "base_uri": "https://localhost:8080/"
        }
      },
      "source": [
        "#applying logistic regression\n",
        "from sklearn.linear_model import LogisticRegression\n",
        "lr=LogisticRegression()\n",
        "lr.fit(x_train,y_train)\n",
        "pred=lr.predict(x_test)\n",
        "\n",
        "print('Confustion Matrix : \\n\\n', confusion_matrix(y_test,pred))\n",
        "print('\\n Accuracy Score : ', accuracy_score(y_test,pred))\n",
        "print('\\n Classification Report : \\n \\n', classification_report(y_test,pred))"
      ],
      "execution_count": null,
      "outputs": [
        {
          "output_type": "stream",
          "text": [
            "Confustion Matrix : \n",
            "\n",
            " [[  444  6863]\n",
            " [  343 45634]]\n",
            "\n",
            " Accuracy Score :  0.8647624052248329\n",
            "\n",
            " Classification Report : \n",
            " \n",
            "               precision    recall  f1-score   support\n",
            "\n",
            "           0       0.56      0.06      0.11      7307\n",
            "           1       0.87      0.99      0.93     45977\n",
            "\n",
            "    accuracy                           0.86     53284\n",
            "   macro avg       0.72      0.53      0.52     53284\n",
            "weighted avg       0.83      0.86      0.81     53284\n",
            "\n"
          ],
          "name": "stdout"
        }
      ]
    },
    {
      "cell_type": "code",
      "metadata": {
        "id": "0ASifJIjevmn"
      },
      "source": [
        "#roc_curve\n",
        "def roc(alg):\n",
        "    y_pred_prob=alg.predict_proba(x_test)[:,1]\n",
        "    fpr,tpr,thresholds=roc_curve(y_test,y_pred_prob)\n",
        "    plt.plot([0,1],[0,1],'k--')\n",
        "    plt.plot(fpr,tpr)\n",
        "    plt.xlabel('false_Positive_rate')\n",
        "    plt.ylabel('True positive rate')\n",
        "    plt.title(alg)\n",
        "    plt.show()\n",
        "    roc_score=roc_auc_score(y_test,alg.predict(x_test))\n",
        "    print('roc_auc_score=',roc_score)"
      ],
      "execution_count": null,
      "outputs": []
    },
    {
      "cell_type": "code",
      "metadata": {
        "id": "6dw7Qi17evmp",
        "outputId": "0d288784-7fc4-4b2c-c9e3-b068559b39bd",
        "colab": {
          "base_uri": "https://localhost:8080/",
          "height": 373
        }
      },
      "source": [
        "roc(lr)"
      ],
      "execution_count": null,
      "outputs": [
        {
          "output_type": "display_data",
          "data": {
            "image/png": "[encoded data removed]",
            "text/plain": [
              "<Figure size 432x288 with 1 Axes>"
            ]
          },
          "metadata": {
            "tags": [],
            "needs_background": "light"
          }
        },
        {
          "output_type": "stream",
          "text": [
            "roc_auc_score= 0.5266516997141087\n"
          ],
          "name": "stdout"
        }
      ]
    },
    {
      "cell_type": "markdown",
      "metadata": {
        "id": "lzVgqDvwevmr"
      },
      "source": [
        "##### We see in the start there is the imbalanced dataset we have,so there is the possibility of bias in the result of accuracy and roc auc score is very low"
      ]
    },
    {
      "cell_type": "markdown",
      "metadata": {
        "id": "Suqm-AFzhQGm"
      },
      "source": [
        "Lets apply Random Forest without any hyperparameter tuning"
      ]
    },
    {
      "cell_type": "code",
      "metadata": {
        "id": "H1YQf92Bevmr",
        "outputId": "8aa908e6-76f4-4534-ae49-a238a1d7b919",
        "colab": {
          "base_uri": "https://localhost:8080/"
        }
      },
      "source": [
        "#applying random forest,it considered preferred for imbalanced dataset\n",
        "from sklearn.ensemble import RandomForestClassifier\n",
        "rf=RandomForestClassifier()\n",
        "rf.fit(x_train,y_train)\n",
        "pred=rf.predict(x_test)\n",
        "\n",
        "print('Confustion Matrix : \\n\\n', confusion_matrix(y_test,pred))\n",
        "print('\\n Accuracy Score : ', accuracy_score(y_test,pred))\n",
        "print('\\n Classification Report : \\n \\n', classification_report(y_test,pred))"
      ],
      "execution_count": null,
      "outputs": [
        {
          "output_type": "stream",
          "text": [
            "Confustion Matrix : \n",
            "\n",
            " [[ 3511  3796]\n",
            " [ 1089 44888]]\n",
            "\n",
            " Accuracy Score :  0.9083214473387884\n",
            "\n",
            " Classification Report : \n",
            " \n",
            "               precision    recall  f1-score   support\n",
            "\n",
            "           0       0.76      0.48      0.59      7307\n",
            "           1       0.92      0.98      0.95     45977\n",
            "\n",
            "    accuracy                           0.91     53284\n",
            "   macro avg       0.84      0.73      0.77     53284\n",
            "weighted avg       0.90      0.91      0.90     53284\n",
            "\n"
          ],
          "name": "stdout"
        }
      ]
    },
    {
      "cell_type": "code",
      "metadata": {
        "id": "qdAAHbslevmu",
        "outputId": "8aa4185a-caab-44d8-b4d2-6a96a9d37b15",
        "colab": {
          "base_uri": "https://localhost:8080/",
          "height": 418
        }
      },
      "source": [
        "roc(rf)"
      ],
      "execution_count": null,
      "outputs": [
        {
          "output_type": "display_data",
          "data": {
            "image/png": "[encoded data removed]",
            "text/plain": [
              "<Figure size 432x288 with 1 Axes>"
            ]
          },
          "metadata": {
            "tags": [],
            "needs_background": "light"
          }
        },
        {
          "output_type": "stream",
          "text": [
            "roc_auc_score= 0.7284061982675547\n"
          ],
          "name": "stdout"
        }
      ]
    },
    {
      "cell_type": "markdown",
      "metadata": {
        "id": "06gmd8DCevmw"
      },
      "source": [
        "#### This seems to be a good technique but lets do some more operations"
      ]
    },
    {
      "cell_type": "markdown",
      "metadata": {
        "id": "-c0gg9AUevmw"
      },
      "source": [
        "### Under sampling"
      ]
    },
    {
      "cell_type": "markdown",
      "metadata": {
        "id": "A4sH_E_Kevmx"
      },
      "source": [
        "In under sampling, reduced the dataset size (records) of higher class to balanced the ratio. It reduced the size to dataset So it is not a good apporach for small dataset"
      ]
    },
    {
      "cell_type": "code",
      "metadata": {
        "id": "cngI4Qtyevmx",
        "outputId": "da748dff-b490-4bb6-feb1-f85c1a15ddd7",
        "colab": {
          "base_uri": "https://localhost:8080/"
        }
      },
      "source": [
        "from collections import Counter\n",
        "Counter(y_train)"
      ],
      "execution_count": null,
      "outputs": [
        {
          "output_type": "execute_result",
          "data": {
            "text/plain": [
              "Counter({0: 15093, 1: 93088})"
            ]
          },
          "metadata": {
            "tags": []
          },
          "execution_count": 51
        }
      ]
    },
    {
      "cell_type": "code",
      "metadata": {
        "id": "8-kHoE21evmz",
        "outputId": "aa8806f4-f889-4885-8cca-1fca1828f36d",
        "colab": {
          "base_uri": "https://localhost:8080/"
        }
      },
      "source": [
        "from imblearn.under_sampling import NearMiss\n",
        "\n",
        "ns=NearMiss(0.8)\n",
        "\n",
        "x_train_ns,y_train_ns=ns.fit_sample(x_train,y_train)\n",
        "\n",
        "print(\"The number of classes before fit {} \".format(Counter(y_train)))\n",
        "print(\"The number of classes after fit {} \".format(Counter(y_train_ns)))"
      ],
      "execution_count": null,
      "outputs": [
        {
          "output_type": "stream",
          "text": [
            "The number of classes before fit Counter({1: 93088, 0: 15093}) \n",
            "The number of classes after fit Counter({1: 18866, 0: 15093}) \n"
          ],
          "name": "stdout"
        }
      ]
    },
    {
      "cell_type": "code",
      "metadata": {
        "id": "RupTk9wWgEcp",
        "outputId": "cb5aba46-b81f-4937-e39e-3be51bf9248e",
        "colab": {
          "base_uri": "https://localhost:8080/"
        }
      },
      "source": [
        "ns_rf= RandomForestClassifier()\n",
        "\n",
        "ns_rf.fit(x_train_ns, y_train_ns)"
      ],
      "execution_count": null,
      "outputs": [
        {
          "output_type": "execute_result",
          "data": {
            "text/plain": [
              "RandomForestClassifier(bootstrap=True, ccp_alpha=0.0, class_weight=None,\n",
              "                       criterion='gini', max_depth=None, max_features='auto',\n",
              "                       max_leaf_nodes=None, max_samples=None,\n",
              "                       min_impurity_decrease=0.0, min_impurity_split=None,\n",
              "                       min_samples_leaf=1, min_samples_split=2,\n",
              "                       min_weight_fraction_leaf=0.0, n_estimators=100,\n",
              "                       n_jobs=None, oob_score=False, random_state=None,\n",
              "                       verbose=0, warm_start=False)"
            ]
          },
          "metadata": {
            "tags": []
          },
          "execution_count": 53
        }
      ]
    },
    {
      "cell_type": "code",
      "metadata": {
        "id": "3OyaY0FbgTRp",
        "outputId": "e8381ec2-fe0b-44af-bfe1-148f827ccffd",
        "colab": {
          "base_uri": "https://localhost:8080/"
        }
      },
      "source": [
        "y_pred=ns_rf.predict(x_test)\n",
        "\n",
        "print('Confustion Matrix : \\n\\n', confusion_matrix(y_test,y_pred))\n",
        "print('\\n Accuracy Score : ',   accuracy_score(y_test,y_pred))\n",
        "print('\\n Classification Report : \\n \\n', classification_report(y_test,y_pred))"
      ],
      "execution_count": null,
      "outputs": [
        {
          "output_type": "stream",
          "text": [
            "Confustion Matrix : \n",
            "\n",
            " [[ 5848  1459]\n",
            " [33893 12084]]\n",
            "\n",
            " Accuracy Score :  0.3365362960738683\n",
            "\n",
            " Classification Report : \n",
            " \n",
            "               precision    recall  f1-score   support\n",
            "\n",
            "           0       0.15      0.80      0.25      7307\n",
            "           1       0.89      0.26      0.41     45977\n",
            "\n",
            "    accuracy                           0.34     53284\n",
            "   macro avg       0.52      0.53      0.33     53284\n",
            "weighted avg       0.79      0.34      0.38     53284\n",
            "\n"
          ],
          "name": "stdout"
        }
      ]
    },
    {
      "cell_type": "code",
      "metadata": {
        "id": "XyZg0_qHgubN",
        "outputId": "772f5d53-01ab-4663-db6b-ca1b725a5f0f",
        "colab": {
          "base_uri": "https://localhost:8080/",
          "height": 418
        }
      },
      "source": [
        "roc(ns_rf)"
      ],
      "execution_count": null,
      "outputs": [
        {
          "output_type": "display_data",
          "data": {
            "image/png": "[encoded data removed]",
            "text/plain": [
              "<Figure size 432x288 with 1 Axes>"
            ]
          },
          "metadata": {
            "tags": [],
            "needs_background": "light"
          }
        },
        {
          "output_type": "stream",
          "text": [
            "roc_auc_score= 0.5315777589379596\n"
          ],
          "name": "stdout"
        }
      ]
    },
    {
      "cell_type": "markdown",
      "metadata": {
        "id": "AY0L3KKOho_3"
      },
      "source": [
        "#### Oversampling"
      ]
    },
    {
      "cell_type": "markdown",
      "metadata": {
        "id": "yeq9ZuuLhAMN"
      },
      "source": [
        "This is surely not a good model for the given data\n"
      ]
    },
    {
      "cell_type": "code",
      "metadata": {
        "id": "H0BJwOFDg0k3",
        "outputId": "bd682907-94f9-4613-e00a-39b05160a846",
        "colab": {
          "base_uri": "https://localhost:8080/"
        }
      },
      "source": [
        "from imblearn.over_sampling import RandomOverSampler\n",
        "\n",
        "os = RandomOverSampler(0.75)\n",
        "\n",
        "x_train_ns, y_train_ns = os.fit_sample(x_train, y_train)\n",
        "\n",
        "print(\"The number of classes before fit {}\".format(Counter(y_train)))\n",
        "print(\"The number of classes after fit {}\".format(Counter(y_train_ns)))"
      ],
      "execution_count": null,
      "outputs": [
        {
          "output_type": "stream",
          "text": [
            "The number of classes before fit Counter({1: 93088, 0: 15093})\n",
            "The number of classes after fit Counter({1: 93088, 0: 69816})\n"
          ],
          "name": "stdout"
        }
      ]
    },
    {
      "cell_type": "code",
      "metadata": {
        "id": "kPHzmcJlhipd",
        "outputId": "f4e23b41-5b91-4cd6-ce53-8c82212b82f1",
        "colab": {
          "base_uri": "https://localhost:8080/"
        }
      },
      "source": [
        "os_rf = RandomForestClassifier()\n",
        "\n",
        "os_rf.fit(x_train_ns, y_train_ns)"
      ],
      "execution_count": null,
      "outputs": [
        {
          "output_type": "execute_result",
          "data": {
            "text/plain": [
              "RandomForestClassifier(bootstrap=True, ccp_alpha=0.0, class_weight=None,\n",
              "                       criterion='gini', max_depth=None, max_features='auto',\n",
              "                       max_leaf_nodes=None, max_samples=None,\n",
              "                       min_impurity_decrease=0.0, min_impurity_split=None,\n",
              "                       min_samples_leaf=1, min_samples_split=2,\n",
              "                       min_weight_fraction_leaf=0.0, n_estimators=100,\n",
              "                       n_jobs=None, oob_score=False, random_state=None,\n",
              "                       verbose=0, warm_start=False)"
            ]
          },
          "metadata": {
            "tags": []
          },
          "execution_count": 57
        }
      ]
    },
    {
      "cell_type": "code",
      "metadata": {
        "id": "9loN9hr4h0OY",
        "outputId": "dd6cb1f7-8b12-4a9e-ddd6-7ce668a09e7a",
        "colab": {
          "base_uri": "https://localhost:8080/"
        }
      },
      "source": [
        "y_pred = os_rf.predict(x_test)\n",
        "\n",
        "print('Confustion Matrix : \\n\\n', confusion_matrix(y_test,y_pred))\n",
        "print('\\n Accuracy Score : ',   accuracy_score(y_test,y_pred))\n",
        "print('\\n Classification Report : \\n \\n', classification_report(y_test,y_pred))"
      ],
      "execution_count": null,
      "outputs": [
        {
          "output_type": "stream",
          "text": [
            "Confustion Matrix : \n",
            "\n",
            " [[ 3953  3354]\n",
            " [ 1673 44304]]\n",
            "\n",
            " Accuracy Score :  0.9056564822460776\n",
            "\n",
            " Classification Report : \n",
            " \n",
            "               precision    recall  f1-score   support\n",
            "\n",
            "           0       0.70      0.54      0.61      7307\n",
            "           1       0.93      0.96      0.95     45977\n",
            "\n",
            "    accuracy                           0.91     53284\n",
            "   macro avg       0.82      0.75      0.78     53284\n",
            "weighted avg       0.90      0.91      0.90     53284\n",
            "\n"
          ],
          "name": "stdout"
        }
      ]
    },
    {
      "cell_type": "code",
      "metadata": {
        "id": "vy17bJo7h_k1",
        "outputId": "34ca0b95-7d05-4d95-f114-005e19305bcb",
        "colab": {
          "base_uri": "https://localhost:8080/",
          "height": 418
        }
      },
      "source": [
        "roc(os_rf)"
      ],
      "execution_count": null,
      "outputs": [
        {
          "output_type": "display_data",
          "data": {
            "image/png": "[encoded data removed]",
            "text/plain": [
              "<Figure size 432x288 with 1 Axes>"
            ]
          },
          "metadata": {
            "tags": [],
            "needs_background": "light"
          }
        },
        {
          "output_type": "stream",
          "text": [
            "roc_auc_score= 0.7523001672559642\n"
          ],
          "name": "stdout"
        }
      ]
    },
    {
      "cell_type": "markdown",
      "metadata": {
        "id": "OYSifktYiRVj"
      },
      "source": [
        "#### This is best technique to handle the given imbalanced data."
      ]
    },
    {
      "cell_type": "markdown",
      "metadata": {
        "id": "g0KQniK1i9aE"
      },
      "source": [
        "### SMOTETomek"
      ]
    },
    {
      "cell_type": "code",
      "metadata": {
        "id": "HHO90ImwiIPB",
        "outputId": "3353b395-9223-4f4a-bd6e-5382964d5284",
        "colab": {
          "base_uri": "https://localhost:8080/"
        }
      },
      "source": [
        "from imblearn.combine import SMOTETomek\n",
        "\n",
        "smt = SMOTETomek(0.75)\n",
        "\n",
        "x_train_ns, y_train_ns = smt.fit_sample(x_train,y_train)\n",
        "\n",
        "print(\"The number of classes before fit {}\".format(Counter(y_train)))\n",
        "print(\"The number of classes after fit {}\".format(Counter(y_train_ns)))"
      ],
      "execution_count": null,
      "outputs": [
        {
          "output_type": "stream",
          "text": [
            "The number of classes before fit Counter({1: 93088, 0: 15093})\n",
            "The number of classes after fit Counter({1: 91074, 0: 67802})\n"
          ],
          "name": "stdout"
        }
      ]
    },
    {
      "cell_type": "code",
      "metadata": {
        "id": "21hY0EI-i7tx",
        "outputId": "389e1891-9e3e-4c6a-9613-aa90f06c9ef0",
        "colab": {
          "base_uri": "https://localhost:8080/"
        }
      },
      "source": [
        "smt_rf=RandomForestClassifier()\n",
        "smt_rf.fit(x_train_ns, y_train_ns)"
      ],
      "execution_count": null,
      "outputs": [
        {
          "output_type": "execute_result",
          "data": {
            "text/plain": [
              "RandomForestClassifier(bootstrap=True, ccp_alpha=0.0, class_weight=None,\n",
              "                       criterion='gini', max_depth=None, max_features='auto',\n",
              "                       max_leaf_nodes=None, max_samples=None,\n",
              "                       min_impurity_decrease=0.0, min_impurity_split=None,\n",
              "                       min_samples_leaf=1, min_samples_split=2,\n",
              "                       min_weight_fraction_leaf=0.0, n_estimators=100,\n",
              "                       n_jobs=None, oob_score=False, random_state=None,\n",
              "                       verbose=0, warm_start=False)"
            ]
          },
          "metadata": {
            "tags": []
          },
          "execution_count": 61
        }
      ]
    },
    {
      "cell_type": "code",
      "metadata": {
        "id": "-w_RgLlyjTba",
        "outputId": "38a9fc73-07d7-48b4-a6d8-b13c4ccd0799",
        "colab": {
          "base_uri": "https://localhost:8080/"
        }
      },
      "source": [
        "y_pred = smt_rf.predict(x_test)\n",
        "\n",
        "print('Confustion Matrix : \\n\\n', confusion_matrix(y_test,y_pred))\n",
        "print('\\n Accuracy Score : ',   accuracy_score(y_test,y_pred))\n",
        "print('\\n Classification Report : \\n \\n', classification_report(y_test,y_pred))"
      ],
      "execution_count": null,
      "outputs": [
        {
          "output_type": "stream",
          "text": [
            "Confustion Matrix : \n",
            "\n",
            " [[ 4197  3110]\n",
            " [ 2356 43621]]\n",
            "\n",
            " Accuracy Score :  0.8974176112904436\n",
            "\n",
            " Classification Report : \n",
            " \n",
            "               precision    recall  f1-score   support\n",
            "\n",
            "           0       0.64      0.57      0.61      7307\n",
            "           1       0.93      0.95      0.94     45977\n",
            "\n",
            "    accuracy                           0.90     53284\n",
            "   macro avg       0.79      0.76      0.77     53284\n",
            "weighted avg       0.89      0.90      0.90     53284\n",
            "\n"
          ],
          "name": "stdout"
        }
      ]
    },
    {
      "cell_type": "code",
      "metadata": {
        "id": "eKssTeDbjg0L",
        "outputId": "44434e4d-706e-4da6-e7a5-c582e6c8fe4f",
        "colab": {
          "base_uri": "https://localhost:8080/",
          "height": 418
        }
      },
      "source": [
        "roc(smt_rf)"
      ],
      "execution_count": null,
      "outputs": [
        {
          "output_type": "display_data",
          "data": {
            "image/png": "[encoded data removed]",
            "text/plain": [
              "<Figure size 432x288 with 1 Axes>"
            ]
          },
          "metadata": {
            "tags": [],
            "needs_background": "light"
          }
        },
        {
          "output_type": "stream",
          "text": [
            "roc_auc_score= 0.7615688589976617\n"
          ],
          "name": "stdout"
        }
      ]
    },
    {
      "cell_type": "markdown",
      "metadata": {
        "id": "3LQIupySjo0n"
      },
      "source": [
        "### This is also a good technique for the given data"
      ]
    },
    {
      "cell_type": "markdown",
      "metadata": {
        "id": "MNWifuujkr7n"
      },
      "source": [
        "### Conclusion"
      ]
    },
    {
      "cell_type": "markdown",
      "metadata": {
        "id": "vESx7CxLkw1_"
      },
      "source": [
        "#### Best Three techniques to handle this imbalanced dataset\n",
        "\n",
        "1. Over Sampling with Random Forest\n",
        "2. Random Forest with GridSearchCV\n",
        "3. SMOTETomek"
      ]
    }
  ]
}