{
 "cells": [
  {
   "cell_type": "markdown",
   "metadata": {},
   "source": [
    "## Automobile_insurance_fraud_dataset\n",
    "\n",
    "I have collected this dataset from the github link(https://github.com/dsrscientist/Data-Science-ML-Capstone-Projects).This datset has the information that the insurance done on the automobile is fraud or not.\n",
    "\n",
    "Importing numpy and pandas for data operations,matplotlib and seaborn for visualization process and sklearn libraries modules for data shaping and metrics evaluation."
   ]
  },
  {
   "cell_type": "code",
   "execution_count": 1,
   "metadata": {},
   "outputs": [],
   "source": [
    "#importing the required libraries and metrics\n",
    "import numpy as np\n",
    "import pandas as pd\n",
    "import matplotlib.pyplot as plt\n",
    "import seaborn as sns\n",
    "from sklearn.model_selection import train_test_split,cross_val_score,GridSearchCV\n",
    "from sklearn.metrics import accuracy_score,confusion_matrix,classification_report,roc_curve,roc_auc_score\n",
    "\n",
    "#importing warnings to suppress while execution\n",
    "import warnings\n",
    "warnings.filterwarnings('ignore')"
   ]
  },
  {
   "cell_type": "code",
   "execution_count": 2,
   "metadata": {},
   "outputs": [
    {
     "data": {
      "text/html": [
       "<div>\n",
       "<style scoped>\n",
       "    .dataframe tbody tr th:only-of-type {\n",
       "        vertical-align: middle;\n",
       "    }\n",
       "\n",
       "    .dataframe tbody tr th {\n",
       "        vertical-align: top;\n",
       "    }\n",
       "\n",
       "    .dataframe thead th {\n",
       "        text-align: right;\n",
       "    }\n",
       "</style>\n",
       "<table border=\"1\" class=\"dataframe\">\n",
       "  <thead>\n",
       "    <tr style=\"text-align: right;\">\n",
       "      <th></th>\n",
       "      <th>months_as_customer</th>\n",
       "      <th>age</th>\n",
       "      <th>policy_number</th>\n",
       "      <th>policy_bind_date</th>\n",
       "      <th>policy_state</th>\n",
       "      <th>policy_csl</th>\n",
       "      <th>policy_deductable</th>\n",
       "      <th>policy_annual_premium</th>\n",
       "      <th>umbrella_limit</th>\n",
       "      <th>insured_zip</th>\n",
       "      <th>...</th>\n",
       "      <th>police_report_available</th>\n",
       "      <th>total_claim_amount</th>\n",
       "      <th>injury_claim</th>\n",
       "      <th>property_claim</th>\n",
       "      <th>vehicle_claim</th>\n",
       "      <th>auto_make</th>\n",
       "      <th>auto_model</th>\n",
       "      <th>auto_year</th>\n",
       "      <th>fraud_reported</th>\n",
       "      <th>_c39</th>\n",
       "    </tr>\n",
       "  </thead>\n",
       "  <tbody>\n",
       "    <tr>\n",
       "      <td>0</td>\n",
       "      <td>328</td>\n",
       "      <td>48</td>\n",
       "      <td>521585</td>\n",
       "      <td>17-10-2014</td>\n",
       "      <td>OH</td>\n",
       "      <td>250/500</td>\n",
       "      <td>1000</td>\n",
       "      <td>1406.91</td>\n",
       "      <td>0</td>\n",
       "      <td>466132</td>\n",
       "      <td>...</td>\n",
       "      <td>YES</td>\n",
       "      <td>71610</td>\n",
       "      <td>6510</td>\n",
       "      <td>13020</td>\n",
       "      <td>52080</td>\n",
       "      <td>Saab</td>\n",
       "      <td>92x</td>\n",
       "      <td>2004</td>\n",
       "      <td>Y</td>\n",
       "      <td>NaN</td>\n",
       "    </tr>\n",
       "    <tr>\n",
       "      <td>1</td>\n",
       "      <td>228</td>\n",
       "      <td>42</td>\n",
       "      <td>342868</td>\n",
       "      <td>27-06-2006</td>\n",
       "      <td>IN</td>\n",
       "      <td>250/500</td>\n",
       "      <td>2000</td>\n",
       "      <td>1197.22</td>\n",
       "      <td>5000000</td>\n",
       "      <td>468176</td>\n",
       "      <td>...</td>\n",
       "      <td>?</td>\n",
       "      <td>5070</td>\n",
       "      <td>780</td>\n",
       "      <td>780</td>\n",
       "      <td>3510</td>\n",
       "      <td>Mercedes</td>\n",
       "      <td>E400</td>\n",
       "      <td>2007</td>\n",
       "      <td>Y</td>\n",
       "      <td>NaN</td>\n",
       "    </tr>\n",
       "    <tr>\n",
       "      <td>2</td>\n",
       "      <td>134</td>\n",
       "      <td>29</td>\n",
       "      <td>687698</td>\n",
       "      <td>06-09-2000</td>\n",
       "      <td>OH</td>\n",
       "      <td>100/300</td>\n",
       "      <td>2000</td>\n",
       "      <td>1413.14</td>\n",
       "      <td>5000000</td>\n",
       "      <td>430632</td>\n",
       "      <td>...</td>\n",
       "      <td>NO</td>\n",
       "      <td>34650</td>\n",
       "      <td>7700</td>\n",
       "      <td>3850</td>\n",
       "      <td>23100</td>\n",
       "      <td>Dodge</td>\n",
       "      <td>RAM</td>\n",
       "      <td>2007</td>\n",
       "      <td>N</td>\n",
       "      <td>NaN</td>\n",
       "    </tr>\n",
       "    <tr>\n",
       "      <td>3</td>\n",
       "      <td>256</td>\n",
       "      <td>41</td>\n",
       "      <td>227811</td>\n",
       "      <td>25-05-1990</td>\n",
       "      <td>IL</td>\n",
       "      <td>250/500</td>\n",
       "      <td>2000</td>\n",
       "      <td>1415.74</td>\n",
       "      <td>6000000</td>\n",
       "      <td>608117</td>\n",
       "      <td>...</td>\n",
       "      <td>NO</td>\n",
       "      <td>63400</td>\n",
       "      <td>6340</td>\n",
       "      <td>6340</td>\n",
       "      <td>50720</td>\n",
       "      <td>Chevrolet</td>\n",
       "      <td>Tahoe</td>\n",
       "      <td>2014</td>\n",
       "      <td>Y</td>\n",
       "      <td>NaN</td>\n",
       "    </tr>\n",
       "    <tr>\n",
       "      <td>4</td>\n",
       "      <td>228</td>\n",
       "      <td>44</td>\n",
       "      <td>367455</td>\n",
       "      <td>06-06-2014</td>\n",
       "      <td>IL</td>\n",
       "      <td>500/1000</td>\n",
       "      <td>1000</td>\n",
       "      <td>1583.91</td>\n",
       "      <td>6000000</td>\n",
       "      <td>610706</td>\n",
       "      <td>...</td>\n",
       "      <td>NO</td>\n",
       "      <td>6500</td>\n",
       "      <td>1300</td>\n",
       "      <td>650</td>\n",
       "      <td>4550</td>\n",
       "      <td>Accura</td>\n",
       "      <td>RSX</td>\n",
       "      <td>2009</td>\n",
       "      <td>N</td>\n",
       "      <td>NaN</td>\n",
       "    </tr>\n",
       "  </tbody>\n",
       "</table>\n",
       "<p>5 rows × 40 columns</p>\n",
       "</div>"
      ],
      "text/plain": [
       "   months_as_customer  age  policy_number policy_bind_date policy_state  \\\n",
       "0                 328   48         521585       17-10-2014           OH   \n",
       "1                 228   42         342868       27-06-2006           IN   \n",
       "2                 134   29         687698       06-09-2000           OH   \n",
       "3                 256   41         227811       25-05-1990           IL   \n",
       "4                 228   44         367455       06-06-2014           IL   \n",
       "\n",
       "  policy_csl  policy_deductable  policy_annual_premium  umbrella_limit  \\\n",
       "0    250/500               1000                1406.91               0   \n",
       "1    250/500               2000                1197.22         5000000   \n",
       "2    100/300               2000                1413.14         5000000   \n",
       "3    250/500               2000                1415.74         6000000   \n",
       "4   500/1000               1000                1583.91         6000000   \n",
       "\n",
       "   insured_zip  ... police_report_available total_claim_amount injury_claim  \\\n",
       "0       466132  ...                     YES              71610         6510   \n",
       "1       468176  ...                       ?               5070          780   \n",
       "2       430632  ...                      NO              34650         7700   \n",
       "3       608117  ...                      NO              63400         6340   \n",
       "4       610706  ...                      NO               6500         1300   \n",
       "\n",
       "  property_claim vehicle_claim  auto_make  auto_model auto_year  \\\n",
       "0          13020         52080       Saab         92x      2004   \n",
       "1            780          3510   Mercedes        E400      2007   \n",
       "2           3850         23100      Dodge         RAM      2007   \n",
       "3           6340         50720  Chevrolet       Tahoe      2014   \n",
       "4            650          4550     Accura         RSX      2009   \n",
       "\n",
       "  fraud_reported _c39  \n",
       "0              Y  NaN  \n",
       "1              Y  NaN  \n",
       "2              N  NaN  \n",
       "3              Y  NaN  \n",
       "4              N  NaN  \n",
       "\n",
       "[5 rows x 40 columns]"
      ]
     },
     "execution_count": 2,
     "metadata": {},
     "output_type": "execute_result"
    }
   ],
   "source": [
    "#accesing the datasets from the file folder\n",
    "c=pd.read_csv('C:/Users/hp/Downloads/Data-Science-ML-Capstone-Projects-master/Automobile_insurance_fraud.csv')\n",
    "fraud=pd.DataFrame(c)\n",
    "#take a look for the structure of the data\n",
    "fraud.head()"
   ]
  },
  {
   "cell_type": "code",
   "execution_count": 3,
   "metadata": {},
   "outputs": [
    {
     "name": "stdout",
     "output_type": "stream",
     "text": [
      "194    8\n",
      "285    7\n",
      "140    7\n",
      "230    7\n",
      "128    7\n",
      "      ..\n",
      "347    1\n",
      "113    1\n",
      "337    1\n",
      "117    1\n",
      "0      1\n",
      "Name: months_as_customer, Length: 391, dtype: int64\n",
      "43    49\n",
      "39    48\n",
      "41    45\n",
      "34    44\n",
      "30    42\n",
      "31    42\n",
      "38    42\n",
      "37    41\n",
      "33    39\n",
      "32    38\n",
      "40    38\n",
      "29    35\n",
      "46    33\n",
      "35    32\n",
      "36    32\n",
      "42    32\n",
      "44    32\n",
      "28    30\n",
      "45    26\n",
      "26    26\n",
      "48    25\n",
      "47    24\n",
      "27    24\n",
      "57    16\n",
      "25    14\n",
      "49    14\n",
      "55    14\n",
      "50    13\n",
      "53    13\n",
      "61    10\n",
      "24    10\n",
      "54    10\n",
      "60     9\n",
      "51     9\n",
      "58     8\n",
      "56     8\n",
      "23     7\n",
      "21     6\n",
      "59     5\n",
      "62     4\n",
      "52     4\n",
      "64     2\n",
      "63     2\n",
      "22     1\n",
      "20     1\n",
      "19     1\n",
      "Name: age, dtype: int64\n",
      "116735    1\n",
      "107181    1\n",
      "430794    1\n",
      "115399    1\n",
      "328387    1\n",
      "         ..\n",
      "218456    1\n",
      "179538    1\n",
      "357713    1\n",
      "247116    1\n",
      "296960    1\n",
      "Name: policy_number, Length: 1000, dtype: int64\n",
      "01-01-2006    3\n",
      "28-04-1992    3\n",
      "05-08-1992    3\n",
      "07-07-1996    2\n",
      "22-08-1991    2\n",
      "             ..\n",
      "14-01-2005    1\n",
      "17-09-1994    1\n",
      "13-11-2014    1\n",
      "16-05-2001    1\n",
      "27-02-1994    1\n",
      "Name: policy_bind_date, Length: 951, dtype: int64\n",
      "OH    352\n",
      "IL    338\n",
      "IN    310\n",
      "Name: policy_state, dtype: int64\n",
      "250/500     351\n",
      "100/300     349\n",
      "500/1000    300\n",
      "Name: policy_csl, dtype: int64\n",
      "1000    351\n",
      "500     342\n",
      "2000    307\n",
      "Name: policy_deductable, dtype: int64\n",
      "1374.22    2\n",
      "1558.29    2\n",
      "1389.13    2\n",
      "1073.83    2\n",
      "1074.07    2\n",
      "          ..\n",
      "1268.79    1\n",
      "1558.86    1\n",
      "722.66     1\n",
      "1302.40    1\n",
      "1212.00    1\n",
      "Name: policy_annual_premium, Length: 991, dtype: int64\n",
      " 0           798\n",
      " 6000000      57\n",
      " 5000000      46\n",
      " 4000000      39\n",
      " 7000000      29\n",
      " 3000000      12\n",
      " 8000000       8\n",
      " 9000000       5\n",
      " 2000000       3\n",
      " 10000000      2\n",
      "-1000000       1\n",
      "Name: umbrella_limit, dtype: int64\n",
      "446895    2\n",
      "456602    2\n",
      "477695    2\n",
      "469429    2\n",
      "431202    2\n",
      "         ..\n",
      "468313    1\n",
      "474360    1\n",
      "476502    1\n",
      "460895    1\n",
      "454656    1\n",
      "Name: insured_zip, Length: 995, dtype: int64\n",
      "FEMALE    537\n",
      "MALE      463\n",
      "Name: insured_sex, dtype: int64\n",
      "JD             161\n",
      "High School    160\n",
      "Associate      145\n",
      "MD             144\n",
      "Masters        143\n",
      "PhD            125\n",
      "College        122\n",
      "Name: insured_education_level, dtype: int64\n",
      "machine-op-inspct    93\n",
      "prof-specialty       85\n",
      "tech-support         78\n",
      "exec-managerial      76\n",
      "sales                76\n",
      "craft-repair         74\n",
      "transport-moving     72\n",
      "priv-house-serv      71\n",
      "other-service        71\n",
      "armed-forces         69\n",
      "adm-clerical         65\n",
      "protective-serv      63\n",
      "handlers-cleaners    54\n",
      "farming-fishing      53\n",
      "Name: insured_occupation, dtype: int64\n",
      "reading           64\n",
      "paintball         57\n",
      "exercise          57\n",
      "bungie-jumping    56\n",
      "camping           55\n",
      "golf              55\n",
      "movies            55\n",
      "kayaking          54\n",
      "yachting          53\n",
      "hiking            52\n",
      "video-games       50\n",
      "base-jumping      49\n",
      "skydiving         49\n",
      "board-games       48\n",
      "polo              47\n",
      "chess             46\n",
      "dancing           43\n",
      "sleeping          41\n",
      "cross-fit         35\n",
      "basketball        34\n",
      "Name: insured_hobbies, dtype: int64\n",
      "own-child         183\n",
      "other-relative    177\n",
      "not-in-family     174\n",
      "husband           170\n",
      "wife              155\n",
      "unmarried         141\n",
      "Name: insured_relationship, dtype: int64\n",
      "0         508\n",
      "46300       5\n",
      "68500       4\n",
      "51500       4\n",
      "48900       3\n",
      "         ... \n",
      "47700       1\n",
      "94800       1\n",
      "90700       1\n",
      "100500      1\n",
      "54800       1\n",
      "Name: capital-gains, Length: 338, dtype: int64\n",
      " 0        475\n",
      "-53700      5\n",
      "-50300      5\n",
      "-31700      5\n",
      "-49200      4\n",
      "         ... \n",
      "-32600      1\n",
      "-46800      1\n",
      "-50600      1\n",
      "-40800      1\n",
      "-43900      1\n",
      "Name: capital-loss, Length: 354, dtype: int64\n",
      "02-02-2015    28\n",
      "17-02-2015    26\n",
      "07-01-2015    25\n",
      "10-01-2015    24\n",
      "04-02-2015    24\n",
      "24-01-2015    24\n",
      "19-01-2015    23\n",
      "08-01-2015    22\n",
      "13-01-2015    21\n",
      "30-01-2015    21\n",
      "22-02-2015    20\n",
      "06-02-2015    20\n",
      "12-02-2015    20\n",
      "31-01-2015    20\n",
      "12-01-2015    19\n",
      "21-01-2015    19\n",
      "23-02-2015    19\n",
      "14-01-2015    19\n",
      "01-01-2015    19\n",
      "21-02-2015    19\n",
      "14-02-2015    18\n",
      "01-02-2015    18\n",
      "25-02-2015    18\n",
      "20-01-2015    18\n",
      "28-02-2015    18\n",
      "18-01-2015    18\n",
      "03-01-2015    18\n",
      "06-01-2015    17\n",
      "09-01-2015    17\n",
      "26-02-2015    17\n",
      "24-02-2015    17\n",
      "08-02-2015    17\n",
      "16-01-2015    16\n",
      "05-02-2015    16\n",
      "15-02-2015    16\n",
      "16-02-2015    16\n",
      "13-02-2015    16\n",
      "18-02-2015    15\n",
      "28-01-2015    15\n",
      "15-01-2015    15\n",
      "17-01-2015    15\n",
      "20-02-2015    14\n",
      "22-01-2015    14\n",
      "27-02-2015    14\n",
      "03-02-2015    13\n",
      "23-01-2015    13\n",
      "09-02-2015    13\n",
      "27-01-2015    13\n",
      "01-03-2015    12\n",
      "04-01-2015    12\n",
      "02-01-2015    11\n",
      "29-01-2015    11\n",
      "26-01-2015    11\n",
      "10-02-2015    10\n",
      "11-02-2015    10\n",
      "19-02-2015    10\n",
      "25-01-2015    10\n",
      "07-02-2015    10\n",
      "11-01-2015     9\n",
      "05-01-2015     7\n",
      "Name: incident_date, dtype: int64\n",
      "Multi-vehicle Collision     419\n",
      "Single Vehicle Collision    403\n",
      "Vehicle Theft                94\n",
      "Parked Car                   84\n",
      "Name: incident_type, dtype: int64\n",
      "Rear Collision     292\n",
      "Side Collision     276\n",
      "Front Collision    254\n",
      "?                  178\n",
      "Name: collision_type, dtype: int64\n",
      "Minor Damage      354\n",
      "Total Loss        280\n",
      "Major Damage      276\n",
      "Trivial Damage     90\n",
      "Name: incident_severity, dtype: int64\n",
      "Police       292\n",
      "Fire         223\n",
      "Other        198\n",
      "Ambulance    196\n",
      "None          91\n",
      "Name: authorities_contacted, dtype: int64\n",
      "NY    262\n",
      "SC    248\n",
      "WV    217\n",
      "NC    110\n",
      "VA    110\n",
      "PA     30\n",
      "OH     23\n",
      "Name: incident_state, dtype: int64\n",
      "Springfield    157\n",
      "Arlington      152\n",
      "Columbus       149\n",
      "Northbend      145\n",
      "Hillsdale      141\n",
      "Riverwood      134\n",
      "Northbrook     122\n",
      "Name: incident_city, dtype: int64\n",
      "9734 2nd Ridge           1\n",
      "8524 Pine Lane           1\n",
      "2617 Andromedia Drive    1\n",
      "5790 Flute Ridge         1\n",
      "7756 Pine Hwy            1\n",
      "                        ..\n",
      "1824 5th Lane            1\n",
      "7434 Oak Hwy             1\n",
      "6678 Weaver Drive        1\n",
      "3998 4th Hwy             1\n",
      "5483 Francis Drive       1\n",
      "Name: incident_location, Length: 1000, dtype: int64\n",
      "17    54\n",
      "3     53\n",
      "0     52\n",
      "23    51\n",
      "16    49\n",
      "4     46\n",
      "13    46\n",
      "10    46\n",
      "6     44\n",
      "9     43\n",
      "14    43\n",
      "21    42\n",
      "18    41\n",
      "7     40\n",
      "19    40\n",
      "12    40\n",
      "15    39\n",
      "22    38\n",
      "8     36\n",
      "20    34\n",
      "5     33\n",
      "2     31\n",
      "11    30\n",
      "1     29\n",
      "Name: incident_hour_of_the_day, dtype: int64\n",
      "1    581\n",
      "3    358\n",
      "4     31\n",
      "2     30\n",
      "Name: number_of_vehicles_involved, dtype: int64\n",
      "?      360\n",
      "NO     338\n",
      "YES    302\n",
      "Name: property_damage, dtype: int64\n",
      "0    340\n",
      "2    332\n",
      "1    328\n",
      "Name: bodily_injuries, dtype: int64\n",
      "1    258\n",
      "2    250\n",
      "0    249\n",
      "3    243\n",
      "Name: witnesses, dtype: int64\n",
      "?      343\n",
      "NO     343\n",
      "YES    314\n",
      "Name: police_report_available, dtype: int64\n",
      "59400    5\n",
      "75400    4\n",
      "60600    4\n",
      "2640     4\n",
      "58500    4\n",
      "        ..\n",
      "57970    1\n",
      "41580    1\n",
      "45180    1\n",
      "3690     1\n",
      "71680    1\n",
      "Name: total_claim_amount, Length: 763, dtype: int64\n",
      "0        25\n",
      "480       7\n",
      "640       7\n",
      "580       5\n",
      "6340      5\n",
      "         ..\n",
      "16820     1\n",
      "5960      1\n",
      "10840     1\n",
      "8000      1\n",
      "5530      1\n",
      "Name: injury_claim, Length: 638, dtype: int64\n",
      "0        19\n",
      "860       6\n",
      "660       5\n",
      "480       5\n",
      "10000     5\n",
      "         ..\n",
      "17880     1\n",
      "1500      1\n",
      "14080     1\n",
      "7850      1\n",
      "21630     1\n",
      "Name: property_claim, Length: 626, dtype: int64\n",
      "5040     7\n",
      "3360     6\n",
      "3600     5\n",
      "44800    5\n",
      "33600    5\n",
      "        ..\n",
      "46680    1\n",
      "3640     1\n",
      "34320    1\n",
      "40530    1\n",
      "51200    1\n",
      "Name: vehicle_claim, Length: 726, dtype: int64\n",
      "Saab          80\n",
      "Dodge         80\n",
      "Suburu        80\n",
      "Nissan        78\n",
      "Chevrolet     76\n",
      "Ford          72\n",
      "BMW           72\n",
      "Toyota        70\n",
      "Audi          69\n",
      "Accura        68\n",
      "Volkswagen    68\n",
      "Jeep          67\n",
      "Mercedes      65\n",
      "Honda         55\n",
      "Name: auto_make, dtype: int64\n",
      "RAM               43\n",
      "Wrangler          42\n",
      "A3                37\n",
      "Neon              37\n",
      "MDX               36\n",
      "Jetta             35\n",
      "Passat            33\n",
      "A5                32\n",
      "Legacy            32\n",
      "Pathfinder        31\n",
      "Malibu            30\n",
      "Camry             28\n",
      "Forrestor         28\n",
      "92x               28\n",
      "95                27\n",
      "E400              27\n",
      "F150              27\n",
      "93                25\n",
      "Grand Cherokee    25\n",
      "Tahoe             24\n",
      "Maxima            24\n",
      "Escape            24\n",
      "Ultima            23\n",
      "X5                23\n",
      "Silverado         22\n",
      "Civic             22\n",
      "Highlander        22\n",
      "Fusion            21\n",
      "Corolla           20\n",
      "Impreza           20\n",
      "CRV               20\n",
      "ML350             20\n",
      "TL                20\n",
      "3 Series          18\n",
      "C300              18\n",
      "X6                16\n",
      "M5                15\n",
      "Accord            13\n",
      "RSX               12\n",
      "Name: auto_model, dtype: int64\n",
      "1995    56\n",
      "1999    55\n",
      "2005    54\n",
      "2011    53\n",
      "2006    53\n",
      "2007    52\n",
      "2003    51\n",
      "2010    50\n",
      "2009    50\n",
      "2013    49\n",
      "2002    49\n",
      "2015    47\n",
      "1997    46\n",
      "2012    46\n",
      "2008    45\n",
      "2014    44\n",
      "2001    42\n",
      "2000    42\n",
      "1998    40\n",
      "2004    39\n",
      "1996    37\n",
      "Name: auto_year, dtype: int64\n",
      "N    753\n",
      "Y    247\n",
      "Name: fraud_reported, dtype: int64\n",
      "Series([], Name: _c39, dtype: int64)\n"
     ]
    }
   ],
   "source": [
    "#lets check for the unique value counts for each column\n",
    "for col in fraud.columns:\n",
    "    print(fraud[col].value_counts())"
   ]
  },
  {
   "cell_type": "markdown",
   "metadata": {},
   "source": [
    "from the value_counts,we get lot of information such as unnecessary columns,categorical columns and date columns,so lets start with dropping the unnecessary one s and then furthur operations."
   ]
  },
  {
   "cell_type": "code",
   "execution_count": 4,
   "metadata": {},
   "outputs": [],
   "source": [
    "fraud.drop(['policy_number','_c39','incident_location'],axis=1,inplace=True)"
   ]
  },
  {
   "cell_type": "code",
   "execution_count": 5,
   "metadata": {},
   "outputs": [
    {
     "data": {
      "text/plain": [
       "months_as_customer               int64\n",
       "age                              int64\n",
       "policy_bind_date                object\n",
       "policy_state                    object\n",
       "policy_csl                      object\n",
       "policy_deductable                int64\n",
       "policy_annual_premium          float64\n",
       "umbrella_limit                   int64\n",
       "insured_zip                      int64\n",
       "insured_sex                     object\n",
       "insured_education_level         object\n",
       "insured_occupation              object\n",
       "insured_hobbies                 object\n",
       "insured_relationship            object\n",
       "capital-gains                    int64\n",
       "capital-loss                     int64\n",
       "incident_date                   object\n",
       "incident_type                   object\n",
       "collision_type                  object\n",
       "incident_severity               object\n",
       "authorities_contacted           object\n",
       "incident_state                  object\n",
       "incident_city                   object\n",
       "incident_hour_of_the_day         int64\n",
       "number_of_vehicles_involved      int64\n",
       "property_damage                 object\n",
       "bodily_injuries                  int64\n",
       "witnesses                        int64\n",
       "police_report_available         object\n",
       "total_claim_amount               int64\n",
       "injury_claim                     int64\n",
       "property_claim                   int64\n",
       "vehicle_claim                    int64\n",
       "auto_make                       object\n",
       "auto_model                      object\n",
       "auto_year                        int64\n",
       "fraud_reported                  object\n",
       "dtype: object"
      ]
     },
     "execution_count": 5,
     "metadata": {},
     "output_type": "execute_result"
    }
   ],
   "source": [
    "fraud.dtypes"
   ]
  },
  {
   "cell_type": "markdown",
   "metadata": {},
   "source": [
    "we have two columns describe dates but in the object datatype,so i am going to retreive main info from them rather than changing its datatype"
   ]
  },
  {
   "cell_type": "code",
   "execution_count": 6,
   "metadata": {},
   "outputs": [
    {
     "data": {
      "text/plain": [
       "0      17-10-2014\n",
       "1      27-06-2006\n",
       "2      06-09-2000\n",
       "3      25-05-1990\n",
       "4      06-06-2014\n",
       "          ...    \n",
       "995    16-07-1991\n",
       "996    05-01-2014\n",
       "997    17-02-2003\n",
       "998    18-11-2011\n",
       "999    11-11-1996\n",
       "Name: policy_bind_date, Length: 1000, dtype: object"
      ]
     },
     "execution_count": 6,
     "metadata": {},
     "output_type": "execute_result"
    }
   ],
   "source": [
    "fraud['policy_bind_date']"
   ]
  },
  {
   "cell_type": "code",
   "execution_count": 7,
   "metadata": {},
   "outputs": [],
   "source": [
    "fraud['policy_bind_day']=fraud['policy_bind_date'].str.split('-').str[0].astype(int)\n",
    "fraud['policy_bind_month']=fraud['policy_bind_date'].str.split('-').str[1].astype(int)\n",
    "fraud['policy_bind_year']=fraud['policy_bind_date'].str.split('-').str[2].astype(int)"
   ]
  },
  {
   "cell_type": "code",
   "execution_count": 8,
   "metadata": {},
   "outputs": [
    {
     "data": {
      "text/plain": [
       "0      25-01-2015\n",
       "1      21-01-2015\n",
       "2      22-02-2015\n",
       "3      10-01-2015\n",
       "4      17-02-2015\n",
       "          ...    \n",
       "995    22-02-2015\n",
       "996    24-01-2015\n",
       "997    23-01-2015\n",
       "998    26-02-2015\n",
       "999    26-02-2015\n",
       "Name: incident_date, Length: 1000, dtype: object"
      ]
     },
     "execution_count": 8,
     "metadata": {},
     "output_type": "execute_result"
    }
   ],
   "source": [
    "fraud['incident_date']"
   ]
  },
  {
   "cell_type": "code",
   "execution_count": 9,
   "metadata": {},
   "outputs": [],
   "source": [
    "fraud['incident_day']=fraud['incident_date'].str.split('-').str[0].astype(int)\n",
    "fraud['incident_month']=fraud['incident_date'].str.split('-').str[1].astype(int)\n",
    "fraud['incident_year']=fraud['incident_date'].str.split('-').str[2].astype(int)"
   ]
  },
  {
   "cell_type": "markdown",
   "metadata": {},
   "source": [
    "Now lets drop these columns describing date"
   ]
  },
  {
   "cell_type": "code",
   "execution_count": 10,
   "metadata": {},
   "outputs": [],
   "source": [
    "fraud.drop(['policy_bind_date','incident_date'],axis=1,inplace=True)"
   ]
  },
  {
   "cell_type": "code",
   "execution_count": 11,
   "metadata": {},
   "outputs": [
    {
     "name": "stdout",
     "output_type": "stream",
     "text": [
      "OH    352\n",
      "IL    338\n",
      "IN    310\n",
      "Name: policy_state, dtype: int64\n",
      "250/500     351\n",
      "100/300     349\n",
      "500/1000    300\n",
      "Name: policy_csl, dtype: int64\n",
      "FEMALE    537\n",
      "MALE      463\n",
      "Name: insured_sex, dtype: int64\n",
      "JD             161\n",
      "High School    160\n",
      "Associate      145\n",
      "MD             144\n",
      "Masters        143\n",
      "PhD            125\n",
      "College        122\n",
      "Name: insured_education_level, dtype: int64\n",
      "machine-op-inspct    93\n",
      "prof-specialty       85\n",
      "tech-support         78\n",
      "exec-managerial      76\n",
      "sales                76\n",
      "craft-repair         74\n",
      "transport-moving     72\n",
      "priv-house-serv      71\n",
      "other-service        71\n",
      "armed-forces         69\n",
      "adm-clerical         65\n",
      "protective-serv      63\n",
      "handlers-cleaners    54\n",
      "farming-fishing      53\n",
      "Name: insured_occupation, dtype: int64\n",
      "reading           64\n",
      "paintball         57\n",
      "exercise          57\n",
      "bungie-jumping    56\n",
      "camping           55\n",
      "golf              55\n",
      "movies            55\n",
      "kayaking          54\n",
      "yachting          53\n",
      "hiking            52\n",
      "video-games       50\n",
      "base-jumping      49\n",
      "skydiving         49\n",
      "board-games       48\n",
      "polo              47\n",
      "chess             46\n",
      "dancing           43\n",
      "sleeping          41\n",
      "cross-fit         35\n",
      "basketball        34\n",
      "Name: insured_hobbies, dtype: int64\n",
      "own-child         183\n",
      "other-relative    177\n",
      "not-in-family     174\n",
      "husband           170\n",
      "wife              155\n",
      "unmarried         141\n",
      "Name: insured_relationship, dtype: int64\n",
      "Multi-vehicle Collision     419\n",
      "Single Vehicle Collision    403\n",
      "Vehicle Theft                94\n",
      "Parked Car                   84\n",
      "Name: incident_type, dtype: int64\n",
      "Rear Collision     292\n",
      "Side Collision     276\n",
      "Front Collision    254\n",
      "?                  178\n",
      "Name: collision_type, dtype: int64\n",
      "Minor Damage      354\n",
      "Total Loss        280\n",
      "Major Damage      276\n",
      "Trivial Damage     90\n",
      "Name: incident_severity, dtype: int64\n",
      "Police       292\n",
      "Fire         223\n",
      "Other        198\n",
      "Ambulance    196\n",
      "None          91\n",
      "Name: authorities_contacted, dtype: int64\n",
      "NY    262\n",
      "SC    248\n",
      "WV    217\n",
      "NC    110\n",
      "VA    110\n",
      "PA     30\n",
      "OH     23\n",
      "Name: incident_state, dtype: int64\n",
      "Springfield    157\n",
      "Arlington      152\n",
      "Columbus       149\n",
      "Northbend      145\n",
      "Hillsdale      141\n",
      "Riverwood      134\n",
      "Northbrook     122\n",
      "Name: incident_city, dtype: int64\n",
      "?      360\n",
      "NO     338\n",
      "YES    302\n",
      "Name: property_damage, dtype: int64\n",
      "?      343\n",
      "NO     343\n",
      "YES    314\n",
      "Name: police_report_available, dtype: int64\n",
      "Saab          80\n",
      "Dodge         80\n",
      "Suburu        80\n",
      "Nissan        78\n",
      "Chevrolet     76\n",
      "Ford          72\n",
      "BMW           72\n",
      "Toyota        70\n",
      "Audi          69\n",
      "Accura        68\n",
      "Volkswagen    68\n",
      "Jeep          67\n",
      "Mercedes      65\n",
      "Honda         55\n",
      "Name: auto_make, dtype: int64\n",
      "RAM               43\n",
      "Wrangler          42\n",
      "A3                37\n",
      "Neon              37\n",
      "MDX               36\n",
      "Jetta             35\n",
      "Passat            33\n",
      "A5                32\n",
      "Legacy            32\n",
      "Pathfinder        31\n",
      "Malibu            30\n",
      "Camry             28\n",
      "Forrestor         28\n",
      "92x               28\n",
      "95                27\n",
      "E400              27\n",
      "F150              27\n",
      "93                25\n",
      "Grand Cherokee    25\n",
      "Tahoe             24\n",
      "Maxima            24\n",
      "Escape            24\n",
      "Ultima            23\n",
      "X5                23\n",
      "Silverado         22\n",
      "Civic             22\n",
      "Highlander        22\n",
      "Fusion            21\n",
      "Corolla           20\n",
      "Impreza           20\n",
      "CRV               20\n",
      "ML350             20\n",
      "TL                20\n",
      "3 Series          18\n",
      "C300              18\n",
      "X6                16\n",
      "M5                15\n",
      "Accord            13\n",
      "RSX               12\n",
      "Name: auto_model, dtype: int64\n",
      "N    753\n",
      "Y    247\n",
      "Name: fraud_reported, dtype: int64\n"
     ]
    }
   ],
   "source": [
    "for col in fraud.columns:\n",
    "    if fraud[col].dtypes==object:\n",
    "        print(fraud[col].value_counts())"
   ]
  },
  {
   "cell_type": "markdown",
   "metadata": {},
   "source": [
    "Converting categorical columns to labels using LabelEncoder"
   ]
  },
  {
   "cell_type": "code",
   "execution_count": 12,
   "metadata": {},
   "outputs": [],
   "source": [
    "from sklearn.preprocessing import LabelEncoder\n",
    "le=LabelEncoder()\n",
    "for col in fraud.columns:\n",
    "    if fraud[col].dtypes==object:\n",
    "        fraud[col]=le.fit_transform(fraud[col].astype(str))"
   ]
  },
  {
   "cell_type": "code",
   "execution_count": 13,
   "metadata": {},
   "outputs": [
    {
     "data": {
      "text/html": [
       "<div>\n",
       "<style scoped>\n",
       "    .dataframe tbody tr th:only-of-type {\n",
       "        vertical-align: middle;\n",
       "    }\n",
       "\n",
       "    .dataframe tbody tr th {\n",
       "        vertical-align: top;\n",
       "    }\n",
       "\n",
       "    .dataframe thead th {\n",
       "        text-align: right;\n",
       "    }\n",
       "</style>\n",
       "<table border=\"1\" class=\"dataframe\">\n",
       "  <thead>\n",
       "    <tr style=\"text-align: right;\">\n",
       "      <th></th>\n",
       "      <th>months_as_customer</th>\n",
       "      <th>age</th>\n",
       "      <th>policy_state</th>\n",
       "      <th>policy_csl</th>\n",
       "      <th>policy_deductable</th>\n",
       "      <th>policy_annual_premium</th>\n",
       "      <th>umbrella_limit</th>\n",
       "      <th>insured_zip</th>\n",
       "      <th>insured_sex</th>\n",
       "      <th>insured_education_level</th>\n",
       "      <th>...</th>\n",
       "      <th>auto_make</th>\n",
       "      <th>auto_model</th>\n",
       "      <th>auto_year</th>\n",
       "      <th>fraud_reported</th>\n",
       "      <th>policy_bind_day</th>\n",
       "      <th>policy_bind_month</th>\n",
       "      <th>policy_bind_year</th>\n",
       "      <th>incident_day</th>\n",
       "      <th>incident_month</th>\n",
       "      <th>incident_year</th>\n",
       "    </tr>\n",
       "  </thead>\n",
       "  <tbody>\n",
       "    <tr>\n",
       "      <td>0</td>\n",
       "      <td>328</td>\n",
       "      <td>48</td>\n",
       "      <td>2</td>\n",
       "      <td>1</td>\n",
       "      <td>1000</td>\n",
       "      <td>1406.91</td>\n",
       "      <td>0</td>\n",
       "      <td>466132</td>\n",
       "      <td>1</td>\n",
       "      <td>4</td>\n",
       "      <td>...</td>\n",
       "      <td>10</td>\n",
       "      <td>1</td>\n",
       "      <td>2004</td>\n",
       "      <td>1</td>\n",
       "      <td>17</td>\n",
       "      <td>10</td>\n",
       "      <td>2014</td>\n",
       "      <td>25</td>\n",
       "      <td>1</td>\n",
       "      <td>2015</td>\n",
       "    </tr>\n",
       "    <tr>\n",
       "      <td>1</td>\n",
       "      <td>228</td>\n",
       "      <td>42</td>\n",
       "      <td>1</td>\n",
       "      <td>1</td>\n",
       "      <td>2000</td>\n",
       "      <td>1197.22</td>\n",
       "      <td>5000000</td>\n",
       "      <td>468176</td>\n",
       "      <td>1</td>\n",
       "      <td>4</td>\n",
       "      <td>...</td>\n",
       "      <td>8</td>\n",
       "      <td>12</td>\n",
       "      <td>2007</td>\n",
       "      <td>1</td>\n",
       "      <td>27</td>\n",
       "      <td>6</td>\n",
       "      <td>2006</td>\n",
       "      <td>21</td>\n",
       "      <td>1</td>\n",
       "      <td>2015</td>\n",
       "    </tr>\n",
       "    <tr>\n",
       "      <td>2</td>\n",
       "      <td>134</td>\n",
       "      <td>29</td>\n",
       "      <td>2</td>\n",
       "      <td>0</td>\n",
       "      <td>2000</td>\n",
       "      <td>1413.14</td>\n",
       "      <td>5000000</td>\n",
       "      <td>430632</td>\n",
       "      <td>0</td>\n",
       "      <td>6</td>\n",
       "      <td>...</td>\n",
       "      <td>4</td>\n",
       "      <td>30</td>\n",
       "      <td>2007</td>\n",
       "      <td>0</td>\n",
       "      <td>6</td>\n",
       "      <td>9</td>\n",
       "      <td>2000</td>\n",
       "      <td>22</td>\n",
       "      <td>2</td>\n",
       "      <td>2015</td>\n",
       "    </tr>\n",
       "    <tr>\n",
       "      <td>3</td>\n",
       "      <td>256</td>\n",
       "      <td>41</td>\n",
       "      <td>0</td>\n",
       "      <td>1</td>\n",
       "      <td>2000</td>\n",
       "      <td>1415.74</td>\n",
       "      <td>6000000</td>\n",
       "      <td>608117</td>\n",
       "      <td>0</td>\n",
       "      <td>6</td>\n",
       "      <td>...</td>\n",
       "      <td>3</td>\n",
       "      <td>34</td>\n",
       "      <td>2014</td>\n",
       "      <td>1</td>\n",
       "      <td>25</td>\n",
       "      <td>5</td>\n",
       "      <td>1990</td>\n",
       "      <td>10</td>\n",
       "      <td>1</td>\n",
       "      <td>2015</td>\n",
       "    </tr>\n",
       "    <tr>\n",
       "      <td>4</td>\n",
       "      <td>228</td>\n",
       "      <td>44</td>\n",
       "      <td>0</td>\n",
       "      <td>2</td>\n",
       "      <td>1000</td>\n",
       "      <td>1583.91</td>\n",
       "      <td>6000000</td>\n",
       "      <td>610706</td>\n",
       "      <td>1</td>\n",
       "      <td>0</td>\n",
       "      <td>...</td>\n",
       "      <td>0</td>\n",
       "      <td>31</td>\n",
       "      <td>2009</td>\n",
       "      <td>0</td>\n",
       "      <td>6</td>\n",
       "      <td>6</td>\n",
       "      <td>2014</td>\n",
       "      <td>17</td>\n",
       "      <td>2</td>\n",
       "      <td>2015</td>\n",
       "    </tr>\n",
       "  </tbody>\n",
       "</table>\n",
       "<p>5 rows × 41 columns</p>\n",
       "</div>"
      ],
      "text/plain": [
       "   months_as_customer  age  policy_state  policy_csl  policy_deductable  \\\n",
       "0                 328   48             2           1               1000   \n",
       "1                 228   42             1           1               2000   \n",
       "2                 134   29             2           0               2000   \n",
       "3                 256   41             0           1               2000   \n",
       "4                 228   44             0           2               1000   \n",
       "\n",
       "   policy_annual_premium  umbrella_limit  insured_zip  insured_sex  \\\n",
       "0                1406.91               0       466132            1   \n",
       "1                1197.22         5000000       468176            1   \n",
       "2                1413.14         5000000       430632            0   \n",
       "3                1415.74         6000000       608117            0   \n",
       "4                1583.91         6000000       610706            1   \n",
       "\n",
       "   insured_education_level  ...  auto_make  auto_model  auto_year  \\\n",
       "0                        4  ...         10           1       2004   \n",
       "1                        4  ...          8          12       2007   \n",
       "2                        6  ...          4          30       2007   \n",
       "3                        6  ...          3          34       2014   \n",
       "4                        0  ...          0          31       2009   \n",
       "\n",
       "   fraud_reported  policy_bind_day  policy_bind_month  policy_bind_year  \\\n",
       "0               1               17                 10              2014   \n",
       "1               1               27                  6              2006   \n",
       "2               0                6                  9              2000   \n",
       "3               1               25                  5              1990   \n",
       "4               0                6                  6              2014   \n",
       "\n",
       "   incident_day  incident_month  incident_year  \n",
       "0            25               1           2015  \n",
       "1            21               1           2015  \n",
       "2            22               2           2015  \n",
       "3            10               1           2015  \n",
       "4            17               2           2015  \n",
       "\n",
       "[5 rows x 41 columns]"
      ]
     },
     "execution_count": 13,
     "metadata": {},
     "output_type": "execute_result"
    }
   ],
   "source": [
    "#lets see the structure now\n",
    "fraud.head()"
   ]
  },
  {
   "cell_type": "code",
   "execution_count": 14,
   "metadata": {},
   "outputs": [
    {
     "data": {
      "text/plain": [
       "(1000, 41)"
      ]
     },
     "execution_count": 14,
     "metadata": {},
     "output_type": "execute_result"
    }
   ],
   "source": [
    "fraud.shape"
   ]
  },
  {
   "cell_type": "code",
   "execution_count": 15,
   "metadata": {},
   "outputs": [
    {
     "data": {
      "text/plain": [
       "0    753\n",
       "1    247\n",
       "Name: fraud_reported, dtype: int64"
      ]
     },
     "execution_count": 15,
     "metadata": {},
     "output_type": "execute_result"
    }
   ],
   "source": [
    "fraud['fraud_reported'].value_counts()"
   ]
  },
  {
   "cell_type": "markdown",
   "metadata": {},
   "source": [
    "Data Visualization"
   ]
  },
  {
   "cell_type": "code",
   "execution_count": 16,
   "metadata": {},
   "outputs": [
    {
     "data": {
      "text/plain": [
       "<matplotlib.axes._subplots.AxesSubplot at 0x202e917fac8>"
      ]
     },
     "execution_count": 16,
     "metadata": {},
     "output_type": "execute_result"
    },
    {
     "data": {
      "image/png": "[encoded data removed]",
      "text/plain": [
       "<Figure size 432x288 with 1 Axes>"
      ]
     },
     "metadata": {
      "needs_background": "light"
     },
     "output_type": "display_data"
    }
   ],
   "source": [
    "sns.barplot(x='fraud_reported',y='insured_sex',data=fraud)"
   ]
  },
  {
   "cell_type": "code",
   "execution_count": 17,
   "metadata": {},
   "outputs": [
    {
     "data": {
      "text/plain": [
       "<matplotlib.axes._subplots.AxesSubplot at 0x202e9554e08>"
      ]
     },
     "execution_count": 17,
     "metadata": {},
     "output_type": "execute_result"
    },
    {
     "data": {
      "image/png": "[encoded data removed]",
      "text/plain": [
       "<Figure size 432x288 with 1 Axes>"
      ]
     },
     "metadata": {
      "needs_background": "light"
     },
     "output_type": "display_data"
    }
   ],
   "source": [
    "sns.countplot(fraud['fraud_reported'])"
   ]
  },
  {
   "cell_type": "code",
   "execution_count": 18,
   "metadata": {},
   "outputs": [
    {
     "data": {
      "text/plain": [
       "<matplotlib.axes._subplots.AxesSubplot at 0x202e95de688>"
      ]
     },
     "execution_count": 18,
     "metadata": {},
     "output_type": "execute_result"
    },
    {
     "data": {
      "image/png": "[encoded data removed]",
      "text/plain": [
       "<Figure size 432x288 with 1 Axes>"
      ]
     },
     "metadata": {
      "needs_background": "light"
     },
     "output_type": "display_data"
    }
   ],
   "source": [
    "sns.lineplot(x='policy_bind_year',y='fraud_reported',data=fraud)"
   ]
  },
  {
   "cell_type": "code",
   "execution_count": 19,
   "metadata": {},
   "outputs": [
    {
     "data": {
      "text/plain": [
       "<matplotlib.axes._subplots.AxesSubplot at 0x202e96703c8>"
      ]
     },
     "execution_count": 19,
     "metadata": {},
     "output_type": "execute_result"
    },
    {
     "data": {
      "image/png": "[encoded data removed]",
      "text/plain": [
       "<Figure size 432x288 with 1 Axes>"
      ]
     },
     "metadata": {
      "needs_background": "light"
     },
     "output_type": "display_data"
    }
   ],
   "source": [
    "sns.lineplot(x='policy_bind_month',y='fraud_reported',data=fraud)"
   ]
  },
  {
   "cell_type": "code",
   "execution_count": 20,
   "metadata": {},
   "outputs": [
    {
     "data": {
      "text/plain": [
       "<matplotlib.axes._subplots.AxesSubplot at 0x202e96d94c8>"
      ]
     },
     "execution_count": 20,
     "metadata": {},
     "output_type": "execute_result"
    },
    {
     "data": {
      "image/png": "[encoded data removed]",
      "text/plain": [
       "<Figure size 432x288 with 1 Axes>"
      ]
     },
     "metadata": {
      "needs_background": "light"
     },
     "output_type": "display_data"
    }
   ],
   "source": [
    "sns.distplot(fraud['age'])"
   ]
  },
  {
   "cell_type": "code",
   "execution_count": 21,
   "metadata": {},
   "outputs": [
    {
     "data": {
      "text/plain": [
       "<matplotlib.axes._subplots.AxesSubplot at 0x202e9780ec8>"
      ]
     },
     "execution_count": 21,
     "metadata": {},
     "output_type": "execute_result"
    },
    {
     "data": {
      "image/png": "[encoded data removed]",
      "text/plain": [
       "<Figure size 432x288 with 1 Axes>"
      ]
     },
     "metadata": {
      "needs_background": "light"
     },
     "output_type": "display_data"
    }
   ],
   "source": [
    "#barplot for policy_deducted as compared to fraud reported\n",
    "sns.barplot(x='policy_deductable',y='fraud_reported',data=fraud)"
   ]
  },
  {
   "cell_type": "code",
   "execution_count": 22,
   "metadata": {},
   "outputs": [
    {
     "data": {
      "text/plain": [
       "<matplotlib.axes._subplots.AxesSubplot at 0x202e97d8c08>"
      ]
     },
     "execution_count": 22,
     "metadata": {},
     "output_type": "execute_result"
    },
    {
     "data": {
      "image/png": "[encoded data removed]",
      "text/plain": [
       "<Figure size 432x288 with 1 Axes>"
      ]
     },
     "metadata": {
      "needs_background": "light"
     },
     "output_type": "display_data"
    }
   ],
   "source": [
    "sns.countplot(fraud['policy_csl'])"
   ]
  },
  {
   "cell_type": "code",
   "execution_count": 23,
   "metadata": {},
   "outputs": [
    {
     "data": {
      "text/plain": [
       "<matplotlib.axes._subplots.AxesSubplot at 0x202e983ef88>"
      ]
     },
     "execution_count": 23,
     "metadata": {},
     "output_type": "execute_result"
    },
    {
     "data": {
      "image/png": "[encoded data removed]",
      "text/plain": [
       "<Figure size 432x288 with 1 Axes>"
      ]
     },
     "metadata": {
      "needs_background": "light"
     },
     "output_type": "display_data"
    }
   ],
   "source": [
    "#getting the counts for each policy state\n",
    "sns.countplot(fraud['policy_state'])"
   ]
  },
  {
   "cell_type": "code",
   "execution_count": 24,
   "metadata": {},
   "outputs": [
    {
     "data": {
      "text/plain": [
       "<seaborn.axisgrid.FacetGrid at 0x202e988f948>"
      ]
     },
     "execution_count": 24,
     "metadata": {},
     "output_type": "execute_result"
    },
    {
     "data": {
      "image/png": "[encoded data removed]",
      "text/plain": [
       "<Figure size 360x360 with 1 Axes>"
      ]
     },
     "metadata": {
      "needs_background": "light"
     },
     "output_type": "display_data"
    }
   ],
   "source": [
    "#plotting of catplot b/w policy deducted vs policy_aanual_premium\n",
    "sns.catplot(x='policy_deductable',y='policy_annual_premium',data=fraud)"
   ]
  },
  {
   "cell_type": "markdown",
   "metadata": {},
   "source": [
    "Getting the statistical summary of the data"
   ]
  },
  {
   "cell_type": "code",
   "execution_count": 25,
   "metadata": {},
   "outputs": [
    {
     "data": {
      "text/html": [
       "<div>\n",
       "<style scoped>\n",
       "    .dataframe tbody tr th:only-of-type {\n",
       "        vertical-align: middle;\n",
       "    }\n",
       "\n",
       "    .dataframe tbody tr th {\n",
       "        vertical-align: top;\n",
       "    }\n",
       "\n",
       "    .dataframe thead th {\n",
       "        text-align: right;\n",
       "    }\n",
       "</style>\n",
       "<table border=\"1\" class=\"dataframe\">\n",
       "  <thead>\n",
       "    <tr style=\"text-align: right;\">\n",
       "      <th></th>\n",
       "      <th>months_as_customer</th>\n",
       "      <th>age</th>\n",
       "      <th>policy_state</th>\n",
       "      <th>policy_csl</th>\n",
       "      <th>policy_deductable</th>\n",
       "      <th>policy_annual_premium</th>\n",
       "      <th>umbrella_limit</th>\n",
       "      <th>insured_zip</th>\n",
       "      <th>insured_sex</th>\n",
       "      <th>insured_education_level</th>\n",
       "      <th>...</th>\n",
       "      <th>auto_make</th>\n",
       "      <th>auto_model</th>\n",
       "      <th>auto_year</th>\n",
       "      <th>fraud_reported</th>\n",
       "      <th>policy_bind_day</th>\n",
       "      <th>policy_bind_month</th>\n",
       "      <th>policy_bind_year</th>\n",
       "      <th>incident_day</th>\n",
       "      <th>incident_month</th>\n",
       "      <th>incident_year</th>\n",
       "    </tr>\n",
       "  </thead>\n",
       "  <tbody>\n",
       "    <tr>\n",
       "      <td>count</td>\n",
       "      <td>1000.000000</td>\n",
       "      <td>1000.000000</td>\n",
       "      <td>1000.00000</td>\n",
       "      <td>1000.000000</td>\n",
       "      <td>1000.000000</td>\n",
       "      <td>1000.000000</td>\n",
       "      <td>1.000000e+03</td>\n",
       "      <td>1000.000000</td>\n",
       "      <td>1000.000000</td>\n",
       "      <td>1000.000000</td>\n",
       "      <td>...</td>\n",
       "      <td>1000.000000</td>\n",
       "      <td>1000.000000</td>\n",
       "      <td>1000.000000</td>\n",
       "      <td>1000.000000</td>\n",
       "      <td>1000.000000</td>\n",
       "      <td>1000.000000</td>\n",
       "      <td>1000.000000</td>\n",
       "      <td>1000.000000</td>\n",
       "      <td>1000.000000</td>\n",
       "      <td>1000.0</td>\n",
       "    </tr>\n",
       "    <tr>\n",
       "      <td>mean</td>\n",
       "      <td>203.954000</td>\n",
       "      <td>38.948000</td>\n",
       "      <td>1.01400</td>\n",
       "      <td>0.951000</td>\n",
       "      <td>1136.000000</td>\n",
       "      <td>1256.406150</td>\n",
       "      <td>1.101000e+06</td>\n",
       "      <td>501214.488000</td>\n",
       "      <td>0.463000</td>\n",
       "      <td>2.966000</td>\n",
       "      <td>...</td>\n",
       "      <td>6.546000</td>\n",
       "      <td>19.318000</td>\n",
       "      <td>2005.103000</td>\n",
       "      <td>0.247000</td>\n",
       "      <td>15.448000</td>\n",
       "      <td>6.559000</td>\n",
       "      <td>2001.604000</td>\n",
       "      <td>14.995000</td>\n",
       "      <td>1.496000</td>\n",
       "      <td>2015.0</td>\n",
       "    </tr>\n",
       "    <tr>\n",
       "      <td>std</td>\n",
       "      <td>115.113174</td>\n",
       "      <td>9.140287</td>\n",
       "      <td>0.83096</td>\n",
       "      <td>0.804516</td>\n",
       "      <td>611.864673</td>\n",
       "      <td>244.167395</td>\n",
       "      <td>2.297407e+06</td>\n",
       "      <td>71701.610941</td>\n",
       "      <td>0.498879</td>\n",
       "      <td>1.948497</td>\n",
       "      <td>...</td>\n",
       "      <td>4.034869</td>\n",
       "      <td>11.136107</td>\n",
       "      <td>6.015861</td>\n",
       "      <td>0.431483</td>\n",
       "      <td>8.808001</td>\n",
       "      <td>3.499824</td>\n",
       "      <td>7.360391</td>\n",
       "      <td>8.670995</td>\n",
       "      <td>0.523697</td>\n",
       "      <td>0.0</td>\n",
       "    </tr>\n",
       "    <tr>\n",
       "      <td>min</td>\n",
       "      <td>0.000000</td>\n",
       "      <td>19.000000</td>\n",
       "      <td>0.00000</td>\n",
       "      <td>0.000000</td>\n",
       "      <td>500.000000</td>\n",
       "      <td>433.330000</td>\n",
       "      <td>-1.000000e+06</td>\n",
       "      <td>430104.000000</td>\n",
       "      <td>0.000000</td>\n",
       "      <td>0.000000</td>\n",
       "      <td>...</td>\n",
       "      <td>0.000000</td>\n",
       "      <td>0.000000</td>\n",
       "      <td>1995.000000</td>\n",
       "      <td>0.000000</td>\n",
       "      <td>1.000000</td>\n",
       "      <td>1.000000</td>\n",
       "      <td>1990.000000</td>\n",
       "      <td>1.000000</td>\n",
       "      <td>1.000000</td>\n",
       "      <td>2015.0</td>\n",
       "    </tr>\n",
       "    <tr>\n",
       "      <td>25%</td>\n",
       "      <td>115.750000</td>\n",
       "      <td>32.000000</td>\n",
       "      <td>0.00000</td>\n",
       "      <td>0.000000</td>\n",
       "      <td>500.000000</td>\n",
       "      <td>1089.607500</td>\n",
       "      <td>0.000000e+00</td>\n",
       "      <td>448404.500000</td>\n",
       "      <td>0.000000</td>\n",
       "      <td>1.000000</td>\n",
       "      <td>...</td>\n",
       "      <td>3.000000</td>\n",
       "      <td>10.000000</td>\n",
       "      <td>2000.000000</td>\n",
       "      <td>0.000000</td>\n",
       "      <td>8.000000</td>\n",
       "      <td>3.000000</td>\n",
       "      <td>1995.000000</td>\n",
       "      <td>7.750000</td>\n",
       "      <td>1.000000</td>\n",
       "      <td>2015.0</td>\n",
       "    </tr>\n",
       "    <tr>\n",
       "      <td>50%</td>\n",
       "      <td>199.500000</td>\n",
       "      <td>38.000000</td>\n",
       "      <td>1.00000</td>\n",
       "      <td>1.000000</td>\n",
       "      <td>1000.000000</td>\n",
       "      <td>1257.200000</td>\n",
       "      <td>0.000000e+00</td>\n",
       "      <td>466445.500000</td>\n",
       "      <td>0.000000</td>\n",
       "      <td>3.000000</td>\n",
       "      <td>...</td>\n",
       "      <td>7.000000</td>\n",
       "      <td>20.000000</td>\n",
       "      <td>2005.000000</td>\n",
       "      <td>0.000000</td>\n",
       "      <td>16.000000</td>\n",
       "      <td>7.000000</td>\n",
       "      <td>2002.000000</td>\n",
       "      <td>15.000000</td>\n",
       "      <td>1.000000</td>\n",
       "      <td>2015.0</td>\n",
       "    </tr>\n",
       "    <tr>\n",
       "      <td>75%</td>\n",
       "      <td>276.250000</td>\n",
       "      <td>44.000000</td>\n",
       "      <td>2.00000</td>\n",
       "      <td>2.000000</td>\n",
       "      <td>2000.000000</td>\n",
       "      <td>1415.695000</td>\n",
       "      <td>0.000000e+00</td>\n",
       "      <td>603251.000000</td>\n",
       "      <td>1.000000</td>\n",
       "      <td>5.000000</td>\n",
       "      <td>...</td>\n",
       "      <td>10.000000</td>\n",
       "      <td>29.000000</td>\n",
       "      <td>2010.000000</td>\n",
       "      <td>0.000000</td>\n",
       "      <td>23.000000</td>\n",
       "      <td>10.000000</td>\n",
       "      <td>2008.000000</td>\n",
       "      <td>22.000000</td>\n",
       "      <td>2.000000</td>\n",
       "      <td>2015.0</td>\n",
       "    </tr>\n",
       "    <tr>\n",
       "      <td>max</td>\n",
       "      <td>479.000000</td>\n",
       "      <td>64.000000</td>\n",
       "      <td>2.00000</td>\n",
       "      <td>2.000000</td>\n",
       "      <td>2000.000000</td>\n",
       "      <td>2047.590000</td>\n",
       "      <td>1.000000e+07</td>\n",
       "      <td>620962.000000</td>\n",
       "      <td>1.000000</td>\n",
       "      <td>6.000000</td>\n",
       "      <td>...</td>\n",
       "      <td>13.000000</td>\n",
       "      <td>38.000000</td>\n",
       "      <td>2015.000000</td>\n",
       "      <td>1.000000</td>\n",
       "      <td>31.000000</td>\n",
       "      <td>12.000000</td>\n",
       "      <td>2015.000000</td>\n",
       "      <td>31.000000</td>\n",
       "      <td>3.000000</td>\n",
       "      <td>2015.0</td>\n",
       "    </tr>\n",
       "  </tbody>\n",
       "</table>\n",
       "<p>8 rows × 41 columns</p>\n",
       "</div>"
      ],
      "text/plain": [
       "       months_as_customer          age  policy_state   policy_csl  \\\n",
       "count         1000.000000  1000.000000    1000.00000  1000.000000   \n",
       "mean           203.954000    38.948000       1.01400     0.951000   \n",
       "std            115.113174     9.140287       0.83096     0.804516   \n",
       "min              0.000000    19.000000       0.00000     0.000000   \n",
       "25%            115.750000    32.000000       0.00000     0.000000   \n",
       "50%            199.500000    38.000000       1.00000     1.000000   \n",
       "75%            276.250000    44.000000       2.00000     2.000000   \n",
       "max            479.000000    64.000000       2.00000     2.000000   \n",
       "\n",
       "       policy_deductable  policy_annual_premium  umbrella_limit  \\\n",
       "count        1000.000000            1000.000000    1.000000e+03   \n",
       "mean         1136.000000            1256.406150    1.101000e+06   \n",
       "std           611.864673             244.167395    2.297407e+06   \n",
       "min           500.000000             433.330000   -1.000000e+06   \n",
       "25%           500.000000            1089.607500    0.000000e+00   \n",
       "50%          1000.000000            1257.200000    0.000000e+00   \n",
       "75%          2000.000000            1415.695000    0.000000e+00   \n",
       "max          2000.000000            2047.590000    1.000000e+07   \n",
       "\n",
       "         insured_zip  insured_sex  insured_education_level  ...    auto_make  \\\n",
       "count    1000.000000  1000.000000              1000.000000  ...  1000.000000   \n",
       "mean   501214.488000     0.463000                 2.966000  ...     6.546000   \n",
       "std     71701.610941     0.498879                 1.948497  ...     4.034869   \n",
       "min    430104.000000     0.000000                 0.000000  ...     0.000000   \n",
       "25%    448404.500000     0.000000                 1.000000  ...     3.000000   \n",
       "50%    466445.500000     0.000000                 3.000000  ...     7.000000   \n",
       "75%    603251.000000     1.000000                 5.000000  ...    10.000000   \n",
       "max    620962.000000     1.000000                 6.000000  ...    13.000000   \n",
       "\n",
       "        auto_model    auto_year  fraud_reported  policy_bind_day  \\\n",
       "count  1000.000000  1000.000000     1000.000000      1000.000000   \n",
       "mean     19.318000  2005.103000        0.247000        15.448000   \n",
       "std      11.136107     6.015861        0.431483         8.808001   \n",
       "min       0.000000  1995.000000        0.000000         1.000000   \n",
       "25%      10.000000  2000.000000        0.000000         8.000000   \n",
       "50%      20.000000  2005.000000        0.000000        16.000000   \n",
       "75%      29.000000  2010.000000        0.000000        23.000000   \n",
       "max      38.000000  2015.000000        1.000000        31.000000   \n",
       "\n",
       "       policy_bind_month  policy_bind_year  incident_day  incident_month  \\\n",
       "count        1000.000000       1000.000000   1000.000000     1000.000000   \n",
       "mean            6.559000       2001.604000     14.995000        1.496000   \n",
       "std             3.499824          7.360391      8.670995        0.523697   \n",
       "min             1.000000       1990.000000      1.000000        1.000000   \n",
       "25%             3.000000       1995.000000      7.750000        1.000000   \n",
       "50%             7.000000       2002.000000     15.000000        1.000000   \n",
       "75%            10.000000       2008.000000     22.000000        2.000000   \n",
       "max            12.000000       2015.000000     31.000000        3.000000   \n",
       "\n",
       "       incident_year  \n",
       "count         1000.0  \n",
       "mean          2015.0  \n",
       "std              0.0  \n",
       "min           2015.0  \n",
       "25%           2015.0  \n",
       "50%           2015.0  \n",
       "75%           2015.0  \n",
       "max           2015.0  \n",
       "\n",
       "[8 rows x 41 columns]"
      ]
     },
     "execution_count": 25,
     "metadata": {},
     "output_type": "execute_result"
    }
   ],
   "source": [
    "fraud.describe()"
   ]
  },
  {
   "cell_type": "markdown",
   "metadata": {},
   "source": [
    "In most of the column,we have mean and median value is in range,some of the column need to be scaled."
   ]
  },
  {
   "cell_type": "code",
   "execution_count": 26,
   "metadata": {},
   "outputs": [],
   "source": [
    "#lets drop the date attributes now\n",
    "fraud.drop(['policy_bind_day','policy_bind_month','policy_bind_year','incident_day','incident_month','incident_year','incident_hour_of_the_day','auto_year'],axis=1,inplace=True)"
   ]
  },
  {
   "cell_type": "code",
   "execution_count": 27,
   "metadata": {},
   "outputs": [
    {
     "data": {
      "text/html": [
       "<div>\n",
       "<style scoped>\n",
       "    .dataframe tbody tr th:only-of-type {\n",
       "        vertical-align: middle;\n",
       "    }\n",
       "\n",
       "    .dataframe tbody tr th {\n",
       "        vertical-align: top;\n",
       "    }\n",
       "\n",
       "    .dataframe thead th {\n",
       "        text-align: right;\n",
       "    }\n",
       "</style>\n",
       "<table border=\"1\" class=\"dataframe\">\n",
       "  <thead>\n",
       "    <tr style=\"text-align: right;\">\n",
       "      <th></th>\n",
       "      <th>months_as_customer</th>\n",
       "      <th>age</th>\n",
       "      <th>policy_state</th>\n",
       "      <th>policy_csl</th>\n",
       "      <th>policy_deductable</th>\n",
       "      <th>policy_annual_premium</th>\n",
       "      <th>umbrella_limit</th>\n",
       "      <th>insured_zip</th>\n",
       "      <th>insured_sex</th>\n",
       "      <th>insured_education_level</th>\n",
       "      <th>...</th>\n",
       "      <th>bodily_injuries</th>\n",
       "      <th>witnesses</th>\n",
       "      <th>police_report_available</th>\n",
       "      <th>total_claim_amount</th>\n",
       "      <th>injury_claim</th>\n",
       "      <th>property_claim</th>\n",
       "      <th>vehicle_claim</th>\n",
       "      <th>auto_make</th>\n",
       "      <th>auto_model</th>\n",
       "      <th>fraud_reported</th>\n",
       "    </tr>\n",
       "  </thead>\n",
       "  <tbody>\n",
       "    <tr>\n",
       "      <td>months_as_customer</td>\n",
       "      <td>1.000000</td>\n",
       "      <td>0.922098</td>\n",
       "      <td>-0.000328</td>\n",
       "      <td>-0.026819</td>\n",
       "      <td>0.026807</td>\n",
       "      <td>0.005018</td>\n",
       "      <td>0.015498</td>\n",
       "      <td>0.017895</td>\n",
       "      <td>0.060925</td>\n",
       "      <td>-0.000833</td>\n",
       "      <td>...</td>\n",
       "      <td>-0.010162</td>\n",
       "      <td>0.058383</td>\n",
       "      <td>0.017647</td>\n",
       "      <td>0.062108</td>\n",
       "      <td>0.065329</td>\n",
       "      <td>0.034940</td>\n",
       "      <td>0.061013</td>\n",
       "      <td>0.047655</td>\n",
       "      <td>0.004202</td>\n",
       "      <td>0.020544</td>\n",
       "    </tr>\n",
       "    <tr>\n",
       "      <td>age</td>\n",
       "      <td>0.922098</td>\n",
       "      <td>1.000000</td>\n",
       "      <td>-0.014533</td>\n",
       "      <td>-0.015185</td>\n",
       "      <td>0.029188</td>\n",
       "      <td>0.014404</td>\n",
       "      <td>0.018126</td>\n",
       "      <td>0.025604</td>\n",
       "      <td>0.073337</td>\n",
       "      <td>0.000969</td>\n",
       "      <td>...</td>\n",
       "      <td>-0.015679</td>\n",
       "      <td>0.052359</td>\n",
       "      <td>0.014661</td>\n",
       "      <td>0.069863</td>\n",
       "      <td>0.075522</td>\n",
       "      <td>0.060898</td>\n",
       "      <td>0.062588</td>\n",
       "      <td>0.030410</td>\n",
       "      <td>0.017343</td>\n",
       "      <td>0.012143</td>\n",
       "    </tr>\n",
       "    <tr>\n",
       "      <td>policy_state</td>\n",
       "      <td>-0.000328</td>\n",
       "      <td>-0.014533</td>\n",
       "      <td>1.000000</td>\n",
       "      <td>0.001027</td>\n",
       "      <td>0.010033</td>\n",
       "      <td>0.012455</td>\n",
       "      <td>-0.029580</td>\n",
       "      <td>0.008777</td>\n",
       "      <td>-0.020481</td>\n",
       "      <td>-0.034327</td>\n",
       "      <td>...</td>\n",
       "      <td>0.013384</td>\n",
       "      <td>0.022960</td>\n",
       "      <td>0.071950</td>\n",
       "      <td>-0.006002</td>\n",
       "      <td>-0.046290</td>\n",
       "      <td>0.008406</td>\n",
       "      <td>0.001425</td>\n",
       "      <td>0.017124</td>\n",
       "      <td>-0.025253</td>\n",
       "      <td>0.029432</td>\n",
       "    </tr>\n",
       "    <tr>\n",
       "      <td>policy_csl</td>\n",
       "      <td>-0.026819</td>\n",
       "      <td>-0.015185</td>\n",
       "      <td>0.001027</td>\n",
       "      <td>1.000000</td>\n",
       "      <td>0.003384</td>\n",
       "      <td>0.023978</td>\n",
       "      <td>0.021636</td>\n",
       "      <td>0.006879</td>\n",
       "      <td>-0.010757</td>\n",
       "      <td>0.009153</td>\n",
       "      <td>...</td>\n",
       "      <td>-0.000595</td>\n",
       "      <td>0.071500</td>\n",
       "      <td>0.002424</td>\n",
       "      <td>-0.055758</td>\n",
       "      <td>-0.078818</td>\n",
       "      <td>-0.042216</td>\n",
       "      <td>-0.046791</td>\n",
       "      <td>-0.004701</td>\n",
       "      <td>0.047885</td>\n",
       "      <td>-0.037190</td>\n",
       "    </tr>\n",
       "    <tr>\n",
       "      <td>policy_deductable</td>\n",
       "      <td>0.026807</td>\n",
       "      <td>0.029188</td>\n",
       "      <td>0.010033</td>\n",
       "      <td>0.003384</td>\n",
       "      <td>1.000000</td>\n",
       "      <td>-0.003245</td>\n",
       "      <td>0.010870</td>\n",
       "      <td>0.004545</td>\n",
       "      <td>-0.009733</td>\n",
       "      <td>0.015217</td>\n",
       "      <td>...</td>\n",
       "      <td>-0.022765</td>\n",
       "      <td>0.066639</td>\n",
       "      <td>0.030166</td>\n",
       "      <td>0.022839</td>\n",
       "      <td>0.039107</td>\n",
       "      <td>0.064792</td>\n",
       "      <td>0.005269</td>\n",
       "      <td>-0.035379</td>\n",
       "      <td>-0.003268</td>\n",
       "      <td>0.014817</td>\n",
       "    </tr>\n",
       "    <tr>\n",
       "      <td>policy_annual_premium</td>\n",
       "      <td>0.005018</td>\n",
       "      <td>0.014404</td>\n",
       "      <td>0.012455</td>\n",
       "      <td>0.023978</td>\n",
       "      <td>-0.003245</td>\n",
       "      <td>1.000000</td>\n",
       "      <td>-0.006247</td>\n",
       "      <td>0.032354</td>\n",
       "      <td>0.038853</td>\n",
       "      <td>-0.019715</td>\n",
       "      <td>...</td>\n",
       "      <td>0.026780</td>\n",
       "      <td>0.002332</td>\n",
       "      <td>0.013624</td>\n",
       "      <td>0.009094</td>\n",
       "      <td>-0.017633</td>\n",
       "      <td>-0.011654</td>\n",
       "      <td>0.020246</td>\n",
       "      <td>0.000045</td>\n",
       "      <td>-0.031849</td>\n",
       "      <td>-0.014480</td>\n",
       "    </tr>\n",
       "    <tr>\n",
       "      <td>umbrella_limit</td>\n",
       "      <td>0.015498</td>\n",
       "      <td>0.018126</td>\n",
       "      <td>-0.029580</td>\n",
       "      <td>0.021636</td>\n",
       "      <td>0.010870</td>\n",
       "      <td>-0.006247</td>\n",
       "      <td>1.000000</td>\n",
       "      <td>0.019671</td>\n",
       "      <td>0.010688</td>\n",
       "      <td>-0.019357</td>\n",
       "      <td>...</td>\n",
       "      <td>0.022743</td>\n",
       "      <td>-0.006738</td>\n",
       "      <td>-0.055951</td>\n",
       "      <td>-0.040344</td>\n",
       "      <td>-0.045412</td>\n",
       "      <td>-0.023790</td>\n",
       "      <td>-0.038584</td>\n",
       "      <td>-0.004443</td>\n",
       "      <td>0.040256</td>\n",
       "      <td>0.058622</td>\n",
       "    </tr>\n",
       "    <tr>\n",
       "      <td>insured_zip</td>\n",
       "      <td>0.017895</td>\n",
       "      <td>0.025604</td>\n",
       "      <td>0.008777</td>\n",
       "      <td>0.006879</td>\n",
       "      <td>0.004545</td>\n",
       "      <td>0.032354</td>\n",
       "      <td>0.019671</td>\n",
       "      <td>1.000000</td>\n",
       "      <td>-0.036942</td>\n",
       "      <td>0.016079</td>\n",
       "      <td>...</td>\n",
       "      <td>0.028695</td>\n",
       "      <td>0.019805</td>\n",
       "      <td>-0.017607</td>\n",
       "      <td>-0.033873</td>\n",
       "      <td>-0.017495</td>\n",
       "      <td>-0.006841</td>\n",
       "      <td>-0.041083</td>\n",
       "      <td>-0.020892</td>\n",
       "      <td>0.023637</td>\n",
       "      <td>0.019368</td>\n",
       "    </tr>\n",
       "    <tr>\n",
       "      <td>insured_sex</td>\n",
       "      <td>0.060925</td>\n",
       "      <td>0.073337</td>\n",
       "      <td>-0.020481</td>\n",
       "      <td>-0.010757</td>\n",
       "      <td>-0.009733</td>\n",
       "      <td>0.038853</td>\n",
       "      <td>0.010688</td>\n",
       "      <td>-0.036942</td>\n",
       "      <td>1.000000</td>\n",
       "      <td>0.009002</td>\n",
       "      <td>...</td>\n",
       "      <td>-0.020297</td>\n",
       "      <td>0.042463</td>\n",
       "      <td>0.020864</td>\n",
       "      <td>-0.023727</td>\n",
       "      <td>0.000924</td>\n",
       "      <td>-0.014868</td>\n",
       "      <td>-0.029609</td>\n",
       "      <td>0.026457</td>\n",
       "      <td>-0.018421</td>\n",
       "      <td>0.030873</td>\n",
       "    </tr>\n",
       "    <tr>\n",
       "      <td>insured_education_level</td>\n",
       "      <td>-0.000833</td>\n",
       "      <td>0.000969</td>\n",
       "      <td>-0.034327</td>\n",
       "      <td>0.009153</td>\n",
       "      <td>0.015217</td>\n",
       "      <td>-0.019715</td>\n",
       "      <td>-0.019357</td>\n",
       "      <td>0.016079</td>\n",
       "      <td>0.009002</td>\n",
       "      <td>1.000000</td>\n",
       "      <td>...</td>\n",
       "      <td>-0.012072</td>\n",
       "      <td>0.019211</td>\n",
       "      <td>0.036141</td>\n",
       "      <td>0.074226</td>\n",
       "      <td>0.081880</td>\n",
       "      <td>0.055794</td>\n",
       "      <td>0.068348</td>\n",
       "      <td>0.055202</td>\n",
       "      <td>0.049445</td>\n",
       "      <td>0.008808</td>\n",
       "    </tr>\n",
       "    <tr>\n",
       "      <td>insured_occupation</td>\n",
       "      <td>0.009814</td>\n",
       "      <td>0.017220</td>\n",
       "      <td>-0.031215</td>\n",
       "      <td>0.015788</td>\n",
       "      <td>-0.046733</td>\n",
       "      <td>0.035922</td>\n",
       "      <td>0.023422</td>\n",
       "      <td>-0.069077</td>\n",
       "      <td>-0.006160</td>\n",
       "      <td>-0.020298</td>\n",
       "      <td>...</td>\n",
       "      <td>-0.000236</td>\n",
       "      <td>-0.014794</td>\n",
       "      <td>-0.011083</td>\n",
       "      <td>0.003692</td>\n",
       "      <td>0.020211</td>\n",
       "      <td>0.003004</td>\n",
       "      <td>-0.000829</td>\n",
       "      <td>0.042621</td>\n",
       "      <td>0.020584</td>\n",
       "      <td>0.001564</td>\n",
       "    </tr>\n",
       "    <tr>\n",
       "      <td>insured_hobbies</td>\n",
       "      <td>-0.093661</td>\n",
       "      <td>-0.081315</td>\n",
       "      <td>-0.038689</td>\n",
       "      <td>-0.005960</td>\n",
       "      <td>0.004061</td>\n",
       "      <td>-0.018019</td>\n",
       "      <td>-0.037000</td>\n",
       "      <td>0.002106</td>\n",
       "      <td>-0.020317</td>\n",
       "      <td>0.021807</td>\n",
       "      <td>...</td>\n",
       "      <td>0.031373</td>\n",
       "      <td>-0.033971</td>\n",
       "      <td>-0.045452</td>\n",
       "      <td>-0.004488</td>\n",
       "      <td>0.028393</td>\n",
       "      <td>0.012535</td>\n",
       "      <td>-0.016814</td>\n",
       "      <td>0.001525</td>\n",
       "      <td>0.030948</td>\n",
       "      <td>-0.046838</td>\n",
       "    </tr>\n",
       "    <tr>\n",
       "      <td>insured_relationship</td>\n",
       "      <td>0.069727</td>\n",
       "      <td>0.074832</td>\n",
       "      <td>-0.018506</td>\n",
       "      <td>-0.030063</td>\n",
       "      <td>-0.022945</td>\n",
       "      <td>0.001925</td>\n",
       "      <td>0.077495</td>\n",
       "      <td>-0.002355</td>\n",
       "      <td>0.002855</td>\n",
       "      <td>-0.023488</td>\n",
       "      <td>...</td>\n",
       "      <td>-0.001214</td>\n",
       "      <td>0.002362</td>\n",
       "      <td>-0.024200</td>\n",
       "      <td>0.002229</td>\n",
       "      <td>0.029014</td>\n",
       "      <td>0.007332</td>\n",
       "      <td>-0.006256</td>\n",
       "      <td>-0.027028</td>\n",
       "      <td>0.063671</td>\n",
       "      <td>0.021043</td>\n",
       "    </tr>\n",
       "    <tr>\n",
       "      <td>capital-gains</td>\n",
       "      <td>0.006399</td>\n",
       "      <td>-0.007075</td>\n",
       "      <td>0.074551</td>\n",
       "      <td>0.005249</td>\n",
       "      <td>0.035212</td>\n",
       "      <td>-0.013738</td>\n",
       "      <td>-0.047268</td>\n",
       "      <td>0.006303</td>\n",
       "      <td>-0.020494</td>\n",
       "      <td>0.039912</td>\n",
       "      <td>...</td>\n",
       "      <td>0.055829</td>\n",
       "      <td>-0.017651</td>\n",
       "      <td>-0.012237</td>\n",
       "      <td>0.015980</td>\n",
       "      <td>0.025934</td>\n",
       "      <td>-0.000779</td>\n",
       "      <td>0.015836</td>\n",
       "      <td>0.052014</td>\n",
       "      <td>0.036569</td>\n",
       "      <td>-0.019173</td>\n",
       "    </tr>\n",
       "    <tr>\n",
       "      <td>capital-loss</td>\n",
       "      <td>0.020209</td>\n",
       "      <td>0.007368</td>\n",
       "      <td>-0.030338</td>\n",
       "      <td>-0.034612</td>\n",
       "      <td>-0.023544</td>\n",
       "      <td>0.023547</td>\n",
       "      <td>-0.024056</td>\n",
       "      <td>0.049372</td>\n",
       "      <td>-0.021705</td>\n",
       "      <td>0.041193</td>\n",
       "      <td>...</td>\n",
       "      <td>-0.024418</td>\n",
       "      <td>-0.041330</td>\n",
       "      <td>-0.027218</td>\n",
       "      <td>-0.036060</td>\n",
       "      <td>-0.046060</td>\n",
       "      <td>-0.022863</td>\n",
       "      <td>-0.032665</td>\n",
       "      <td>-0.041658</td>\n",
       "      <td>-0.037288</td>\n",
       "      <td>-0.014863</td>\n",
       "    </tr>\n",
       "    <tr>\n",
       "      <td>incident_type</td>\n",
       "      <td>-0.017377</td>\n",
       "      <td>-0.025626</td>\n",
       "      <td>0.031848</td>\n",
       "      <td>0.011997</td>\n",
       "      <td>-0.038411</td>\n",
       "      <td>0.053603</td>\n",
       "      <td>0.015966</td>\n",
       "      <td>-0.010840</td>\n",
       "      <td>0.009952</td>\n",
       "      <td>0.013704</td>\n",
       "      <td>...</td>\n",
       "      <td>-0.009733</td>\n",
       "      <td>-0.007299</td>\n",
       "      <td>0.027396</td>\n",
       "      <td>-0.276686</td>\n",
       "      <td>-0.226704</td>\n",
       "      <td>-0.221409</td>\n",
       "      <td>-0.271635</td>\n",
       "      <td>-0.032784</td>\n",
       "      <td>-0.034302</td>\n",
       "      <td>-0.050376</td>\n",
       "    </tr>\n",
       "    <tr>\n",
       "      <td>collision_type</td>\n",
       "      <td>-0.017824</td>\n",
       "      <td>-0.018672</td>\n",
       "      <td>0.034739</td>\n",
       "      <td>-0.036687</td>\n",
       "      <td>-0.033182</td>\n",
       "      <td>0.036719</td>\n",
       "      <td>-0.025913</td>\n",
       "      <td>-0.045313</td>\n",
       "      <td>-0.023310</td>\n",
       "      <td>0.026390</td>\n",
       "      <td>...</td>\n",
       "      <td>-0.006508</td>\n",
       "      <td>-0.037546</td>\n",
       "      <td>0.022426</td>\n",
       "      <td>0.592609</td>\n",
       "      <td>0.441115</td>\n",
       "      <td>0.458823</td>\n",
       "      <td>0.597208</td>\n",
       "      <td>-0.024636</td>\n",
       "      <td>0.037367</td>\n",
       "      <td>0.110130</td>\n",
       "    </tr>\n",
       "    <tr>\n",
       "      <td>incident_severity</td>\n",
       "      <td>-0.059581</td>\n",
       "      <td>-0.058439</td>\n",
       "      <td>-0.026377</td>\n",
       "      <td>0.022530</td>\n",
       "      <td>-0.015711</td>\n",
       "      <td>-0.011155</td>\n",
       "      <td>0.009466</td>\n",
       "      <td>-0.023855</td>\n",
       "      <td>-0.028168</td>\n",
       "      <td>-0.006420</td>\n",
       "      <td>...</td>\n",
       "      <td>-0.018870</td>\n",
       "      <td>-0.011127</td>\n",
       "      <td>0.024101</td>\n",
       "      <td>-0.365295</td>\n",
       "      <td>-0.276980</td>\n",
       "      <td>-0.301861</td>\n",
       "      <td>-0.361958</td>\n",
       "      <td>-0.008571</td>\n",
       "      <td>-0.046442</td>\n",
       "      <td>-0.405988</td>\n",
       "    </tr>\n",
       "    <tr>\n",
       "      <td>authorities_contacted</td>\n",
       "      <td>0.010021</td>\n",
       "      <td>0.015417</td>\n",
       "      <td>-0.016777</td>\n",
       "      <td>0.056182</td>\n",
       "      <td>-0.000760</td>\n",
       "      <td>-0.055191</td>\n",
       "      <td>0.029044</td>\n",
       "      <td>-0.017548</td>\n",
       "      <td>0.017914</td>\n",
       "      <td>-0.010838</td>\n",
       "      <td>...</td>\n",
       "      <td>0.041692</td>\n",
       "      <td>-0.003721</td>\n",
       "      <td>0.029701</td>\n",
       "      <td>-0.169333</td>\n",
       "      <td>-0.141826</td>\n",
       "      <td>-0.118808</td>\n",
       "      <td>-0.169710</td>\n",
       "      <td>-0.030309</td>\n",
       "      <td>0.017536</td>\n",
       "      <td>-0.045802</td>\n",
       "    </tr>\n",
       "    <tr>\n",
       "      <td>incident_state</td>\n",
       "      <td>0.005369</td>\n",
       "      <td>0.005770</td>\n",
       "      <td>0.008723</td>\n",
       "      <td>0.032814</td>\n",
       "      <td>0.006517</td>\n",
       "      <td>0.046434</td>\n",
       "      <td>-0.077492</td>\n",
       "      <td>-0.047669</td>\n",
       "      <td>-0.022379</td>\n",
       "      <td>-0.005903</td>\n",
       "      <td>...</td>\n",
       "      <td>-0.000036</td>\n",
       "      <td>0.012177</td>\n",
       "      <td>0.018343</td>\n",
       "      <td>-0.043881</td>\n",
       "      <td>-0.015826</td>\n",
       "      <td>-0.026930</td>\n",
       "      <td>-0.050372</td>\n",
       "      <td>0.070178</td>\n",
       "      <td>-0.039857</td>\n",
       "      <td>-0.051407</td>\n",
       "    </tr>\n",
       "    <tr>\n",
       "      <td>incident_city</td>\n",
       "      <td>-0.000130</td>\n",
       "      <td>-0.002291</td>\n",
       "      <td>-0.002077</td>\n",
       "      <td>0.009333</td>\n",
       "      <td>-0.045117</td>\n",
       "      <td>0.048724</td>\n",
       "      <td>0.013094</td>\n",
       "      <td>-0.017532</td>\n",
       "      <td>0.014470</td>\n",
       "      <td>-0.018636</td>\n",
       "      <td>...</td>\n",
       "      <td>0.051782</td>\n",
       "      <td>0.009058</td>\n",
       "      <td>0.012697</td>\n",
       "      <td>0.041231</td>\n",
       "      <td>0.045794</td>\n",
       "      <td>0.041101</td>\n",
       "      <td>0.035303</td>\n",
       "      <td>-0.002237</td>\n",
       "      <td>0.015118</td>\n",
       "      <td>-0.040403</td>\n",
       "    </tr>\n",
       "    <tr>\n",
       "      <td>number_of_vehicles_involved</td>\n",
       "      <td>0.014736</td>\n",
       "      <td>0.022102</td>\n",
       "      <td>-0.042263</td>\n",
       "      <td>-0.019403</td>\n",
       "      <td>0.051214</td>\n",
       "      <td>-0.045991</td>\n",
       "      <td>-0.021270</td>\n",
       "      <td>0.027448</td>\n",
       "      <td>0.018793</td>\n",
       "      <td>-0.003768</td>\n",
       "      <td>...</td>\n",
       "      <td>0.014030</td>\n",
       "      <td>-0.014669</td>\n",
       "      <td>-0.014146</td>\n",
       "      <td>0.274278</td>\n",
       "      <td>0.224650</td>\n",
       "      <td>0.219084</td>\n",
       "      <td>0.269393</td>\n",
       "      <td>0.014343</td>\n",
       "      <td>0.032219</td>\n",
       "      <td>0.051839</td>\n",
       "    </tr>\n",
       "    <tr>\n",
       "      <td>property_damage</td>\n",
       "      <td>0.007040</td>\n",
       "      <td>-0.001486</td>\n",
       "      <td>0.008623</td>\n",
       "      <td>-0.027340</td>\n",
       "      <td>0.016900</td>\n",
       "      <td>0.095359</td>\n",
       "      <td>-0.056957</td>\n",
       "      <td>0.060342</td>\n",
       "      <td>0.029293</td>\n",
       "      <td>-0.025290</td>\n",
       "      <td>...</td>\n",
       "      <td>-0.002201</td>\n",
       "      <td>-0.029678</td>\n",
       "      <td>-0.032982</td>\n",
       "      <td>0.045499</td>\n",
       "      <td>0.044236</td>\n",
       "      <td>0.034675</td>\n",
       "      <td>0.043313</td>\n",
       "      <td>-0.018434</td>\n",
       "      <td>-0.041133</td>\n",
       "      <td>-0.030497</td>\n",
       "    </tr>\n",
       "    <tr>\n",
       "      <td>bodily_injuries</td>\n",
       "      <td>-0.010162</td>\n",
       "      <td>-0.015679</td>\n",
       "      <td>0.013384</td>\n",
       "      <td>-0.000595</td>\n",
       "      <td>-0.022765</td>\n",
       "      <td>0.026780</td>\n",
       "      <td>0.022743</td>\n",
       "      <td>0.028695</td>\n",
       "      <td>-0.020297</td>\n",
       "      <td>-0.012072</td>\n",
       "      <td>...</td>\n",
       "      <td>1.000000</td>\n",
       "      <td>-0.005606</td>\n",
       "      <td>0.013205</td>\n",
       "      <td>0.047093</td>\n",
       "      <td>0.047319</td>\n",
       "      <td>0.039749</td>\n",
       "      <td>0.043449</td>\n",
       "      <td>0.026731</td>\n",
       "      <td>0.020007</td>\n",
       "      <td>0.033877</td>\n",
       "    </tr>\n",
       "    <tr>\n",
       "      <td>witnesses</td>\n",
       "      <td>0.058383</td>\n",
       "      <td>0.052359</td>\n",
       "      <td>0.022960</td>\n",
       "      <td>0.071500</td>\n",
       "      <td>0.066639</td>\n",
       "      <td>0.002332</td>\n",
       "      <td>-0.006738</td>\n",
       "      <td>0.019805</td>\n",
       "      <td>0.042463</td>\n",
       "      <td>0.019211</td>\n",
       "      <td>...</td>\n",
       "      <td>-0.005606</td>\n",
       "      <td>1.000000</td>\n",
       "      <td>0.046815</td>\n",
       "      <td>-0.011114</td>\n",
       "      <td>-0.024843</td>\n",
       "      <td>0.052640</td>\n",
       "      <td>-0.022564</td>\n",
       "      <td>0.005603</td>\n",
       "      <td>-0.011232</td>\n",
       "      <td>0.049497</td>\n",
       "    </tr>\n",
       "    <tr>\n",
       "      <td>police_report_available</td>\n",
       "      <td>0.017647</td>\n",
       "      <td>0.014661</td>\n",
       "      <td>0.071950</td>\n",
       "      <td>0.002424</td>\n",
       "      <td>0.030166</td>\n",
       "      <td>0.013624</td>\n",
       "      <td>-0.055951</td>\n",
       "      <td>-0.017607</td>\n",
       "      <td>0.020864</td>\n",
       "      <td>0.036141</td>\n",
       "      <td>...</td>\n",
       "      <td>0.013205</td>\n",
       "      <td>0.046815</td>\n",
       "      <td>1.000000</td>\n",
       "      <td>-0.006061</td>\n",
       "      <td>-0.014282</td>\n",
       "      <td>-0.009690</td>\n",
       "      <td>-0.002306</td>\n",
       "      <td>0.038520</td>\n",
       "      <td>-0.026594</td>\n",
       "      <td>-0.028159</td>\n",
       "    </tr>\n",
       "    <tr>\n",
       "      <td>total_claim_amount</td>\n",
       "      <td>0.062108</td>\n",
       "      <td>0.069863</td>\n",
       "      <td>-0.006002</td>\n",
       "      <td>-0.055758</td>\n",
       "      <td>0.022839</td>\n",
       "      <td>0.009094</td>\n",
       "      <td>-0.040344</td>\n",
       "      <td>-0.033873</td>\n",
       "      <td>-0.023727</td>\n",
       "      <td>0.074226</td>\n",
       "      <td>...</td>\n",
       "      <td>0.047093</td>\n",
       "      <td>-0.011114</td>\n",
       "      <td>-0.006061</td>\n",
       "      <td>1.000000</td>\n",
       "      <td>0.805025</td>\n",
       "      <td>0.810686</td>\n",
       "      <td>0.982773</td>\n",
       "      <td>-0.057508</td>\n",
       "      <td>0.040762</td>\n",
       "      <td>0.163651</td>\n",
       "    </tr>\n",
       "    <tr>\n",
       "      <td>injury_claim</td>\n",
       "      <td>0.065329</td>\n",
       "      <td>0.075522</td>\n",
       "      <td>-0.046290</td>\n",
       "      <td>-0.078818</td>\n",
       "      <td>0.039107</td>\n",
       "      <td>-0.017633</td>\n",
       "      <td>-0.045412</td>\n",
       "      <td>-0.017495</td>\n",
       "      <td>0.000924</td>\n",
       "      <td>0.081880</td>\n",
       "      <td>...</td>\n",
       "      <td>0.047319</td>\n",
       "      <td>-0.024843</td>\n",
       "      <td>-0.014282</td>\n",
       "      <td>0.805025</td>\n",
       "      <td>1.000000</td>\n",
       "      <td>0.563866</td>\n",
       "      <td>0.722878</td>\n",
       "      <td>-0.039575</td>\n",
       "      <td>0.038136</td>\n",
       "      <td>0.090975</td>\n",
       "    </tr>\n",
       "    <tr>\n",
       "      <td>property_claim</td>\n",
       "      <td>0.034940</td>\n",
       "      <td>0.060898</td>\n",
       "      <td>0.008406</td>\n",
       "      <td>-0.042216</td>\n",
       "      <td>0.064792</td>\n",
       "      <td>-0.011654</td>\n",
       "      <td>-0.023790</td>\n",
       "      <td>-0.006841</td>\n",
       "      <td>-0.014868</td>\n",
       "      <td>0.055794</td>\n",
       "      <td>...</td>\n",
       "      <td>0.039749</td>\n",
       "      <td>0.052640</td>\n",
       "      <td>-0.009690</td>\n",
       "      <td>0.810686</td>\n",
       "      <td>0.563866</td>\n",
       "      <td>1.000000</td>\n",
       "      <td>0.732090</td>\n",
       "      <td>-0.042030</td>\n",
       "      <td>0.048857</td>\n",
       "      <td>0.137835</td>\n",
       "    </tr>\n",
       "    <tr>\n",
       "      <td>vehicle_claim</td>\n",
       "      <td>0.061013</td>\n",
       "      <td>0.062588</td>\n",
       "      <td>0.001425</td>\n",
       "      <td>-0.046791</td>\n",
       "      <td>0.005269</td>\n",
       "      <td>0.020246</td>\n",
       "      <td>-0.038584</td>\n",
       "      <td>-0.041083</td>\n",
       "      <td>-0.029609</td>\n",
       "      <td>0.068348</td>\n",
       "      <td>...</td>\n",
       "      <td>0.043449</td>\n",
       "      <td>-0.022564</td>\n",
       "      <td>-0.002306</td>\n",
       "      <td>0.982773</td>\n",
       "      <td>0.722878</td>\n",
       "      <td>0.732090</td>\n",
       "      <td>1.000000</td>\n",
       "      <td>-0.059427</td>\n",
       "      <td>0.034645</td>\n",
       "      <td>0.170049</td>\n",
       "    </tr>\n",
       "    <tr>\n",
       "      <td>auto_make</td>\n",
       "      <td>0.047655</td>\n",
       "      <td>0.030410</td>\n",
       "      <td>0.017124</td>\n",
       "      <td>-0.004701</td>\n",
       "      <td>-0.035379</td>\n",
       "      <td>0.000045</td>\n",
       "      <td>-0.004443</td>\n",
       "      <td>-0.020892</td>\n",
       "      <td>0.026457</td>\n",
       "      <td>0.055202</td>\n",
       "      <td>...</td>\n",
       "      <td>0.026731</td>\n",
       "      <td>0.005603</td>\n",
       "      <td>0.038520</td>\n",
       "      <td>-0.057508</td>\n",
       "      <td>-0.039575</td>\n",
       "      <td>-0.042030</td>\n",
       "      <td>-0.059427</td>\n",
       "      <td>1.000000</td>\n",
       "      <td>-0.166295</td>\n",
       "      <td>-0.027519</td>\n",
       "    </tr>\n",
       "    <tr>\n",
       "      <td>auto_model</td>\n",
       "      <td>0.004202</td>\n",
       "      <td>0.017343</td>\n",
       "      <td>-0.025253</td>\n",
       "      <td>0.047885</td>\n",
       "      <td>-0.003268</td>\n",
       "      <td>-0.031849</td>\n",
       "      <td>0.040256</td>\n",
       "      <td>0.023637</td>\n",
       "      <td>-0.018421</td>\n",
       "      <td>0.049445</td>\n",
       "      <td>...</td>\n",
       "      <td>0.020007</td>\n",
       "      <td>-0.011232</td>\n",
       "      <td>-0.026594</td>\n",
       "      <td>0.040762</td>\n",
       "      <td>0.038136</td>\n",
       "      <td>0.048857</td>\n",
       "      <td>0.034645</td>\n",
       "      <td>-0.166295</td>\n",
       "      <td>1.000000</td>\n",
       "      <td>0.000720</td>\n",
       "    </tr>\n",
       "    <tr>\n",
       "      <td>fraud_reported</td>\n",
       "      <td>0.020544</td>\n",
       "      <td>0.012143</td>\n",
       "      <td>0.029432</td>\n",
       "      <td>-0.037190</td>\n",
       "      <td>0.014817</td>\n",
       "      <td>-0.014480</td>\n",
       "      <td>0.058622</td>\n",
       "      <td>0.019368</td>\n",
       "      <td>0.030873</td>\n",
       "      <td>0.008808</td>\n",
       "      <td>...</td>\n",
       "      <td>0.033877</td>\n",
       "      <td>0.049497</td>\n",
       "      <td>-0.028159</td>\n",
       "      <td>0.163651</td>\n",
       "      <td>0.090975</td>\n",
       "      <td>0.137835</td>\n",
       "      <td>0.170049</td>\n",
       "      <td>-0.027519</td>\n",
       "      <td>0.000720</td>\n",
       "      <td>1.000000</td>\n",
       "    </tr>\n",
       "  </tbody>\n",
       "</table>\n",
       "<p>33 rows × 33 columns</p>\n",
       "</div>"
      ],
      "text/plain": [
       "                             months_as_customer       age  policy_state  \\\n",
       "months_as_customer                     1.000000  0.922098     -0.000328   \n",
       "age                                    0.922098  1.000000     -0.014533   \n",
       "policy_state                          -0.000328 -0.014533      1.000000   \n",
       "policy_csl                            -0.026819 -0.015185      0.001027   \n",
       "policy_deductable                      0.026807  0.029188      0.010033   \n",
       "policy_annual_premium                  0.005018  0.014404      0.012455   \n",
       "umbrella_limit                         0.015498  0.018126     -0.029580   \n",
       "insured_zip                            0.017895  0.025604      0.008777   \n",
       "insured_sex                            0.060925  0.073337     -0.020481   \n",
       "insured_education_level               -0.000833  0.000969     -0.034327   \n",
       "insured_occupation                     0.009814  0.017220     -0.031215   \n",
       "insured_hobbies                       -0.093661 -0.081315     -0.038689   \n",
       "insured_relationship                   0.069727  0.074832     -0.018506   \n",
       "capital-gains                          0.006399 -0.007075      0.074551   \n",
       "capital-loss                           0.020209  0.007368     -0.030338   \n",
       "incident_type                         -0.017377 -0.025626      0.031848   \n",
       "collision_type                        -0.017824 -0.018672      0.034739   \n",
       "incident_severity                     -0.059581 -0.058439     -0.026377   \n",
       "authorities_contacted                  0.010021  0.015417     -0.016777   \n",
       "incident_state                         0.005369  0.005770      0.008723   \n",
       "incident_city                         -0.000130 -0.002291     -0.002077   \n",
       "number_of_vehicles_involved            0.014736  0.022102     -0.042263   \n",
       "property_damage                        0.007040 -0.001486      0.008623   \n",
       "bodily_injuries                       -0.010162 -0.015679      0.013384   \n",
       "witnesses                              0.058383  0.052359      0.022960   \n",
       "police_report_available                0.017647  0.014661      0.071950   \n",
       "total_claim_amount                     0.062108  0.069863     -0.006002   \n",
       "injury_claim                           0.065329  0.075522     -0.046290   \n",
       "property_claim                         0.034940  0.060898      0.008406   \n",
       "vehicle_claim                          0.061013  0.062588      0.001425   \n",
       "auto_make                              0.047655  0.030410      0.017124   \n",
       "auto_model                             0.004202  0.017343     -0.025253   \n",
       "fraud_reported                         0.020544  0.012143      0.029432   \n",
       "\n",
       "                             policy_csl  policy_deductable  \\\n",
       "months_as_customer            -0.026819           0.026807   \n",
       "age                           -0.015185           0.029188   \n",
       "policy_state                   0.001027           0.010033   \n",
       "policy_csl                     1.000000           0.003384   \n",
       "policy_deductable              0.003384           1.000000   \n",
       "policy_annual_premium          0.023978          -0.003245   \n",
       "umbrella_limit                 0.021636           0.010870   \n",
       "insured_zip                    0.006879           0.004545   \n",
       "insured_sex                   -0.010757          -0.009733   \n",
       "insured_education_level        0.009153           0.015217   \n",
       "insured_occupation             0.015788          -0.046733   \n",
       "insured_hobbies               -0.005960           0.004061   \n",
       "insured_relationship          -0.030063          -0.022945   \n",
       "capital-gains                  0.005249           0.035212   \n",
       "capital-loss                  -0.034612          -0.023544   \n",
       "incident_type                  0.011997          -0.038411   \n",
       "collision_type                -0.036687          -0.033182   \n",
       "incident_severity              0.022530          -0.015711   \n",
       "authorities_contacted          0.056182          -0.000760   \n",
       "incident_state                 0.032814           0.006517   \n",
       "incident_city                  0.009333          -0.045117   \n",
       "number_of_vehicles_involved   -0.019403           0.051214   \n",
       "property_damage               -0.027340           0.016900   \n",
       "bodily_injuries               -0.000595          -0.022765   \n",
       "witnesses                      0.071500           0.066639   \n",
       "police_report_available        0.002424           0.030166   \n",
       "total_claim_amount            -0.055758           0.022839   \n",
       "injury_claim                  -0.078818           0.039107   \n",
       "property_claim                -0.042216           0.064792   \n",
       "vehicle_claim                 -0.046791           0.005269   \n",
       "auto_make                     -0.004701          -0.035379   \n",
       "auto_model                     0.047885          -0.003268   \n",
       "fraud_reported                -0.037190           0.014817   \n",
       "\n",
       "                             policy_annual_premium  umbrella_limit  \\\n",
       "months_as_customer                        0.005018        0.015498   \n",
       "age                                       0.014404        0.018126   \n",
       "policy_state                              0.012455       -0.029580   \n",
       "policy_csl                                0.023978        0.021636   \n",
       "policy_deductable                        -0.003245        0.010870   \n",
       "policy_annual_premium                     1.000000       -0.006247   \n",
       "umbrella_limit                           -0.006247        1.000000   \n",
       "insured_zip                               0.032354        0.019671   \n",
       "insured_sex                               0.038853        0.010688   \n",
       "insured_education_level                  -0.019715       -0.019357   \n",
       "insured_occupation                        0.035922        0.023422   \n",
       "insured_hobbies                          -0.018019       -0.037000   \n",
       "insured_relationship                      0.001925        0.077495   \n",
       "capital-gains                            -0.013738       -0.047268   \n",
       "capital-loss                              0.023547       -0.024056   \n",
       "incident_type                             0.053603        0.015966   \n",
       "collision_type                            0.036719       -0.025913   \n",
       "incident_severity                        -0.011155        0.009466   \n",
       "authorities_contacted                    -0.055191        0.029044   \n",
       "incident_state                            0.046434       -0.077492   \n",
       "incident_city                             0.048724        0.013094   \n",
       "number_of_vehicles_involved              -0.045991       -0.021270   \n",
       "property_damage                           0.095359       -0.056957   \n",
       "bodily_injuries                           0.026780        0.022743   \n",
       "witnesses                                 0.002332       -0.006738   \n",
       "police_report_available                   0.013624       -0.055951   \n",
       "total_claim_amount                        0.009094       -0.040344   \n",
       "injury_claim                             -0.017633       -0.045412   \n",
       "property_claim                           -0.011654       -0.023790   \n",
       "vehicle_claim                             0.020246       -0.038584   \n",
       "auto_make                                 0.000045       -0.004443   \n",
       "auto_model                               -0.031849        0.040256   \n",
       "fraud_reported                           -0.014480        0.058622   \n",
       "\n",
       "                             insured_zip  insured_sex  \\\n",
       "months_as_customer              0.017895     0.060925   \n",
       "age                             0.025604     0.073337   \n",
       "policy_state                    0.008777    -0.020481   \n",
       "policy_csl                      0.006879    -0.010757   \n",
       "policy_deductable               0.004545    -0.009733   \n",
       "policy_annual_premium           0.032354     0.038853   \n",
       "umbrella_limit                  0.019671     0.010688   \n",
       "insured_zip                     1.000000    -0.036942   \n",
       "insured_sex                    -0.036942     1.000000   \n",
       "insured_education_level         0.016079     0.009002   \n",
       "insured_occupation             -0.069077    -0.006160   \n",
       "insured_hobbies                 0.002106    -0.020317   \n",
       "insured_relationship           -0.002355     0.002855   \n",
       "capital-gains                   0.006303    -0.020494   \n",
       "capital-loss                    0.049372    -0.021705   \n",
       "incident_type                  -0.010840     0.009952   \n",
       "collision_type                 -0.045313    -0.023310   \n",
       "incident_severity              -0.023855    -0.028168   \n",
       "authorities_contacted          -0.017548     0.017914   \n",
       "incident_state                 -0.047669    -0.022379   \n",
       "incident_city                  -0.017532     0.014470   \n",
       "number_of_vehicles_involved     0.027448     0.018793   \n",
       "property_damage                 0.060342     0.029293   \n",
       "bodily_injuries                 0.028695    -0.020297   \n",
       "witnesses                       0.019805     0.042463   \n",
       "police_report_available        -0.017607     0.020864   \n",
       "total_claim_amount             -0.033873    -0.023727   \n",
       "injury_claim                   -0.017495     0.000924   \n",
       "property_claim                 -0.006841    -0.014868   \n",
       "vehicle_claim                  -0.041083    -0.029609   \n",
       "auto_make                      -0.020892     0.026457   \n",
       "auto_model                      0.023637    -0.018421   \n",
       "fraud_reported                  0.019368     0.030873   \n",
       "\n",
       "                             insured_education_level  ...  bodily_injuries  \\\n",
       "months_as_customer                         -0.000833  ...        -0.010162   \n",
       "age                                         0.000969  ...        -0.015679   \n",
       "policy_state                               -0.034327  ...         0.013384   \n",
       "policy_csl                                  0.009153  ...        -0.000595   \n",
       "policy_deductable                           0.015217  ...        -0.022765   \n",
       "policy_annual_premium                      -0.019715  ...         0.026780   \n",
       "umbrella_limit                             -0.019357  ...         0.022743   \n",
       "insured_zip                                 0.016079  ...         0.028695   \n",
       "insured_sex                                 0.009002  ...        -0.020297   \n",
       "insured_education_level                     1.000000  ...        -0.012072   \n",
       "insured_occupation                         -0.020298  ...        -0.000236   \n",
       "insured_hobbies                             0.021807  ...         0.031373   \n",
       "insured_relationship                       -0.023488  ...        -0.001214   \n",
       "capital-gains                               0.039912  ...         0.055829   \n",
       "capital-loss                                0.041193  ...        -0.024418   \n",
       "incident_type                               0.013704  ...        -0.009733   \n",
       "collision_type                              0.026390  ...        -0.006508   \n",
       "incident_severity                          -0.006420  ...        -0.018870   \n",
       "authorities_contacted                      -0.010838  ...         0.041692   \n",
       "incident_state                             -0.005903  ...        -0.000036   \n",
       "incident_city                              -0.018636  ...         0.051782   \n",
       "number_of_vehicles_involved                -0.003768  ...         0.014030   \n",
       "property_damage                            -0.025290  ...        -0.002201   \n",
       "bodily_injuries                            -0.012072  ...         1.000000   \n",
       "witnesses                                   0.019211  ...        -0.005606   \n",
       "police_report_available                     0.036141  ...         0.013205   \n",
       "total_claim_amount                          0.074226  ...         0.047093   \n",
       "injury_claim                                0.081880  ...         0.047319   \n",
       "property_claim                              0.055794  ...         0.039749   \n",
       "vehicle_claim                               0.068348  ...         0.043449   \n",
       "auto_make                                   0.055202  ...         0.026731   \n",
       "auto_model                                  0.049445  ...         0.020007   \n",
       "fraud_reported                              0.008808  ...         0.033877   \n",
       "\n",
       "                             witnesses  police_report_available  \\\n",
       "months_as_customer            0.058383                 0.017647   \n",
       "age                           0.052359                 0.014661   \n",
       "policy_state                  0.022960                 0.071950   \n",
       "policy_csl                    0.071500                 0.002424   \n",
       "policy_deductable             0.066639                 0.030166   \n",
       "policy_annual_premium         0.002332                 0.013624   \n",
       "umbrella_limit               -0.006738                -0.055951   \n",
       "insured_zip                   0.019805                -0.017607   \n",
       "insured_sex                   0.042463                 0.020864   \n",
       "insured_education_level       0.019211                 0.036141   \n",
       "insured_occupation           -0.014794                -0.011083   \n",
       "insured_hobbies              -0.033971                -0.045452   \n",
       "insured_relationship          0.002362                -0.024200   \n",
       "capital-gains                -0.017651                -0.012237   \n",
       "capital-loss                 -0.041330                -0.027218   \n",
       "incident_type                -0.007299                 0.027396   \n",
       "collision_type               -0.037546                 0.022426   \n",
       "incident_severity            -0.011127                 0.024101   \n",
       "authorities_contacted        -0.003721                 0.029701   \n",
       "incident_state                0.012177                 0.018343   \n",
       "incident_city                 0.009058                 0.012697   \n",
       "number_of_vehicles_involved  -0.014669                -0.014146   \n",
       "property_damage              -0.029678                -0.032982   \n",
       "bodily_injuries              -0.005606                 0.013205   \n",
       "witnesses                     1.000000                 0.046815   \n",
       "police_report_available       0.046815                 1.000000   \n",
       "total_claim_amount           -0.011114                -0.006061   \n",
       "injury_claim                 -0.024843                -0.014282   \n",
       "property_claim                0.052640                -0.009690   \n",
       "vehicle_claim                -0.022564                -0.002306   \n",
       "auto_make                     0.005603                 0.038520   \n",
       "auto_model                   -0.011232                -0.026594   \n",
       "fraud_reported                0.049497                -0.028159   \n",
       "\n",
       "                             total_claim_amount  injury_claim  property_claim  \\\n",
       "months_as_customer                     0.062108      0.065329        0.034940   \n",
       "age                                    0.069863      0.075522        0.060898   \n",
       "policy_state                          -0.006002     -0.046290        0.008406   \n",
       "policy_csl                            -0.055758     -0.078818       -0.042216   \n",
       "policy_deductable                      0.022839      0.039107        0.064792   \n",
       "policy_annual_premium                  0.009094     -0.017633       -0.011654   \n",
       "umbrella_limit                        -0.040344     -0.045412       -0.023790   \n",
       "insured_zip                           -0.033873     -0.017495       -0.006841   \n",
       "insured_sex                           -0.023727      0.000924       -0.014868   \n",
       "insured_education_level                0.074226      0.081880        0.055794   \n",
       "insured_occupation                     0.003692      0.020211        0.003004   \n",
       "insured_hobbies                       -0.004488      0.028393        0.012535   \n",
       "insured_relationship                   0.002229      0.029014        0.007332   \n",
       "capital-gains                          0.015980      0.025934       -0.000779   \n",
       "capital-loss                          -0.036060     -0.046060       -0.022863   \n",
       "incident_type                         -0.276686     -0.226704       -0.221409   \n",
       "collision_type                         0.592609      0.441115        0.458823   \n",
       "incident_severity                     -0.365295     -0.276980       -0.301861   \n",
       "authorities_contacted                 -0.169333     -0.141826       -0.118808   \n",
       "incident_state                        -0.043881     -0.015826       -0.026930   \n",
       "incident_city                          0.041231      0.045794        0.041101   \n",
       "number_of_vehicles_involved            0.274278      0.224650        0.219084   \n",
       "property_damage                        0.045499      0.044236        0.034675   \n",
       "bodily_injuries                        0.047093      0.047319        0.039749   \n",
       "witnesses                             -0.011114     -0.024843        0.052640   \n",
       "police_report_available               -0.006061     -0.014282       -0.009690   \n",
       "total_claim_amount                     1.000000      0.805025        0.810686   \n",
       "injury_claim                           0.805025      1.000000        0.563866   \n",
       "property_claim                         0.810686      0.563866        1.000000   \n",
       "vehicle_claim                          0.982773      0.722878        0.732090   \n",
       "auto_make                             -0.057508     -0.039575       -0.042030   \n",
       "auto_model                             0.040762      0.038136        0.048857   \n",
       "fraud_reported                         0.163651      0.090975        0.137835   \n",
       "\n",
       "                             vehicle_claim  auto_make  auto_model  \\\n",
       "months_as_customer                0.061013   0.047655    0.004202   \n",
       "age                               0.062588   0.030410    0.017343   \n",
       "policy_state                      0.001425   0.017124   -0.025253   \n",
       "policy_csl                       -0.046791  -0.004701    0.047885   \n",
       "policy_deductable                 0.005269  -0.035379   -0.003268   \n",
       "policy_annual_premium             0.020246   0.000045   -0.031849   \n",
       "umbrella_limit                   -0.038584  -0.004443    0.040256   \n",
       "insured_zip                      -0.041083  -0.020892    0.023637   \n",
       "insured_sex                      -0.029609   0.026457   -0.018421   \n",
       "insured_education_level           0.068348   0.055202    0.049445   \n",
       "insured_occupation               -0.000829   0.042621    0.020584   \n",
       "insured_hobbies                  -0.016814   0.001525    0.030948   \n",
       "insured_relationship             -0.006256  -0.027028    0.063671   \n",
       "capital-gains                     0.015836   0.052014    0.036569   \n",
       "capital-loss                     -0.032665  -0.041658   -0.037288   \n",
       "incident_type                    -0.271635  -0.032784   -0.034302   \n",
       "collision_type                    0.597208  -0.024636    0.037367   \n",
       "incident_severity                -0.361958  -0.008571   -0.046442   \n",
       "authorities_contacted            -0.169710  -0.030309    0.017536   \n",
       "incident_state                   -0.050372   0.070178   -0.039857   \n",
       "incident_city                     0.035303  -0.002237    0.015118   \n",
       "number_of_vehicles_involved       0.269393   0.014343    0.032219   \n",
       "property_damage                   0.043313  -0.018434   -0.041133   \n",
       "bodily_injuries                   0.043449   0.026731    0.020007   \n",
       "witnesses                        -0.022564   0.005603   -0.011232   \n",
       "police_report_available          -0.002306   0.038520   -0.026594   \n",
       "total_claim_amount                0.982773  -0.057508    0.040762   \n",
       "injury_claim                      0.722878  -0.039575    0.038136   \n",
       "property_claim                    0.732090  -0.042030    0.048857   \n",
       "vehicle_claim                     1.000000  -0.059427    0.034645   \n",
       "auto_make                        -0.059427   1.000000   -0.166295   \n",
       "auto_model                        0.034645  -0.166295    1.000000   \n",
       "fraud_reported                    0.170049  -0.027519    0.000720   \n",
       "\n",
       "                             fraud_reported  \n",
       "months_as_customer                 0.020544  \n",
       "age                                0.012143  \n",
       "policy_state                       0.029432  \n",
       "policy_csl                        -0.037190  \n",
       "policy_deductable                  0.014817  \n",
       "policy_annual_premium             -0.014480  \n",
       "umbrella_limit                     0.058622  \n",
       "insured_zip                        0.019368  \n",
       "insured_sex                        0.030873  \n",
       "insured_education_level            0.008808  \n",
       "insured_occupation                 0.001564  \n",
       "insured_hobbies                   -0.046838  \n",
       "insured_relationship               0.021043  \n",
       "capital-gains                     -0.019173  \n",
       "capital-loss                      -0.014863  \n",
       "incident_type                     -0.050376  \n",
       "collision_type                     0.110130  \n",
       "incident_severity                 -0.405988  \n",
       "authorities_contacted             -0.045802  \n",
       "incident_state                    -0.051407  \n",
       "incident_city                     -0.040403  \n",
       "number_of_vehicles_involved        0.051839  \n",
       "property_damage                   -0.030497  \n",
       "bodily_injuries                    0.033877  \n",
       "witnesses                          0.049497  \n",
       "police_report_available           -0.028159  \n",
       "total_claim_amount                 0.163651  \n",
       "injury_claim                       0.090975  \n",
       "property_claim                     0.137835  \n",
       "vehicle_claim                      0.170049  \n",
       "auto_make                         -0.027519  \n",
       "auto_model                         0.000720  \n",
       "fraud_reported                     1.000000  \n",
       "\n",
       "[33 rows x 33 columns]"
      ]
     },
     "execution_count": 27,
     "metadata": {},
     "output_type": "execute_result"
    }
   ],
   "source": [
    "#lets see correlation among the data\n",
    "fraud.corr()"
   ]
  },
  {
   "cell_type": "code",
   "execution_count": 28,
   "metadata": {},
   "outputs": [
    {
     "data": {
      "text/plain": [
       "<matplotlib.axes._subplots.AxesSubplot at 0x202e992b808>"
      ]
     },
     "execution_count": 28,
     "metadata": {},
     "output_type": "execute_result"
    },
    {
     "data": {
      "image/png": "[encoded data removed]",
      "text/plain": [
       "<Figure size 432x288 with 2 Axes>"
      ]
     },
     "metadata": {
      "needs_background": "light"
     },
     "output_type": "display_data"
    }
   ],
   "source": [
    "#plotting the correlation using heatmap\n",
    "sns.heatmap(fraud.corr())\n",
    "#heatmap for correlation shows the most of the data we have has correlation is in the range of 0 to 0.5 "
   ]
  },
  {
   "cell_type": "markdown",
   "metadata": {},
   "source": [
    "shaping the data for machine learning"
   ]
  },
  {
   "cell_type": "code",
   "execution_count": 29,
   "metadata": {},
   "outputs": [],
   "source": [
    "#seperating input and target variables\n",
    "def_x=fraud.iloc[:,:-1]\n",
    "y=fraud.iloc[:,-1]"
   ]
  },
  {
   "cell_type": "markdown",
   "metadata": {},
   "source": [
    "Scaling the data to the common scale"
   ]
  },
  {
   "cell_type": "code",
   "execution_count": 30,
   "metadata": {},
   "outputs": [],
   "source": [
    "from sklearn.preprocessing import StandardScaler\n",
    "scale=StandardScaler()\n",
    "x=scale.fit_transform(def_x)\n",
    "\n",
    "#it gives data in the form of arrays\n",
    "#putting back it to dataframe\n",
    "x=pd.DataFrame(x,columns=def_x.columns)"
   ]
  },
  {
   "cell_type": "code",
   "execution_count": 31,
   "metadata": {},
   "outputs": [],
   "source": [
    "#creating function for determining random_state\n",
    "def random(alg):\n",
    "    r_state=0\n",
    "    for r_score in range(43,100):\n",
    "        x_train,x_test,y_train,y_test=train_test_split(x,y,test_size=0.33,random_state=r_score)\n",
    "        alg.fit(x_train,y_train)\n",
    "        pred=alg.predict(x_test)\n",
    "        accuracy=accuracy_score(y_test,pred)\n",
    "        if accuracy > r_state:\n",
    "            r_state=accuracy\n",
    "            final_r=r_score\n",
    "    print(r_state,'at',final_r)"
   ]
  },
  {
   "cell_type": "code",
   "execution_count": 32,
   "metadata": {},
   "outputs": [],
   "source": [
    "#creating function for algorithm operations and metrics\n",
    "def model(alg):\n",
    "    ml=alg\n",
    "    ml.fit(x_train,y_train)\n",
    "    pred=ml.predict(x_test)\n",
    "    score=ml.score(x_train,y_train)\n",
    "    print('score=',score)\n",
    "    print(accuracy_score(y_test,pred))\n",
    "    print(confusion_matrix(y_test,pred))\n",
    "    print(classification_report(y_test,pred))"
   ]
  },
  {
   "cell_type": "code",
   "execution_count": 33,
   "metadata": {},
   "outputs": [],
   "source": [
    "#function for cross_val score \n",
    "def cross_val(alg):\n",
    "    score=cross_val_score(alg,x,y,cv=5)\n",
    "    print(score)\n",
    "    print('mean_score=',score.mean())\n",
    "    print('standard deviation',score.std())"
   ]
  },
  {
   "cell_type": "code",
   "execution_count": 34,
   "metadata": {},
   "outputs": [],
   "source": [
    "#Function for roc curve\n",
    "def roc(alg):\n",
    "    y_pred_prob=alg.predict_proba(x_test)[:,1]\n",
    "    fpr,tpr,thresholds=roc_curve(y_test,y_pred_prob)\n",
    "    plt.plot([0,1],[0,1],'k--')\n",
    "    plt.plot(fpr,tpr)\n",
    "    plt.xlabel('False Positive rate')\n",
    "    plt.ylabel('True Positive rate')\n",
    "    plt.title(alg)\n",
    "    plt.show()\n",
    "    \n",
    "    roc_score=roc_auc_score(y_test,alg.predict(x_test))\n",
    "    print('roc_score=',roc_score)"
   ]
  },
  {
   "cell_type": "markdown",
   "metadata": {},
   "source": [
    "Now lets starts for applying algorithm one by one"
   ]
  },
  {
   "cell_type": "markdown",
   "metadata": {},
   "source": [
    "Logistic Regression"
   ]
  },
  {
   "cell_type": "code",
   "execution_count": 35,
   "metadata": {},
   "outputs": [
    {
     "name": "stdout",
     "output_type": "stream",
     "text": [
      "0.8121212121212121 at 64\n"
     ]
    }
   ],
   "source": [
    "# lets start using linear_model first\n",
    "from sklearn.linear_model import LogisticRegression\n",
    "lr=LogisticRegression()\n",
    "random(lr)"
   ]
  },
  {
   "cell_type": "code",
   "execution_count": 36,
   "metadata": {},
   "outputs": [
    {
     "name": "stdout",
     "output_type": "stream",
     "text": [
      "score= 0.7895522388059701\n",
      "0.8121212121212121\n",
      "[[233  26]\n",
      " [ 36  35]]\n",
      "              precision    recall  f1-score   support\n",
      "\n",
      "           0       0.87      0.90      0.88       259\n",
      "           1       0.57      0.49      0.53        71\n",
      "\n",
      "    accuracy                           0.81       330\n",
      "   macro avg       0.72      0.70      0.71       330\n",
      "weighted avg       0.80      0.81      0.81       330\n",
      "\n"
     ]
    }
   ],
   "source": [
    "x_train,x_test,y_train,y_test=train_test_split(x,y,test_size=0.33,random_state=64)\n",
    "model(lr)"
   ]
  },
  {
   "cell_type": "code",
   "execution_count": 37,
   "metadata": {},
   "outputs": [
    {
     "name": "stdout",
     "output_type": "stream",
     "text": [
      "[0.78606965 0.76616915 0.71       0.79396985 0.81909548]\n",
      "mean_score= 0.7750608265206631\n",
      "standard deviation 0.03668724256137435\n"
     ]
    }
   ],
   "source": [
    "cross_val(lr)"
   ]
  },
  {
   "cell_type": "code",
   "execution_count": 38,
   "metadata": {},
   "outputs": [
    {
     "data": {
      "image/png": "[encoded data removed]",
      "text/plain": [
       "<Figure size 432x288 with 1 Axes>"
      ]
     },
     "metadata": {
      "needs_background": "light"
     },
     "output_type": "display_data"
    },
    {
     "name": "stdout",
     "output_type": "stream",
     "text": [
      "roc_score= 0.6962858230463864\n"
     ]
    }
   ],
   "source": [
    "roc(lr)"
   ]
  },
  {
   "cell_type": "markdown",
   "metadata": {},
   "source": [
    "Decision tree Classifier"
   ]
  },
  {
   "cell_type": "code",
   "execution_count": 39,
   "metadata": {},
   "outputs": [
    {
     "name": "stdout",
     "output_type": "stream",
     "text": [
      "0.8151515151515152 at 92\n"
     ]
    }
   ],
   "source": [
    "#lets check for decision tree\n",
    "from sklearn.tree import DecisionTreeClassifier\n",
    "dtc=DecisionTreeClassifier()\n",
    "random(dtc)"
   ]
  },
  {
   "cell_type": "code",
   "execution_count": 40,
   "metadata": {},
   "outputs": [
    {
     "name": "stdout",
     "output_type": "stream",
     "text": [
      "score= 1.0\n",
      "0.8090909090909091\n",
      "[[217  35]\n",
      " [ 28  50]]\n",
      "              precision    recall  f1-score   support\n",
      "\n",
      "           0       0.89      0.86      0.87       252\n",
      "           1       0.59      0.64      0.61        78\n",
      "\n",
      "    accuracy                           0.81       330\n",
      "   macro avg       0.74      0.75      0.74       330\n",
      "weighted avg       0.82      0.81      0.81       330\n",
      "\n"
     ]
    }
   ],
   "source": [
    "x_train,x_test,y_train,y_test=train_test_split(x,y,test_size=0.33,random_state=92)\n",
    "model(dtc)"
   ]
  },
  {
   "cell_type": "code",
   "execution_count": 41,
   "metadata": {},
   "outputs": [
    {
     "name": "stdout",
     "output_type": "stream",
     "text": [
      "[0.78606965 0.75124378 0.76       0.79899497 0.8241206 ]\n",
      "mean_score= 0.7840858021450536\n",
      "standard deviation 0.02641109078795998\n"
     ]
    }
   ],
   "source": [
    "cross_val(dtc)"
   ]
  },
  {
   "cell_type": "code",
   "execution_count": 42,
   "metadata": {},
   "outputs": [
    {
     "data": {
      "image/png": "[encoded data removed]",
      "text/plain": [
       "<Figure size 432x288 with 1 Axes>"
      ]
     },
     "metadata": {
      "needs_background": "light"
     },
     "output_type": "display_data"
    },
    {
     "name": "stdout",
     "output_type": "stream",
     "text": [
      "roc_score= 0.7510683760683761\n"
     ]
    }
   ],
   "source": [
    "roc(dtc)"
   ]
  },
  {
   "cell_type": "markdown",
   "metadata": {},
   "source": [
    "naive_Bayes"
   ]
  },
  {
   "cell_type": "code",
   "execution_count": 43,
   "metadata": {},
   "outputs": [
    {
     "name": "stdout",
     "output_type": "stream",
     "text": [
      "0.7636363636363637 at 96\n"
     ]
    }
   ],
   "source": [
    "from sklearn.naive_bayes import GaussianNB\n",
    "gnb=GaussianNB()\n",
    "random(gnb)"
   ]
  },
  {
   "cell_type": "code",
   "execution_count": 44,
   "metadata": {},
   "outputs": [
    {
     "name": "stdout",
     "output_type": "stream",
     "text": [
      "score= 0.7597014925373134\n",
      "0.7636363636363637\n",
      "[[208  38]\n",
      " [ 40  44]]\n",
      "              precision    recall  f1-score   support\n",
      "\n",
      "           0       0.84      0.85      0.84       246\n",
      "           1       0.54      0.52      0.53        84\n",
      "\n",
      "    accuracy                           0.76       330\n",
      "   macro avg       0.69      0.68      0.69       330\n",
      "weighted avg       0.76      0.76      0.76       330\n",
      "\n"
     ]
    }
   ],
   "source": [
    "x_train,x_test,y_train,y_test=train_test_split(x,y,test_size=0.33,random_state=96)\n",
    "model(gnb)"
   ]
  },
  {
   "cell_type": "code",
   "execution_count": 45,
   "metadata": {},
   "outputs": [
    {
     "name": "stdout",
     "output_type": "stream",
     "text": [
      "[0.76616915 0.68159204 0.65       0.73366834 0.7638191 ]\n",
      "mean_score= 0.719049726243156\n",
      "standard deviation 0.046063399356342155\n"
     ]
    }
   ],
   "source": [
    "cross_val(gnb)"
   ]
  },
  {
   "cell_type": "code",
   "execution_count": 46,
   "metadata": {},
   "outputs": [
    {
     "data": {
      "image/png": "[encoded data removed]",
      "text/plain": [
       "<Figure size 432x288 with 1 Axes>"
      ]
     },
     "metadata": {
      "needs_background": "light"
     },
     "output_type": "display_data"
    },
    {
     "name": "stdout",
     "output_type": "stream",
     "text": [
      "roc_score= 0.6846689895470383\n"
     ]
    }
   ],
   "source": [
    "roc(gnb)"
   ]
  },
  {
   "cell_type": "markdown",
   "metadata": {},
   "source": [
    "K-neighbors"
   ]
  },
  {
   "cell_type": "code",
   "execution_count": 47,
   "metadata": {},
   "outputs": [
    {
     "data": {
      "text/plain": [
       "{'n_neighbors': 17}"
      ]
     },
     "execution_count": 47,
     "metadata": {},
     "output_type": "execute_result"
    }
   ],
   "source": [
    "from sklearn.neighbors import KNeighborsClassifier\n",
    "knn=KNeighborsClassifier()\n",
    "\n",
    "#using gridsearch to detrmine best neighbor\n",
    "parameters={'n_neighbors':range(1,40)}\n",
    "grid=GridSearchCV(knn,parameters,cv=5)\n",
    "grid.fit(x,y)\n",
    "grid.best_params_"
   ]
  },
  {
   "cell_type": "code",
   "execution_count": 48,
   "metadata": {},
   "outputs": [
    {
     "name": "stdout",
     "output_type": "stream",
     "text": [
      "0.7878787878787878 at 77\n"
     ]
    }
   ],
   "source": [
    "knn=KNeighborsClassifier(n_neighbors=17)\n",
    "random(knn)"
   ]
  },
  {
   "cell_type": "code",
   "execution_count": 49,
   "metadata": {},
   "outputs": [
    {
     "name": "stdout",
     "output_type": "stream",
     "text": [
      "score= 0.735820895522388\n",
      "0.7878787878787878\n",
      "[[259   3]\n",
      " [ 67   1]]\n",
      "              precision    recall  f1-score   support\n",
      "\n",
      "           0       0.79      0.99      0.88       262\n",
      "           1       0.25      0.01      0.03        68\n",
      "\n",
      "    accuracy                           0.79       330\n",
      "   macro avg       0.52      0.50      0.45       330\n",
      "weighted avg       0.68      0.79      0.71       330\n",
      "\n"
     ]
    }
   ],
   "source": [
    "x_train,x_test,y_train,y_test=train_test_split(x,y,test_size=0.33,random_state=77)\n",
    "model(knn)"
   ]
  },
  {
   "cell_type": "code",
   "execution_count": 50,
   "metadata": {},
   "outputs": [
    {
     "data": {
      "image/png": "[encoded data removed]",
      "text/plain": [
       "<Figure size 432x288 with 1 Axes>"
      ]
     },
     "metadata": {
      "needs_background": "light"
     },
     "output_type": "display_data"
    },
    {
     "name": "stdout",
     "output_type": "stream",
     "text": [
      "roc_score= 0.501627750336776\n"
     ]
    }
   ],
   "source": [
    "roc(knn)"
   ]
  },
  {
   "cell_type": "markdown",
   "metadata": {},
   "source": [
    "Support Vector machine"
   ]
  },
  {
   "cell_type": "code",
   "execution_count": 51,
   "metadata": {},
   "outputs": [
    {
     "data": {
      "text/plain": [
       "{'C': 1, 'kernel': 'linear'}"
      ]
     },
     "execution_count": 51,
     "metadata": {},
     "output_type": "execute_result"
    }
   ],
   "source": [
    "from sklearn.svm import SVC\n",
    "svm=SVC()\n",
    "\n",
    "#detrmining proper kernel to use\n",
    "parameters={'kernel':['rbf','linear'],'C':[1,10,100]}\n",
    "grid=GridSearchCV(svm,parameters,cv=5)\n",
    "grid.fit(x,y)\n",
    "grid.best_params_"
   ]
  },
  {
   "cell_type": "code",
   "execution_count": 52,
   "metadata": {},
   "outputs": [
    {
     "name": "stdout",
     "output_type": "stream",
     "text": [
      "0.8333333333333334 at 97\n"
     ]
    }
   ],
   "source": [
    "svm=SVC(kernel='linear',probability=True)\n",
    "random(svm)"
   ]
  },
  {
   "cell_type": "code",
   "execution_count": 53,
   "metadata": {},
   "outputs": [
    {
     "name": "stdout",
     "output_type": "stream",
     "text": [
      "score= 0.8\n",
      "0.8333333333333334\n",
      "[[227  31]\n",
      " [ 24  48]]\n",
      "              precision    recall  f1-score   support\n",
      "\n",
      "           0       0.90      0.88      0.89       258\n",
      "           1       0.61      0.67      0.64        72\n",
      "\n",
      "    accuracy                           0.83       330\n",
      "   macro avg       0.76      0.77      0.76       330\n",
      "weighted avg       0.84      0.83      0.84       330\n",
      "\n"
     ]
    }
   ],
   "source": [
    "x_train,x_test,y_train,y_test=train_test_split(x,y,test_size=0.33,random_state=97)\n",
    "model(svm)"
   ]
  },
  {
   "cell_type": "code",
   "execution_count": 54,
   "metadata": {},
   "outputs": [
    {
     "name": "stdout",
     "output_type": "stream",
     "text": [
      "[0.82587065 0.7960199  0.77       0.81909548 0.75376884]\n",
      "mean_score= 0.7929509737743443\n",
      "standard deviation 0.027707922057732995\n"
     ]
    }
   ],
   "source": [
    "cross_val(svm)"
   ]
  },
  {
   "cell_type": "code",
   "execution_count": 55,
   "metadata": {},
   "outputs": [
    {
     "data": {
      "image/png": "[encoded data removed]",
      "text/plain": [
       "<Figure size 432x288 with 1 Axes>"
      ]
     },
     "metadata": {
      "needs_background": "light"
     },
     "output_type": "display_data"
    },
    {
     "name": "stdout",
     "output_type": "stream",
     "text": [
      "roc_score= 0.7732558139534883\n"
     ]
    }
   ],
   "source": [
    "roc(svm)"
   ]
  },
  {
   "cell_type": "markdown",
   "metadata": {},
   "source": [
    "Ensemble Techniques\n",
    "\n",
    "Random Forest"
   ]
  },
  {
   "cell_type": "code",
   "execution_count": 56,
   "metadata": {},
   "outputs": [
    {
     "data": {
      "text/plain": [
       "{'n_estimators': 10}"
      ]
     },
     "execution_count": 56,
     "metadata": {},
     "output_type": "execute_result"
    }
   ],
   "source": [
    "from sklearn.ensemble import RandomForestClassifier\n",
    "rf=RandomForestClassifier()\n",
    "\n",
    "#determining best estimators\n",
    "parameters={'n_estimators':[10,100,500]}\n",
    "grid=GridSearchCV(rf,parameters,cv=5)\n",
    "grid.fit(x,y)\n",
    "grid.best_params_"
   ]
  },
  {
   "cell_type": "code",
   "execution_count": 57,
   "metadata": {},
   "outputs": [
    {
     "name": "stdout",
     "output_type": "stream",
     "text": [
      "0.8212121212121212 at 77\n"
     ]
    }
   ],
   "source": [
    "rf=RandomForestClassifier(n_estimators=10)\n",
    "random(rf)"
   ]
  },
  {
   "cell_type": "code",
   "execution_count": 58,
   "metadata": {},
   "outputs": [
    {
     "name": "stdout",
     "output_type": "stream",
     "text": [
      "score= 0.9865671641791045\n",
      "0.8090909090909091\n",
      "[[248  14]\n",
      " [ 49  19]]\n",
      "              precision    recall  f1-score   support\n",
      "\n",
      "           0       0.84      0.95      0.89       262\n",
      "           1       0.58      0.28      0.38        68\n",
      "\n",
      "    accuracy                           0.81       330\n",
      "   macro avg       0.71      0.61      0.63       330\n",
      "weighted avg       0.78      0.81      0.78       330\n",
      "\n"
     ]
    }
   ],
   "source": [
    "x_train,x_test,y_train,y_test=train_test_split(x,y,test_size=0.33,random_state=77)\n",
    "model(rf)"
   ]
  },
  {
   "cell_type": "code",
   "execution_count": 59,
   "metadata": {},
   "outputs": [
    {
     "name": "stdout",
     "output_type": "stream",
     "text": [
      "[0.79104478 0.75621891 0.75       0.77889447 0.77386935]\n",
      "mean_score= 0.7700055001375035\n",
      "standard deviation 0.015012558074963005\n"
     ]
    }
   ],
   "source": [
    "cross_val(rf)"
   ]
  },
  {
   "cell_type": "code",
   "execution_count": 60,
   "metadata": {},
   "outputs": [
    {
     "data": {
      "image/png": "[encoded data removed]",
      "text/plain": [
       "<Figure size 432x288 with 1 Axes>"
      ]
     },
     "metadata": {
      "needs_background": "light"
     },
     "output_type": "display_data"
    },
    {
     "name": "stdout",
     "output_type": "stream",
     "text": [
      "roc_score= 0.6129883251010327\n"
     ]
    }
   ],
   "source": [
    "roc(rf)"
   ]
  },
  {
   "cell_type": "markdown",
   "metadata": {},
   "source": [
    "Gradient Boosting classifier"
   ]
  },
  {
   "cell_type": "code",
   "execution_count": 61,
   "metadata": {},
   "outputs": [
    {
     "data": {
      "text/plain": [
       "{'learning_rate': 0.01, 'n_estimators': 500}"
      ]
     },
     "execution_count": 61,
     "metadata": {},
     "output_type": "execute_result"
    }
   ],
   "source": [
    "from sklearn.ensemble import GradientBoostingClassifier\n",
    "gbc=GradientBoostingClassifier()\n",
    "\n",
    "#determing best parameters\n",
    "parameters={'learning_rate':[1,0.1,0.01,0.001],'n_estimators':[10,100,500]}\n",
    "grid=GridSearchCV(gbc,parameters,cv=5)\n",
    "grid.fit(x,y)\n",
    "grid.best_params_"
   ]
  },
  {
   "cell_type": "code",
   "execution_count": 62,
   "metadata": {},
   "outputs": [
    {
     "name": "stdout",
     "output_type": "stream",
     "text": [
      "0.8575757575757575 at 97\n"
     ]
    }
   ],
   "source": [
    "gbc=GradientBoostingClassifier(learning_rate=0.01,n_estimators=500)\n",
    "random(gbc)"
   ]
  },
  {
   "cell_type": "code",
   "execution_count": 63,
   "metadata": {},
   "outputs": [
    {
     "name": "stdout",
     "output_type": "stream",
     "text": [
      "score= 0.9507462686567164\n",
      "0.8575757575757575\n",
      "[[232  26]\n",
      " [ 21  51]]\n",
      "              precision    recall  f1-score   support\n",
      "\n",
      "           0       0.92      0.90      0.91       258\n",
      "           1       0.66      0.71      0.68        72\n",
      "\n",
      "    accuracy                           0.86       330\n",
      "   macro avg       0.79      0.80      0.80       330\n",
      "weighted avg       0.86      0.86      0.86       330\n",
      "\n"
     ]
    }
   ],
   "source": [
    "x_train,x_test,y_train,y_test=train_test_split(x,y,test_size=0.33,random_state=97)\n",
    "model(gbc)"
   ]
  },
  {
   "cell_type": "markdown",
   "metadata": {},
   "source": [
    "From all the above algorithms,we get best accuracy score from Gradient Boosting Classifier with a score of 0.85 at random_state of 97.So taking it as a final algorithm,Lets solve for it one more time"
   ]
  },
  {
   "cell_type": "code",
   "execution_count": 64,
   "metadata": {},
   "outputs": [
    {
     "name": "stdout",
     "output_type": "stream",
     "text": [
      "score= 0.9537313432835821\n",
      "0.8575757575757575\n",
      "[[232  26]\n",
      " [ 21  51]]\n",
      "              precision    recall  f1-score   support\n",
      "\n",
      "           0       0.92      0.90      0.91       258\n",
      "           1       0.66      0.71      0.68        72\n",
      "\n",
      "    accuracy                           0.86       330\n",
      "   macro avg       0.79      0.80      0.80       330\n",
      "weighted avg       0.86      0.86      0.86       330\n",
      "\n"
     ]
    }
   ],
   "source": [
    "x_train,x_test,y_train,y_test=train_test_split(x,y,test_size=0.33,random_state=97)\n",
    "model(gbc)"
   ]
  },
  {
   "cell_type": "code",
   "execution_count": 65,
   "metadata": {},
   "outputs": [
    {
     "name": "stdout",
     "output_type": "stream",
     "text": [
      "[0.8159204  0.81094527 0.8        0.83919598 0.85929648]\n",
      "mean_score= 0.8250716267906698\n",
      "standard deviation 0.021366906209105377\n"
     ]
    }
   ],
   "source": [
    "cross_val(gbc)"
   ]
  },
  {
   "cell_type": "code",
   "execution_count": 66,
   "metadata": {},
   "outputs": [
    {
     "data": {
      "image/png": "[encoded data removed]",
      "text/plain": [
       "<Figure size 432x288 with 1 Axes>"
      ]
     },
     "metadata": {
      "needs_background": "light"
     },
     "output_type": "display_data"
    },
    {
     "name": "stdout",
     "output_type": "stream",
     "text": [
      "roc_score= 0.803779069767442\n"
     ]
    }
   ],
   "source": [
    "roc(gbc)"
   ]
  },
  {
   "cell_type": "code",
   "execution_count": 67,
   "metadata": {},
   "outputs": [
    {
     "data": {
      "text/plain": [
       "['gbc_insurance_fraud.pkl']"
      ]
     },
     "execution_count": 67,
     "metadata": {},
     "output_type": "execute_result"
    }
   ],
   "source": [
    "#saving the model\n",
    "from sklearn.externals import joblib\n",
    "joblib.dump(gbc,'gbc_insurance_fraud.pkl')"
   ]
  },
  {
   "cell_type": "markdown",
   "metadata": {},
   "source": [
    "## Conclusion\n",
    "\n",
    "In this project,I import the data from folder files and check for the value counts in each column.Most of the columns are in object datatype,so convert them to labels using labelencoder.Extracting date from date showing columns.Dropped some of the unnecessary columns.After that,i get the data insights using various plots b/w the diffrent features in the dataset.Checked for the statistical summary and plots correlation using heatmap.AFter this complete data preprocessing,I shaped the data for machine learning and applied standaed scalar in input variables to scale the data.By checking for various algorithms solved above,I get the best fit algorithm as a Gradient Boosting Classifier. "
   ]
  }
 ],
 "metadata": {
  "kernelspec": {
   "display_name": "Python 3",
   "language": "python",
   "name": "python3"
  },
  "language_info": {
   "codemirror_mode": {
    "name": "ipython",
    "version": 3
   },
   "file_extension": ".py",
   "mimetype": "text/x-python",
   "name": "python",
   "nbconvert_exporter": "python",
   "pygments_lexer": "ipython3",
   "version": "3.7.4"
  }
 },
 "nbformat": 4,
 "nbformat_minor": 2
}
