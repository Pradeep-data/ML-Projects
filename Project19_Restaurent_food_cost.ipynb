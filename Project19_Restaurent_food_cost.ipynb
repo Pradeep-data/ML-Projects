{
 "cells": [
  {
   "cell_type": "markdown",
   "metadata": {},
   "source": [
    "## Restaurent Food Cost Dataset\n",
    "\n",
    "This dataset has  the information from diffrent restaurent with their special food,cuisines,timing,rating and votes.On which the cost is need to be predicted.I have collected this dataset from the github link(https://github.com/dsrscientist/Data-Science-ML-Capstone-Projects).\n",
    "\n",
    "So lets start the work.Importing numpy and pandas for data processing,matplotlib and seaborn for data visualisation and sklearn models to calculate metrics and other modelling techniques."
   ]
  },
  {
   "cell_type": "code",
   "execution_count": 1,
   "metadata": {},
   "outputs": [],
   "source": [
    "#importing the required libraries and metrics\n",
    "import numpy as np\n",
    "import pandas as pd\n",
    "import matplotlib.pyplot as plt\n",
    "import seaborn as sns\n",
    "from sklearn.model_selection import train_test_split,cross_val_score,GridSearchCV\n",
    "from sklearn.metrics import mean_squared_error,mean_absolute_error,r2_score\n",
    "\n",
    "#importing warnings to suppress when raised\n",
    "import warnings\n",
    "warnings.filterwarnings('ignore')"
   ]
  },
  {
   "cell_type": "code",
   "execution_count": 2,
   "metadata": {},
   "outputs": [],
   "source": [
    "#accesing the dataset from the file folder\n",
    "t1=pd.read_excel('C:/Users/hp/Downloads/Data-Science-ML-Capstone-Projects-master/Restaurent/Data_Train.xlsx')\n",
    "traindata=pd.DataFrame(t1)\n",
    "\n",
    "t2=pd.read_excel('C:/Users/hp/Downloads/Data-Science-ML-Capstone-Projects-master/Restaurent/Data_Test.xlsx')\n",
    "testdata=pd.DataFrame(t2)"
   ]
  },
  {
   "cell_type": "code",
   "execution_count": 3,
   "metadata": {},
   "outputs": [
    {
     "data": {
      "text/html": [
       "<div>\n",
       "<style scoped>\n",
       "    .dataframe tbody tr th:only-of-type {\n",
       "        vertical-align: middle;\n",
       "    }\n",
       "\n",
       "    .dataframe tbody tr th {\n",
       "        vertical-align: top;\n",
       "    }\n",
       "\n",
       "    .dataframe thead th {\n",
       "        text-align: right;\n",
       "    }\n",
       "</style>\n",
       "<table border=\"1\" class=\"dataframe\">\n",
       "  <thead>\n",
       "    <tr style=\"text-align: right;\">\n",
       "      <th></th>\n",
       "      <th>TITLE</th>\n",
       "      <th>RESTAURANT_ID</th>\n",
       "      <th>CUISINES</th>\n",
       "      <th>TIME</th>\n",
       "      <th>CITY</th>\n",
       "      <th>LOCALITY</th>\n",
       "      <th>RATING</th>\n",
       "      <th>VOTES</th>\n",
       "      <th>COST</th>\n",
       "    </tr>\n",
       "  </thead>\n",
       "  <tbody>\n",
       "    <tr>\n",
       "      <td>0</td>\n",
       "      <td>CASUAL DINING</td>\n",
       "      <td>9438</td>\n",
       "      <td>Malwani, Goan, North Indian</td>\n",
       "      <td>11am – 4pm, 7:30pm – 11:30pm (Mon-Sun)</td>\n",
       "      <td>Thane</td>\n",
       "      <td>Dombivali East</td>\n",
       "      <td>3.6</td>\n",
       "      <td>49 votes</td>\n",
       "      <td>1200</td>\n",
       "    </tr>\n",
       "    <tr>\n",
       "      <td>1</td>\n",
       "      <td>CASUAL DINING,BAR</td>\n",
       "      <td>13198</td>\n",
       "      <td>Asian, Modern Indian, Japanese</td>\n",
       "      <td>6pm – 11pm (Mon-Sun)</td>\n",
       "      <td>Chennai</td>\n",
       "      <td>Ramapuram</td>\n",
       "      <td>4.2</td>\n",
       "      <td>30 votes</td>\n",
       "      <td>1500</td>\n",
       "    </tr>\n",
       "    <tr>\n",
       "      <td>2</td>\n",
       "      <td>CASUAL DINING</td>\n",
       "      <td>10915</td>\n",
       "      <td>North Indian, Chinese, Biryani, Hyderabadi</td>\n",
       "      <td>11am – 3:30pm, 7pm – 11pm (Mon-Sun)</td>\n",
       "      <td>Chennai</td>\n",
       "      <td>Saligramam</td>\n",
       "      <td>3.8</td>\n",
       "      <td>221 votes</td>\n",
       "      <td>800</td>\n",
       "    </tr>\n",
       "    <tr>\n",
       "      <td>3</td>\n",
       "      <td>QUICK BITES</td>\n",
       "      <td>6346</td>\n",
       "      <td>Tibetan, Chinese</td>\n",
       "      <td>11:30am – 1am (Mon-Sun)</td>\n",
       "      <td>Mumbai</td>\n",
       "      <td>Bandra West</td>\n",
       "      <td>4.1</td>\n",
       "      <td>24 votes</td>\n",
       "      <td>800</td>\n",
       "    </tr>\n",
       "    <tr>\n",
       "      <td>4</td>\n",
       "      <td>DESSERT PARLOR</td>\n",
       "      <td>15387</td>\n",
       "      <td>Desserts</td>\n",
       "      <td>11am – 1am (Mon-Sun)</td>\n",
       "      <td>Mumbai</td>\n",
       "      <td>Lower Parel</td>\n",
       "      <td>3.8</td>\n",
       "      <td>165 votes</td>\n",
       "      <td>300</td>\n",
       "    </tr>\n",
       "  </tbody>\n",
       "</table>\n",
       "</div>"
      ],
      "text/plain": [
       "               TITLE  RESTAURANT_ID  \\\n",
       "0      CASUAL DINING           9438   \n",
       "1  CASUAL DINING,BAR          13198   \n",
       "2      CASUAL DINING          10915   \n",
       "3        QUICK BITES           6346   \n",
       "4     DESSERT PARLOR          15387   \n",
       "\n",
       "                                     CUISINES  \\\n",
       "0                 Malwani, Goan, North Indian   \n",
       "1              Asian, Modern Indian, Japanese   \n",
       "2  North Indian, Chinese, Biryani, Hyderabadi   \n",
       "3                            Tibetan, Chinese   \n",
       "4                                    Desserts   \n",
       "\n",
       "                                     TIME     CITY        LOCALITY RATING  \\\n",
       "0  11am – 4pm, 7:30pm – 11:30pm (Mon-Sun)    Thane  Dombivali East    3.6   \n",
       "1                    6pm – 11pm (Mon-Sun)  Chennai       Ramapuram    4.2   \n",
       "2     11am – 3:30pm, 7pm – 11pm (Mon-Sun)  Chennai      Saligramam    3.8   \n",
       "3                 11:30am – 1am (Mon-Sun)   Mumbai     Bandra West    4.1   \n",
       "4                    11am – 1am (Mon-Sun)   Mumbai     Lower Parel    3.8   \n",
       "\n",
       "       VOTES  COST  \n",
       "0   49 votes  1200  \n",
       "1   30 votes  1500  \n",
       "2  221 votes   800  \n",
       "3   24 votes   800  \n",
       "4  165 votes   300  "
      ]
     },
     "execution_count": 3,
     "metadata": {},
     "output_type": "execute_result"
    }
   ],
   "source": [
    "#structure for both train data\n",
    "traindata.head()"
   ]
  },
  {
   "cell_type": "code",
   "execution_count": 4,
   "metadata": {},
   "outputs": [
    {
     "data": {
      "text/plain": [
       "TITLE               0\n",
       "RESTAURANT_ID       0\n",
       "CUISINES            0\n",
       "TIME                0\n",
       "CITY              112\n",
       "LOCALITY           98\n",
       "RATING              2\n",
       "VOTES            1204\n",
       "COST                0\n",
       "dtype: int64"
      ]
     },
     "execution_count": 4,
     "metadata": {},
     "output_type": "execute_result"
    }
   ],
   "source": [
    "#verifying for the null values in train data\n",
    "traindata.isnull().sum()"
   ]
  },
  {
   "cell_type": "code",
   "execution_count": 5,
   "metadata": {},
   "outputs": [
    {
     "data": {
      "text/html": [
       "<div>\n",
       "<style scoped>\n",
       "    .dataframe tbody tr th:only-of-type {\n",
       "        vertical-align: middle;\n",
       "    }\n",
       "\n",
       "    .dataframe tbody tr th {\n",
       "        vertical-align: top;\n",
       "    }\n",
       "\n",
       "    .dataframe thead th {\n",
       "        text-align: right;\n",
       "    }\n",
       "</style>\n",
       "<table border=\"1\" class=\"dataframe\">\n",
       "  <thead>\n",
       "    <tr style=\"text-align: right;\">\n",
       "      <th></th>\n",
       "      <th>TITLE</th>\n",
       "      <th>RESTAURANT_ID</th>\n",
       "      <th>CUISINES</th>\n",
       "      <th>TIME</th>\n",
       "      <th>CITY</th>\n",
       "      <th>LOCALITY</th>\n",
       "      <th>RATING</th>\n",
       "      <th>VOTES</th>\n",
       "    </tr>\n",
       "  </thead>\n",
       "  <tbody>\n",
       "    <tr>\n",
       "      <td>0</td>\n",
       "      <td>CASUAL DINING</td>\n",
       "      <td>4085</td>\n",
       "      <td>North Indian, Chinese, Mughlai, Kebab</td>\n",
       "      <td>12noon – 12midnight (Mon-Sun)</td>\n",
       "      <td>Noida</td>\n",
       "      <td>Sector 18</td>\n",
       "      <td>4.3</td>\n",
       "      <td>564 votes</td>\n",
       "    </tr>\n",
       "    <tr>\n",
       "      <td>1</td>\n",
       "      <td>QUICK BITES</td>\n",
       "      <td>12680</td>\n",
       "      <td>South Indian, Fast Food, Pizza, North Indian</td>\n",
       "      <td>7am – 12:30AM (Mon-Sun)</td>\n",
       "      <td>Mumbai</td>\n",
       "      <td>Grant Road</td>\n",
       "      <td>4.2</td>\n",
       "      <td>61 votes</td>\n",
       "    </tr>\n",
       "    <tr>\n",
       "      <td>2</td>\n",
       "      <td>CASUAL DINING</td>\n",
       "      <td>1411</td>\n",
       "      <td>North Indian, Seafood, Biryani, Chinese</td>\n",
       "      <td>11am – 11:30pm (Mon-Sun)</td>\n",
       "      <td>Mumbai</td>\n",
       "      <td>Marine Lines</td>\n",
       "      <td>3.8</td>\n",
       "      <td>350 votes</td>\n",
       "    </tr>\n",
       "    <tr>\n",
       "      <td>3</td>\n",
       "      <td>None</td>\n",
       "      <td>204</td>\n",
       "      <td>Biryani</td>\n",
       "      <td>9am – 10pm (Mon, Wed, Thu, Fri, Sat, Sun), 10:...</td>\n",
       "      <td>Faridabad</td>\n",
       "      <td>NIT</td>\n",
       "      <td>3.8</td>\n",
       "      <td>1445 votes</td>\n",
       "    </tr>\n",
       "    <tr>\n",
       "      <td>4</td>\n",
       "      <td>QUICK BITES</td>\n",
       "      <td>13453</td>\n",
       "      <td>South Indian, Kerala</td>\n",
       "      <td>11am – 10pm (Mon-Sun)</td>\n",
       "      <td>Kochi</td>\n",
       "      <td>Kaloor</td>\n",
       "      <td>3.6</td>\n",
       "      <td>23 votes</td>\n",
       "    </tr>\n",
       "  </tbody>\n",
       "</table>\n",
       "</div>"
      ],
      "text/plain": [
       "           TITLE  RESTAURANT_ID                                      CUISINES  \\\n",
       "0  CASUAL DINING           4085         North Indian, Chinese, Mughlai, Kebab   \n",
       "1    QUICK BITES          12680  South Indian, Fast Food, Pizza, North Indian   \n",
       "2  CASUAL DINING           1411       North Indian, Seafood, Biryani, Chinese   \n",
       "3           None            204                                       Biryani   \n",
       "4    QUICK BITES          13453                          South Indian, Kerala   \n",
       "\n",
       "                                                TIME       CITY      LOCALITY  \\\n",
       "0                      12noon – 12midnight (Mon-Sun)      Noida     Sector 18   \n",
       "1                            7am – 12:30AM (Mon-Sun)     Mumbai    Grant Road   \n",
       "2                           11am – 11:30pm (Mon-Sun)     Mumbai  Marine Lines   \n",
       "3  9am – 10pm (Mon, Wed, Thu, Fri, Sat, Sun), 10:...  Faridabad           NIT   \n",
       "4                              11am – 10pm (Mon-Sun)      Kochi        Kaloor   \n",
       "\n",
       "  RATING       VOTES  \n",
       "0    4.3   564 votes  \n",
       "1    4.2    61 votes  \n",
       "2    3.8   350 votes  \n",
       "3    3.8  1445 votes  \n",
       "4    3.6    23 votes  "
      ]
     },
     "execution_count": 5,
     "metadata": {},
     "output_type": "execute_result"
    }
   ],
   "source": [
    "#structure for the test data\n",
    "testdata.head()"
   ]
  },
  {
   "cell_type": "code",
   "execution_count": 6,
   "metadata": {},
   "outputs": [
    {
     "data": {
      "text/plain": [
       "TITLE              0\n",
       "RESTAURANT_ID      0\n",
       "CUISINES           0\n",
       "TIME               0\n",
       "CITY              35\n",
       "LOCALITY          30\n",
       "RATING             2\n",
       "VOTES            402\n",
       "dtype: int64"
      ]
     },
     "execution_count": 6,
     "metadata": {},
     "output_type": "execute_result"
    }
   ],
   "source": [
    "testdata.isnull().sum()"
   ]
  },
  {
   "cell_type": "code",
   "execution_count": 7,
   "metadata": {},
   "outputs": [
    {
     "name": "stdout",
     "output_type": "stream",
     "text": [
      "(12690, 9)\n",
      "(4231, 8)\n"
     ]
    }
   ],
   "source": [
    "#getting the shape of both datasets\n",
    "print(traindata.shape)\n",
    "print(testdata.shape)"
   ]
  },
  {
   "cell_type": "code",
   "execution_count": 8,
   "metadata": {},
   "outputs": [],
   "source": [
    "#marking the dataset before concat\n",
    "traindata['Data']='Train'\n",
    "testdata['Data']='Test'"
   ]
  },
  {
   "cell_type": "code",
   "execution_count": 9,
   "metadata": {},
   "outputs": [
    {
     "data": {
      "text/html": [
       "<div>\n",
       "<style scoped>\n",
       "    .dataframe tbody tr th:only-of-type {\n",
       "        vertical-align: middle;\n",
       "    }\n",
       "\n",
       "    .dataframe tbody tr th {\n",
       "        vertical-align: top;\n",
       "    }\n",
       "\n",
       "    .dataframe thead th {\n",
       "        text-align: right;\n",
       "    }\n",
       "</style>\n",
       "<table border=\"1\" class=\"dataframe\">\n",
       "  <thead>\n",
       "    <tr style=\"text-align: right;\">\n",
       "      <th></th>\n",
       "      <th>CITY</th>\n",
       "      <th>COST</th>\n",
       "      <th>CUISINES</th>\n",
       "      <th>Data</th>\n",
       "      <th>LOCALITY</th>\n",
       "      <th>RATING</th>\n",
       "      <th>RESTAURANT_ID</th>\n",
       "      <th>TIME</th>\n",
       "      <th>TITLE</th>\n",
       "      <th>VOTES</th>\n",
       "    </tr>\n",
       "  </thead>\n",
       "  <tbody>\n",
       "    <tr>\n",
       "      <td>0</td>\n",
       "      <td>Thane</td>\n",
       "      <td>1200.0</td>\n",
       "      <td>Malwani, Goan, North Indian</td>\n",
       "      <td>Train</td>\n",
       "      <td>Dombivali East</td>\n",
       "      <td>3.6</td>\n",
       "      <td>9438</td>\n",
       "      <td>11am – 4pm, 7:30pm – 11:30pm (Mon-Sun)</td>\n",
       "      <td>CASUAL DINING</td>\n",
       "      <td>49 votes</td>\n",
       "    </tr>\n",
       "    <tr>\n",
       "      <td>1</td>\n",
       "      <td>Chennai</td>\n",
       "      <td>1500.0</td>\n",
       "      <td>Asian, Modern Indian, Japanese</td>\n",
       "      <td>Train</td>\n",
       "      <td>Ramapuram</td>\n",
       "      <td>4.2</td>\n",
       "      <td>13198</td>\n",
       "      <td>6pm – 11pm (Mon-Sun)</td>\n",
       "      <td>CASUAL DINING,BAR</td>\n",
       "      <td>30 votes</td>\n",
       "    </tr>\n",
       "    <tr>\n",
       "      <td>2</td>\n",
       "      <td>Chennai</td>\n",
       "      <td>800.0</td>\n",
       "      <td>North Indian, Chinese, Biryani, Hyderabadi</td>\n",
       "      <td>Train</td>\n",
       "      <td>Saligramam</td>\n",
       "      <td>3.8</td>\n",
       "      <td>10915</td>\n",
       "      <td>11am – 3:30pm, 7pm – 11pm (Mon-Sun)</td>\n",
       "      <td>CASUAL DINING</td>\n",
       "      <td>221 votes</td>\n",
       "    </tr>\n",
       "    <tr>\n",
       "      <td>3</td>\n",
       "      <td>Mumbai</td>\n",
       "      <td>800.0</td>\n",
       "      <td>Tibetan, Chinese</td>\n",
       "      <td>Train</td>\n",
       "      <td>Bandra West</td>\n",
       "      <td>4.1</td>\n",
       "      <td>6346</td>\n",
       "      <td>11:30am – 1am (Mon-Sun)</td>\n",
       "      <td>QUICK BITES</td>\n",
       "      <td>24 votes</td>\n",
       "    </tr>\n",
       "    <tr>\n",
       "      <td>4</td>\n",
       "      <td>Mumbai</td>\n",
       "      <td>300.0</td>\n",
       "      <td>Desserts</td>\n",
       "      <td>Train</td>\n",
       "      <td>Lower Parel</td>\n",
       "      <td>3.8</td>\n",
       "      <td>15387</td>\n",
       "      <td>11am – 1am (Mon-Sun)</td>\n",
       "      <td>DESSERT PARLOR</td>\n",
       "      <td>165 votes</td>\n",
       "    </tr>\n",
       "  </tbody>\n",
       "</table>\n",
       "</div>"
      ],
      "text/plain": [
       "      CITY    COST                                    CUISINES   Data  \\\n",
       "0    Thane  1200.0                 Malwani, Goan, North Indian  Train   \n",
       "1  Chennai  1500.0              Asian, Modern Indian, Japanese  Train   \n",
       "2  Chennai   800.0  North Indian, Chinese, Biryani, Hyderabadi  Train   \n",
       "3   Mumbai   800.0                            Tibetan, Chinese  Train   \n",
       "4   Mumbai   300.0                                    Desserts  Train   \n",
       "\n",
       "         LOCALITY RATING  RESTAURANT_ID  \\\n",
       "0  Dombivali East    3.6           9438   \n",
       "1       Ramapuram    4.2          13198   \n",
       "2      Saligramam    3.8          10915   \n",
       "3     Bandra West    4.1           6346   \n",
       "4     Lower Parel    3.8          15387   \n",
       "\n",
       "                                     TIME              TITLE      VOTES  \n",
       "0  11am – 4pm, 7:30pm – 11:30pm (Mon-Sun)      CASUAL DINING   49 votes  \n",
       "1                    6pm – 11pm (Mon-Sun)  CASUAL DINING,BAR   30 votes  \n",
       "2     11am – 3:30pm, 7pm – 11pm (Mon-Sun)      CASUAL DINING  221 votes  \n",
       "3                 11:30am – 1am (Mon-Sun)        QUICK BITES   24 votes  \n",
       "4                    11am – 1am (Mon-Sun)     DESSERT PARLOR  165 votes  "
      ]
     },
     "execution_count": 9,
     "metadata": {},
     "output_type": "execute_result"
    }
   ],
   "source": [
    "#Merging the datasets \n",
    "cost=pd.concat([traindata,testdata],ignore_index=True)\n",
    "cost.head()"
   ]
  },
  {
   "cell_type": "code",
   "execution_count": 10,
   "metadata": {},
   "outputs": [
    {
     "data": {
      "text/plain": [
       "<matplotlib.axes._subplots.AxesSubplot at 0x1f579bbc448>"
      ]
     },
     "execution_count": 10,
     "metadata": {},
     "output_type": "execute_result"
    },
    {
     "data": {
      "image/png": "[encoded data removed]",
      "text/plain": [
       "<Figure size 432x288 with 2 Axes>"
      ]
     },
     "metadata": {
      "needs_background": "light"
     },
     "output_type": "display_data"
    }
   ],
   "source": [
    "#plotting heatmap for null data\n",
    "sns.heatmap(cost.isnull())"
   ]
  },
  {
   "cell_type": "code",
   "execution_count": 11,
   "metadata": {},
   "outputs": [
    {
     "data": {
      "text/plain": [
       "CITY              147\n",
       "COST             4231\n",
       "CUISINES            0\n",
       "Data                0\n",
       "LOCALITY          128\n",
       "RATING              4\n",
       "RESTAURANT_ID       0\n",
       "TIME                0\n",
       "TITLE               0\n",
       "VOTES            1606\n",
       "dtype: int64"
      ]
     },
     "execution_count": 11,
     "metadata": {},
     "output_type": "execute_result"
    }
   ],
   "source": [
    "#checking the null values of concatenaed dataset\n",
    "cost.isnull().sum()"
   ]
  },
  {
   "cell_type": "code",
   "execution_count": 12,
   "metadata": {},
   "outputs": [
    {
     "name": "stdout",
     "output_type": "stream",
     "text": [
      "<class 'pandas.core.frame.DataFrame'>\n",
      "RangeIndex: 16921 entries, 0 to 16920\n",
      "Data columns (total 10 columns):\n",
      "CITY             16774 non-null object\n",
      "COST             12690 non-null float64\n",
      "CUISINES         16921 non-null object\n",
      "Data             16921 non-null object\n",
      "LOCALITY         16793 non-null object\n",
      "RATING           16917 non-null object\n",
      "RESTAURANT_ID    16921 non-null int64\n",
      "TIME             16921 non-null object\n",
      "TITLE            16921 non-null object\n",
      "VOTES            15315 non-null object\n",
      "dtypes: float64(1), int64(1), object(8)\n",
      "memory usage: 1.3+ MB\n"
     ]
    }
   ],
   "source": [
    "#getting the structural info of dataset\n",
    "cost.info()"
   ]
  },
  {
   "cell_type": "code",
   "execution_count": 13,
   "metadata": {},
   "outputs": [
    {
     "name": "stdout",
     "output_type": "stream",
     "text": [
      "Chennai           2855\n",
      "Bangalore         2835\n",
      "Hyderabad         2458\n",
      "Mumbai            2311\n",
      "New Delhi         1754\n",
      "                  ... \n",
      "OMR Karapakkam       1\n",
      "Navi-Mumbai          1\n",
      "RA Puram             1\n",
      "Kerala 682022        1\n",
      "Sector 1             1\n",
      "Name: CITY, Length: 450, dtype: int64\n",
      "300.0     1595\n",
      "400.0     1357\n",
      "500.0     1300\n",
      "200.0     1031\n",
      "600.0      806\n",
      "          ... \n",
      "70.0         1\n",
      "599.0        1\n",
      "2900.0       1\n",
      "8000.0       1\n",
      "4050.0       1\n",
      "Name: COST, Length: 86, dtype: int64\n",
      "North Indian                                       716\n",
      "North Indian, Chinese                              714\n",
      "South Indian                                       706\n",
      "Fast Food                                          364\n",
      "Chinese                                            226\n",
      "                                                  ... \n",
      "North Indian, South Indian, Hyderabadi, Mughlai      1\n",
      "Arabian, Italian, Hyderabadi                         1\n",
      "Fast Food, Sandwich, Burger, Beverages               1\n",
      "Cafe, Healthy Food, Salad, Beverages, Desserts       1\n",
      "Street Food, North Indian, Mithai                    1\n",
      "Name: CUISINES, Length: 5183, dtype: int64\n",
      "Train    12690\n",
      "Test      4231\n",
      "Name: Data, dtype: int64\n",
      "Gachibowli                           216\n",
      "Indiranagar                          187\n",
      "Kakkanad                             175\n",
      "Kukatpally                           171\n",
      "Madhapur                             169\n",
      "                                    ... \n",
      "Opposite to CSEZ                       1\n",
      "Plot 22 Sector 135                     1\n",
      "Mahadevpura Post                       1\n",
      "Manjapetty Aluva Perumbavoor Road      1\n",
      "Patka Manzil Bhindi Bazar              1\n",
      "Name: LOCALITY, Length: 1636, dtype: int64\n",
      "3.9    1643\n",
      "3.8    1604\n",
      "4.0    1498\n",
      "3.7    1437\n",
      "3.6    1261\n",
      "4.1    1217\n",
      "3.5     988\n",
      "4.2     968\n",
      "NEW     930\n",
      "3.4     777\n",
      "4.3     740\n",
      "-       672\n",
      "3.3     485\n",
      "4.4     484\n",
      "3.2     349\n",
      "4.5     274\n",
      "3.1     263\n",
      "2.9     242\n",
      "3.0     229\n",
      "2.8     191\n",
      "4.6     184\n",
      "2.7     129\n",
      "4.7      90\n",
      "2.6      85\n",
      "2.5      51\n",
      "4.8      49\n",
      "4.9      28\n",
      "2.4      24\n",
      "2.3      15\n",
      "2.2       4\n",
      "2.1       4\n",
      "2.0       2\n",
      "Name: RATING, dtype: int64\n",
      "4634     8\n",
      "7264     8\n",
      "7745     7\n",
      "4058     7\n",
      "12747    7\n",
      "        ..\n",
      "15309    1\n",
      "13260    1\n",
      "3019     1\n",
      "970      1\n",
      "0        1\n",
      "Name: RESTAURANT_ID, Length: 15574, dtype: int64\n",
      "11am – 11pm (Mon-Sun)                                1862\n",
      "12noon – 12midnight (Mon-Sun)                         615\n",
      "12noon – 11pm (Mon-Sun)                               541\n",
      "11am – 12midnight (Mon-Sun)                           419\n",
      "10am – 10pm (Mon-Sun)                                 288\n",
      "                                                     ... \n",
      "1pm – 11:30pm (Mon),12noon – 11:30pm (Tue-Sun)          1\n",
      "12midnight – 6am, 6pm – 12midnight...                   1\n",
      "11:30am – 2:30pm, 6:30pm – 10pm (Mon-Sun)               1\n",
      "Closed (Mon),9am – 11pm (Tue-Sat),9am – 9pm (Sun)       1\n",
      "10am – 4pm, 6:30pm – 11pm (Mon, Wed, Thu, Fri...        1\n",
      "Name: TIME, Length: 3295, dtype: int64\n",
      "QUICK BITES                     5634\n",
      "CASUAL DINING                   4910\n",
      "None                            1287\n",
      "CAFÉ                             830\n",
      "DESSERT PARLOR                   508\n",
      "                                ... \n",
      "CASUAL DINING,DESSERT PARLOR       1\n",
      "SWEET SHOP,BEVERAGE SHOP           1\n",
      "BAR,MICROBREWERY                   1\n",
      "BEVERAGE SHOP,CASUAL DINING        1\n",
      "MEAT SHOP                          1\n",
      "Name: TITLE, Length: 123, dtype: int64\n",
      "44 votes      92\n",
      "22 votes      88\n",
      "6 votes       87\n",
      "29 votes      83\n",
      "28 votes      81\n",
      "              ..\n",
      "1430 votes     1\n",
      "2799 votes     1\n",
      "1567 votes     1\n",
      "2755 votes     1\n",
      "2309 votes     1\n",
      "Name: VOTES, Length: 2075, dtype: int64\n"
     ]
    }
   ],
   "source": [
    "#lets see the counts of unique values in each column\n",
    "for col in cost.columns:\n",
    "    print(cost[col].value_counts())"
   ]
  },
  {
   "cell_type": "code",
   "execution_count": 14,
   "metadata": {},
   "outputs": [],
   "source": [
    "#lets impute first for the null values\n",
    "cost['CITY'].replace(np.NaN,'Unknown',inplace=True)\n",
    "cost['LOCALITY'].replace(np.NaN,'Unknown',inplace=True)"
   ]
  },
  {
   "cell_type": "code",
   "execution_count": 15,
   "metadata": {},
   "outputs": [
    {
     "data": {
      "text/plain": [
       "3.9    1643\n",
       "3.8    1604\n",
       "4.0    1498\n",
       "3.7    1437\n",
       "3.6    1261\n",
       "4.1    1217\n",
       "3.5     988\n",
       "4.2     968\n",
       "NEW     930\n",
       "3.4     777\n",
       "4.3     740\n",
       "-       672\n",
       "3.3     485\n",
       "4.4     484\n",
       "3.2     349\n",
       "4.5     274\n",
       "3.1     263\n",
       "2.9     242\n",
       "3.0     229\n",
       "2.8     191\n",
       "4.6     184\n",
       "2.7     129\n",
       "4.7      90\n",
       "2.6      85\n",
       "2.5      51\n",
       "4.8      49\n",
       "4.9      28\n",
       "2.4      24\n",
       "2.3      15\n",
       "2.2       4\n",
       "2.1       4\n",
       "2.0       2\n",
       "Name: RATING, dtype: int64"
      ]
     },
     "execution_count": 15,
     "metadata": {},
     "output_type": "execute_result"
    }
   ],
   "source": [
    "#rating column has diffrent unknown data as it is seen from value_count,so lets take it seperately\n",
    "cost['RATING'].value_counts()\n",
    "\n",
    "#it shows the rating starts frpm 2.0 to 4.8,lets fill the unknown and null values from ratio"
   ]
  },
  {
   "cell_type": "code",
   "execution_count": 16,
   "metadata": {},
   "outputs": [],
   "source": [
    "#replacing and adjusting the null values of rating column\n",
    "cost['RATING'].replace('NEW',1.5,inplace=True)\n",
    "cost[\"RATING\"].replace('-',1.0,inplace=True)\n",
    "cost[\"RATING\"].fillna(0.5,inplace=True)"
   ]
  },
  {
   "cell_type": "code",
   "execution_count": 17,
   "metadata": {},
   "outputs": [],
   "source": [
    "#As rating is in object datatype,so lets put it convert back to its numeric datatype\n",
    "cost['RATING']=pd.to_numeric(cost['RATING'])"
   ]
  },
  {
   "cell_type": "code",
   "execution_count": 18,
   "metadata": {},
   "outputs": [
    {
     "data": {
      "text/plain": [
       "array(['49 votes', '30 votes', '221 votes', ..., '2159 votes',\n",
       "       '3807 votes', '1913 votes'], dtype=object)"
      ]
     },
     "execution_count": 18,
     "metadata": {},
     "output_type": "execute_result"
    }
   ],
   "source": [
    "#votes column has also null values,so check the unique values here first\n",
    "cost['VOTES'].unique()"
   ]
  },
  {
   "cell_type": "code",
   "execution_count": 19,
   "metadata": {},
   "outputs": [],
   "source": [
    "#filling the null values\n",
    "cost['VOTES'].fillna('0',inplace=True)"
   ]
  },
  {
   "cell_type": "code",
   "execution_count": 20,
   "metadata": {},
   "outputs": [],
   "source": [
    "#lets remove the string prt from the votes column before compute it\n",
    "cost['VOTES']=cost['VOTES'].str.split(' ').str[0]\n",
    "\n",
    "#votes column is in the object datatype,lets convert it to int datatype\n",
    "cost['VOTES']=cost['VOTES'].astype(int)"
   ]
  },
  {
   "cell_type": "code",
   "execution_count": 21,
   "metadata": {},
   "outputs": [
    {
     "data": {
      "text/plain": [
       "CITY                0\n",
       "COST             4231\n",
       "CUISINES            0\n",
       "Data                0\n",
       "LOCALITY            0\n",
       "RATING              0\n",
       "RESTAURANT_ID       0\n",
       "TIME                0\n",
       "TITLE               0\n",
       "VOTES               0\n",
       "dtype: int64"
      ]
     },
     "execution_count": 21,
     "metadata": {},
     "output_type": "execute_result"
    }
   ],
   "source": [
    "#lets check for null values again\n",
    "cost.isnull().sum()\n",
    "\n",
    "#we get the null values which is from test data,so no need to impute that"
   ]
  },
  {
   "cell_type": "code",
   "execution_count": 22,
   "metadata": {},
   "outputs": [
    {
     "data": {
      "text/plain": [
       "CITY              object\n",
       "COST             float64\n",
       "CUISINES          object\n",
       "Data              object\n",
       "LOCALITY          object\n",
       "RATING           float64\n",
       "RESTAURANT_ID      int64\n",
       "TIME              object\n",
       "TITLE             object\n",
       "VOTES              int32\n",
       "dtype: object"
      ]
     },
     "execution_count": 22,
     "metadata": {},
     "output_type": "execute_result"
    }
   ],
   "source": [
    "#lets check for datatypes\n",
    "cost.dtypes"
   ]
  },
  {
   "cell_type": "code",
   "execution_count": 23,
   "metadata": {},
   "outputs": [],
   "source": [
    "#lets remove the restaurent id,time and title for less complexity\n",
    "cost.drop(['RESTAURANT_ID','TIME','TITLE'],axis=1,inplace=True)"
   ]
  },
  {
   "cell_type": "code",
   "execution_count": 24,
   "metadata": {},
   "outputs": [
    {
     "data": {
      "text/plain": [
       "North Indian                                       716\n",
       "North Indian, Chinese                              714\n",
       "South Indian                                       706\n",
       "Fast Food                                          364\n",
       "Chinese                                            226\n",
       "                                                  ... \n",
       "North Indian, South Indian, Hyderabadi, Mughlai      1\n",
       "Arabian, Italian, Hyderabadi                         1\n",
       "Fast Food, Sandwich, Burger, Beverages               1\n",
       "Cafe, Healthy Food, Salad, Beverages, Desserts       1\n",
       "Street Food, North Indian, Mithai                    1\n",
       "Name: CUISINES, Length: 5183, dtype: int64"
      ]
     },
     "execution_count": 24,
     "metadata": {},
     "output_type": "execute_result"
    }
   ],
   "source": [
    "#lets check for the value_counts of Cuisine column\n",
    "cost['CUISINES'].value_counts()"
   ]
  },
  {
   "cell_type": "code",
   "execution_count": 25,
   "metadata": {},
   "outputs": [],
   "source": [
    "#so every cuisine has some information,so lets extract the first three of them and seperate\n",
    "cost['CUISINES1']=cost['CUISINES'].str.split(',').str[0]\n",
    "cost['CUISINES2']=cost['CUISINES'].str.split(',').str[1]\n",
    "cost['CUISINES3']=cost['CUISINES'].str.split(',').str[2]"
   ]
  },
  {
   "cell_type": "code",
   "execution_count": 26,
   "metadata": {},
   "outputs": [],
   "source": [
    "#all of the cuisines have not the complete info upto three string,so there is chance of null data\n",
    "cost['CUISINES2'].fillna('None',inplace=True)\n",
    "cost['CUISINES3'].fillna('None',inplace=True)"
   ]
  },
  {
   "cell_type": "code",
   "execution_count": 27,
   "metadata": {},
   "outputs": [],
   "source": [
    "#now lets drop the cuisine column\n",
    "cost.drop('CUISINES',axis=1,inplace=True)"
   ]
  },
  {
   "cell_type": "code",
   "execution_count": 28,
   "metadata": {},
   "outputs": [],
   "source": [
    "#Now converting the object datatype categorical data to label using labelEncoder\n",
    "from sklearn.preprocessing import LabelEncoder\n",
    "le=LabelEncoder()\n",
    "\n",
    "list=['CITY','LOCALITY','CUISINES1','CUISINES2','CUISINES3']\n",
    "for val in list:\n",
    "    cost[val]=le.fit_transform(cost[val].astype(str))"
   ]
  },
  {
   "cell_type": "code",
   "execution_count": 29,
   "metadata": {},
   "outputs": [
    {
     "data": {
      "text/html": [
       "<div>\n",
       "<style scoped>\n",
       "    .dataframe tbody tr th:only-of-type {\n",
       "        vertical-align: middle;\n",
       "    }\n",
       "\n",
       "    .dataframe tbody tr th {\n",
       "        vertical-align: top;\n",
       "    }\n",
       "\n",
       "    .dataframe thead th {\n",
       "        text-align: right;\n",
       "    }\n",
       "</style>\n",
       "<table border=\"1\" class=\"dataframe\">\n",
       "  <thead>\n",
       "    <tr style=\"text-align: right;\">\n",
       "      <th></th>\n",
       "      <th>CITY</th>\n",
       "      <th>COST</th>\n",
       "      <th>Data</th>\n",
       "      <th>LOCALITY</th>\n",
       "      <th>RATING</th>\n",
       "      <th>VOTES</th>\n",
       "      <th>CUISINES1</th>\n",
       "      <th>CUISINES2</th>\n",
       "      <th>CUISINES3</th>\n",
       "    </tr>\n",
       "  </thead>\n",
       "  <tbody>\n",
       "    <tr>\n",
       "      <td>0</td>\n",
       "      <td>400</td>\n",
       "      <td>1200.0</td>\n",
       "      <td>Train</td>\n",
       "      <td>328</td>\n",
       "      <td>3.6</td>\n",
       "      <td>49</td>\n",
       "      <td>61</td>\n",
       "      <td>32</td>\n",
       "      <td>71</td>\n",
       "    </tr>\n",
       "    <tr>\n",
       "      <td>1</td>\n",
       "      <td>75</td>\n",
       "      <td>1500.0</td>\n",
       "      <td>Train</td>\n",
       "      <td>1214</td>\n",
       "      <td>4.2</td>\n",
       "      <td>30</td>\n",
       "      <td>6</td>\n",
       "      <td>62</td>\n",
       "      <td>45</td>\n",
       "    </tr>\n",
       "    <tr>\n",
       "      <td>2</td>\n",
       "      <td>75</td>\n",
       "      <td>800.0</td>\n",
       "      <td>Train</td>\n",
       "      <td>1272</td>\n",
       "      <td>3.8</td>\n",
       "      <td>221</td>\n",
       "      <td>74</td>\n",
       "      <td>23</td>\n",
       "      <td>14</td>\n",
       "    </tr>\n",
       "    <tr>\n",
       "      <td>3</td>\n",
       "      <td>277</td>\n",
       "      <td>800.0</td>\n",
       "      <td>Train</td>\n",
       "      <td>161</td>\n",
       "      <td>4.1</td>\n",
       "      <td>24</td>\n",
       "      <td>102</td>\n",
       "      <td>23</td>\n",
       "      <td>100</td>\n",
       "    </tr>\n",
       "    <tr>\n",
       "      <td>4</td>\n",
       "      <td>277</td>\n",
       "      <td>300.0</td>\n",
       "      <td>Train</td>\n",
       "      <td>709</td>\n",
       "      <td>3.8</td>\n",
       "      <td>165</td>\n",
       "      <td>30</td>\n",
       "      <td>100</td>\n",
       "      <td>100</td>\n",
       "    </tr>\n",
       "  </tbody>\n",
       "</table>\n",
       "</div>"
      ],
      "text/plain": [
       "   CITY    COST   Data  LOCALITY  RATING  VOTES  CUISINES1  CUISINES2  \\\n",
       "0   400  1200.0  Train       328     3.6     49         61         32   \n",
       "1    75  1500.0  Train      1214     4.2     30          6         62   \n",
       "2    75   800.0  Train      1272     3.8    221         74         23   \n",
       "3   277   800.0  Train       161     4.1     24        102         23   \n",
       "4   277   300.0  Train       709     3.8    165         30        100   \n",
       "\n",
       "   CUISINES3  \n",
       "0         71  \n",
       "1         45  \n",
       "2         14  \n",
       "3        100  \n",
       "4        100  "
      ]
     },
     "execution_count": 29,
     "metadata": {},
     "output_type": "execute_result"
    }
   ],
   "source": [
    "#lets look to the structure now\n",
    "cost.head()"
   ]
  },
  {
   "cell_type": "code",
   "execution_count": 30,
   "metadata": {},
   "outputs": [],
   "source": [
    "#lets seperate the train and test datset\n",
    "final_train=cost.loc[cost['Data']=='Train']\n",
    "final_test=cost.loc[cost['Data']=='Test']"
   ]
  },
  {
   "cell_type": "code",
   "execution_count": 31,
   "metadata": {},
   "outputs": [],
   "source": [
    "#lets drop the marking column from both\n",
    "final_train.drop('Data',axis=1,inplace=True)\n",
    "final_test.drop(['Data','COST'],axis=1,inplace=True)"
   ]
  },
  {
   "cell_type": "markdown",
   "metadata": {},
   "source": [
    "Data Visualization"
   ]
  },
  {
   "cell_type": "code",
   "execution_count": 32,
   "metadata": {},
   "outputs": [
    {
     "data": {
      "text/plain": [
       "<matplotlib.axes._subplots.AxesSubplot at 0x1f57974ae88>"
      ]
     },
     "execution_count": 32,
     "metadata": {},
     "output_type": "execute_result"
    },
    {
     "data": {
      "image/png": "[encoded data removed]",
      "text/plain": [
       "<Figure size 432x288 with 1 Axes>"
      ]
     },
     "metadata": {
      "needs_background": "light"
     },
     "output_type": "display_data"
    }
   ],
   "source": [
    "#plotting scatterplot for rating and cost\n",
    "sns.scatterplot(x='RATING',y='COST',data=final_train)\n",
    "\n",
    "#It shows with an increase in rating,cost increases"
   ]
  },
  {
   "cell_type": "code",
   "execution_count": 33,
   "metadata": {},
   "outputs": [
    {
     "data": {
      "text/plain": [
       "<matplotlib.axes._subplots.AxesSubplot at 0x1f57a3863c8>"
      ]
     },
     "execution_count": 33,
     "metadata": {},
     "output_type": "execute_result"
    },
    {
     "data": {
      "image/png": "[encoded data removed]",
      "text/plain": [
       "<Figure size 432x288 with 1 Axes>"
      ]
     },
     "metadata": {
      "needs_background": "light"
     },
     "output_type": "display_data"
    }
   ],
   "source": [
    "#plotting scatterplot for rating and cost\n",
    "sns.scatterplot(x='VOTES',y='COST',data=final_train)\n",
    "\n",
    "#It shows there is concentration on the origin point of both parameters,some outliers are also here"
   ]
  },
  {
   "cell_type": "code",
   "execution_count": 34,
   "metadata": {},
   "outputs": [
    {
     "data": {
      "text/plain": [
       "<matplotlib.axes._subplots.AxesSubplot at 0x1f57a320c88>"
      ]
     },
     "execution_count": 34,
     "metadata": {},
     "output_type": "execute_result"
    },
    {
     "data": {
      "image/png": "[encoded data removed]",
      "text/plain": [
       "<Figure size 1440x360 with 1 Axes>"
      ]
     },
     "metadata": {
      "needs_background": "light"
     },
     "output_type": "display_data"
    }
   ],
   "source": [
    "#plotting the countplot for cost\n",
    "plt.figure(figsize=(20,5))\n",
    "sns.countplot(final_train['COST'])"
   ]
  },
  {
   "cell_type": "code",
   "execution_count": 35,
   "metadata": {},
   "outputs": [
    {
     "data": {
      "text/plain": [
       "<matplotlib.axes._subplots.AxesSubplot at 0x1f579f62c48>"
      ]
     },
     "execution_count": 35,
     "metadata": {},
     "output_type": "execute_result"
    },
    {
     "data": {
      "image/png": "[encoded data removed]",
      "text/plain": [
       "<Figure size 1440x360 with 1 Axes>"
      ]
     },
     "metadata": {
      "needs_background": "light"
     },
     "output_type": "display_data"
    }
   ],
   "source": [
    "plt.figure(figsize=(20,5))\n",
    "sns.barplot(x='CITY',y='COST',data=final_train)"
   ]
  },
  {
   "cell_type": "code",
   "execution_count": 36,
   "metadata": {},
   "outputs": [
    {
     "data": {
      "text/plain": [
       "<matplotlib.axes._subplots.AxesSubplot at 0x1f57c7d7388>"
      ]
     },
     "execution_count": 36,
     "metadata": {},
     "output_type": "execute_result"
    },
    {
     "data": {
      "image/png": "[encoded data removed]",
      "text/plain": [
       "<Figure size 432x288 with 1 Axes>"
      ]
     },
     "metadata": {
      "needs_background": "light"
     },
     "output_type": "display_data"
    }
   ],
   "source": [
    "#plotting the distplot for votes column\n",
    "sns.distplot(final_train['VOTES'])\n",
    "\n",
    "#this column needs to be adjust as it show skewed data"
   ]
  },
  {
   "cell_type": "code",
   "execution_count": 37,
   "metadata": {},
   "outputs": [
    {
     "data": {
      "text/html": [
       "<div>\n",
       "<style scoped>\n",
       "    .dataframe tbody tr th:only-of-type {\n",
       "        vertical-align: middle;\n",
       "    }\n",
       "\n",
       "    .dataframe tbody tr th {\n",
       "        vertical-align: top;\n",
       "    }\n",
       "\n",
       "    .dataframe thead th {\n",
       "        text-align: right;\n",
       "    }\n",
       "</style>\n",
       "<table border=\"1\" class=\"dataframe\">\n",
       "  <thead>\n",
       "    <tr style=\"text-align: right;\">\n",
       "      <th></th>\n",
       "      <th>CITY</th>\n",
       "      <th>COST</th>\n",
       "      <th>LOCALITY</th>\n",
       "      <th>RATING</th>\n",
       "      <th>VOTES</th>\n",
       "      <th>CUISINES1</th>\n",
       "      <th>CUISINES2</th>\n",
       "      <th>CUISINES3</th>\n",
       "    </tr>\n",
       "  </thead>\n",
       "  <tbody>\n",
       "    <tr>\n",
       "      <td>CITY</td>\n",
       "      <td>1.000000</td>\n",
       "      <td>0.040400</td>\n",
       "      <td>0.061286</td>\n",
       "      <td>-0.044629</td>\n",
       "      <td>0.037076</td>\n",
       "      <td>0.012848</td>\n",
       "      <td>0.006632</td>\n",
       "      <td>-0.002434</td>\n",
       "    </tr>\n",
       "    <tr>\n",
       "      <td>COST</td>\n",
       "      <td>0.040400</td>\n",
       "      <td>1.000000</td>\n",
       "      <td>-0.017973</td>\n",
       "      <td>0.271111</td>\n",
       "      <td>0.257231</td>\n",
       "      <td>-0.036211</td>\n",
       "      <td>-0.077254</td>\n",
       "      <td>-0.172412</td>\n",
       "    </tr>\n",
       "    <tr>\n",
       "      <td>LOCALITY</td>\n",
       "      <td>0.061286</td>\n",
       "      <td>-0.017973</td>\n",
       "      <td>1.000000</td>\n",
       "      <td>-0.023081</td>\n",
       "      <td>-0.032825</td>\n",
       "      <td>0.017911</td>\n",
       "      <td>0.020809</td>\n",
       "      <td>0.013807</td>\n",
       "    </tr>\n",
       "    <tr>\n",
       "      <td>RATING</td>\n",
       "      <td>-0.044629</td>\n",
       "      <td>0.271111</td>\n",
       "      <td>-0.023081</td>\n",
       "      <td>1.000000</td>\n",
       "      <td>0.296109</td>\n",
       "      <td>-0.032600</td>\n",
       "      <td>-0.102557</td>\n",
       "      <td>-0.130764</td>\n",
       "    </tr>\n",
       "    <tr>\n",
       "      <td>VOTES</td>\n",
       "      <td>0.037076</td>\n",
       "      <td>0.257231</td>\n",
       "      <td>-0.032825</td>\n",
       "      <td>0.296109</td>\n",
       "      <td>1.000000</td>\n",
       "      <td>-0.039959</td>\n",
       "      <td>-0.086407</td>\n",
       "      <td>-0.148303</td>\n",
       "    </tr>\n",
       "    <tr>\n",
       "      <td>CUISINES1</td>\n",
       "      <td>0.012848</td>\n",
       "      <td>-0.036211</td>\n",
       "      <td>0.017911</td>\n",
       "      <td>-0.032600</td>\n",
       "      <td>-0.039959</td>\n",
       "      <td>1.000000</td>\n",
       "      <td>0.038284</td>\n",
       "      <td>-0.018745</td>\n",
       "    </tr>\n",
       "    <tr>\n",
       "      <td>CUISINES2</td>\n",
       "      <td>0.006632</td>\n",
       "      <td>-0.077254</td>\n",
       "      <td>0.020809</td>\n",
       "      <td>-0.102557</td>\n",
       "      <td>-0.086407</td>\n",
       "      <td>0.038284</td>\n",
       "      <td>1.000000</td>\n",
       "      <td>0.262384</td>\n",
       "    </tr>\n",
       "    <tr>\n",
       "      <td>CUISINES3</td>\n",
       "      <td>-0.002434</td>\n",
       "      <td>-0.172412</td>\n",
       "      <td>0.013807</td>\n",
       "      <td>-0.130764</td>\n",
       "      <td>-0.148303</td>\n",
       "      <td>-0.018745</td>\n",
       "      <td>0.262384</td>\n",
       "      <td>1.000000</td>\n",
       "    </tr>\n",
       "  </tbody>\n",
       "</table>\n",
       "</div>"
      ],
      "text/plain": [
       "               CITY      COST  LOCALITY    RATING     VOTES  CUISINES1  \\\n",
       "CITY       1.000000  0.040400  0.061286 -0.044629  0.037076   0.012848   \n",
       "COST       0.040400  1.000000 -0.017973  0.271111  0.257231  -0.036211   \n",
       "LOCALITY   0.061286 -0.017973  1.000000 -0.023081 -0.032825   0.017911   \n",
       "RATING    -0.044629  0.271111 -0.023081  1.000000  0.296109  -0.032600   \n",
       "VOTES      0.037076  0.257231 -0.032825  0.296109  1.000000  -0.039959   \n",
       "CUISINES1  0.012848 -0.036211  0.017911 -0.032600 -0.039959   1.000000   \n",
       "CUISINES2  0.006632 -0.077254  0.020809 -0.102557 -0.086407   0.038284   \n",
       "CUISINES3 -0.002434 -0.172412  0.013807 -0.130764 -0.148303  -0.018745   \n",
       "\n",
       "           CUISINES2  CUISINES3  \n",
       "CITY        0.006632  -0.002434  \n",
       "COST       -0.077254  -0.172412  \n",
       "LOCALITY    0.020809   0.013807  \n",
       "RATING     -0.102557  -0.130764  \n",
       "VOTES      -0.086407  -0.148303  \n",
       "CUISINES1   0.038284  -0.018745  \n",
       "CUISINES2   1.000000   0.262384  \n",
       "CUISINES3   0.262384   1.000000  "
      ]
     },
     "execution_count": 37,
     "metadata": {},
     "output_type": "execute_result"
    }
   ],
   "source": [
    "#correlation among the data\n",
    "final_train.corr()"
   ]
  },
  {
   "cell_type": "code",
   "execution_count": 38,
   "metadata": {},
   "outputs": [
    {
     "data": {
      "text/plain": [
       "<matplotlib.axes._subplots.AxesSubplot at 0x1f57c414fc8>"
      ]
     },
     "execution_count": 38,
     "metadata": {},
     "output_type": "execute_result"
    },
    {
     "data": {
      "image/png": "[encoded data removed]",
      "text/plain": [
       "<Figure size 432x288 with 2 Axes>"
      ]
     },
     "metadata": {
      "needs_background": "light"
     },
     "output_type": "display_data"
    }
   ],
   "source": [
    "#correlation heatmap\n",
    "sns.heatmap(final_train.corr(),annot=True)"
   ]
  },
  {
   "cell_type": "markdown",
   "metadata": {},
   "source": [
    "Statistical summary for the data"
   ]
  },
  {
   "cell_type": "code",
   "execution_count": 39,
   "metadata": {},
   "outputs": [
    {
     "data": {
      "text/html": [
       "<div>\n",
       "<style scoped>\n",
       "    .dataframe tbody tr th:only-of-type {\n",
       "        vertical-align: middle;\n",
       "    }\n",
       "\n",
       "    .dataframe tbody tr th {\n",
       "        vertical-align: top;\n",
       "    }\n",
       "\n",
       "    .dataframe thead th {\n",
       "        text-align: right;\n",
       "    }\n",
       "</style>\n",
       "<table border=\"1\" class=\"dataframe\">\n",
       "  <thead>\n",
       "    <tr style=\"text-align: right;\">\n",
       "      <th></th>\n",
       "      <th>CITY</th>\n",
       "      <th>COST</th>\n",
       "      <th>LOCALITY</th>\n",
       "      <th>RATING</th>\n",
       "      <th>VOTES</th>\n",
       "      <th>CUISINES1</th>\n",
       "      <th>CUISINES2</th>\n",
       "      <th>CUISINES3</th>\n",
       "    </tr>\n",
       "  </thead>\n",
       "  <tbody>\n",
       "    <tr>\n",
       "      <td>count</td>\n",
       "      <td>12690.000000</td>\n",
       "      <td>12690.000000</td>\n",
       "      <td>12690.000000</td>\n",
       "      <td>12690.000000</td>\n",
       "      <td>12690.000000</td>\n",
       "      <td>12690.000000</td>\n",
       "      <td>12690.000000</td>\n",
       "      <td>12690.000000</td>\n",
       "    </tr>\n",
       "    <tr>\n",
       "      <td>mean</td>\n",
       "      <td>177.703546</td>\n",
       "      <td>655.252246</td>\n",
       "      <td>761.607644</td>\n",
       "      <td>3.548952</td>\n",
       "      <td>376.231127</td>\n",
       "      <td>50.898660</td>\n",
       "      <td>56.876753</td>\n",
       "      <td>74.285658</td>\n",
       "    </tr>\n",
       "    <tr>\n",
       "      <td>std</td>\n",
       "      <td>109.302452</td>\n",
       "      <td>627.003540</td>\n",
       "      <td>463.036069</td>\n",
       "      <td>0.837089</td>\n",
       "      <td>810.946942</td>\n",
       "      <td>28.980787</td>\n",
       "      <td>33.380854</td>\n",
       "      <td>33.651053</td>\n",
       "    </tr>\n",
       "    <tr>\n",
       "      <td>min</td>\n",
       "      <td>0.000000</td>\n",
       "      <td>20.000000</td>\n",
       "      <td>0.000000</td>\n",
       "      <td>0.500000</td>\n",
       "      <td>0.000000</td>\n",
       "      <td>0.000000</td>\n",
       "      <td>0.000000</td>\n",
       "      <td>0.000000</td>\n",
       "    </tr>\n",
       "    <tr>\n",
       "      <td>25%</td>\n",
       "      <td>75.000000</td>\n",
       "      <td>300.000000</td>\n",
       "      <td>389.000000</td>\n",
       "      <td>3.400000</td>\n",
       "      <td>39.250000</td>\n",
       "      <td>27.000000</td>\n",
       "      <td>23.000000</td>\n",
       "      <td>41.000000</td>\n",
       "    </tr>\n",
       "    <tr>\n",
       "      <td>50%</td>\n",
       "      <td>160.000000</td>\n",
       "      <td>500.000000</td>\n",
       "      <td>674.000000</td>\n",
       "      <td>3.800000</td>\n",
       "      <td>132.000000</td>\n",
       "      <td>50.000000</td>\n",
       "      <td>63.000000</td>\n",
       "      <td>100.000000</td>\n",
       "    </tr>\n",
       "    <tr>\n",
       "      <td>75%</td>\n",
       "      <td>277.000000</td>\n",
       "      <td>800.000000</td>\n",
       "      <td>1174.000000</td>\n",
       "      <td>4.000000</td>\n",
       "      <td>405.000000</td>\n",
       "      <td>74.000000</td>\n",
       "      <td>95.000000</td>\n",
       "      <td>100.000000</td>\n",
       "    </tr>\n",
       "    <tr>\n",
       "      <td>max</td>\n",
       "      <td>450.000000</td>\n",
       "      <td>14000.000000</td>\n",
       "      <td>1636.000000</td>\n",
       "      <td>4.900000</td>\n",
       "      <td>41186.000000</td>\n",
       "      <td>105.000000</td>\n",
       "      <td>100.000000</td>\n",
       "      <td>100.000000</td>\n",
       "    </tr>\n",
       "  </tbody>\n",
       "</table>\n",
       "</div>"
      ],
      "text/plain": [
       "               CITY          COST      LOCALITY        RATING         VOTES  \\\n",
       "count  12690.000000  12690.000000  12690.000000  12690.000000  12690.000000   \n",
       "mean     177.703546    655.252246    761.607644      3.548952    376.231127   \n",
       "std      109.302452    627.003540    463.036069      0.837089    810.946942   \n",
       "min        0.000000     20.000000      0.000000      0.500000      0.000000   \n",
       "25%       75.000000    300.000000    389.000000      3.400000     39.250000   \n",
       "50%      160.000000    500.000000    674.000000      3.800000    132.000000   \n",
       "75%      277.000000    800.000000   1174.000000      4.000000    405.000000   \n",
       "max      450.000000  14000.000000   1636.000000      4.900000  41186.000000   \n",
       "\n",
       "          CUISINES1     CUISINES2     CUISINES3  \n",
       "count  12690.000000  12690.000000  12690.000000  \n",
       "mean      50.898660     56.876753     74.285658  \n",
       "std       28.980787     33.380854     33.651053  \n",
       "min        0.000000      0.000000      0.000000  \n",
       "25%       27.000000     23.000000     41.000000  \n",
       "50%       50.000000     63.000000    100.000000  \n",
       "75%       74.000000     95.000000    100.000000  \n",
       "max      105.000000    100.000000    100.000000  "
      ]
     },
     "execution_count": 39,
     "metadata": {},
     "output_type": "execute_result"
    }
   ],
   "source": [
    "#describing the data\n",
    "final_train.describe()"
   ]
  },
  {
   "cell_type": "markdown",
   "metadata": {},
   "source": [
    "There is a uneven data needs to adjust votes and cost column,and zscore for some of the other column.There is some diffrence in mean,median and min-max on the data features."
   ]
  },
  {
   "cell_type": "code",
   "execution_count": 40,
   "metadata": {},
   "outputs": [],
   "source": [
    "#Applying boxcox to votes and cost column\n",
    "#Votes column need more values to be computed,so lets increase it by adding 5.\n",
    "final_train['VOTES']=final_train['VOTES']+5\n",
    "from scipy.stats import boxcox\n",
    "final_train['VOTES']=boxcox(final_train['VOTES'],0)\n",
    "final_train['COST']=boxcox(final_train['COST'],0)"
   ]
  },
  {
   "cell_type": "code",
   "execution_count": 41,
   "metadata": {},
   "outputs": [
    {
     "data": {
      "text/plain": [
       "(12142, 8)"
      ]
     },
     "execution_count": 41,
     "metadata": {},
     "output_type": "execute_result"
    }
   ],
   "source": [
    "#importing zscore to handle outliers\n",
    "from scipy.stats import zscore\n",
    "z=np.abs(zscore(final_train))\n",
    "final_train_new=final_train[(z<3).all(axis=1)]\n",
    "final_train_new.shape"
   ]
  },
  {
   "cell_type": "code",
   "execution_count": 43,
   "metadata": {},
   "outputs": [
    {
     "data": {
      "text/plain": [
       "CITY         0.265771\n",
       "COST         0.392350\n",
       "LOCALITY     0.338724\n",
       "RATING      -1.770244\n",
       "VOTES       -0.256517\n",
       "CUISINES1   -0.006533\n",
       "CUISINES2    0.044002\n",
       "CUISINES3   -0.820207\n",
       "dtype: float64"
      ]
     },
     "execution_count": 43,
     "metadata": {},
     "output_type": "execute_result"
    }
   ],
   "source": [
    "#checking for the skew in data\n",
    "final_train.skew()"
   ]
  },
  {
   "cell_type": "code",
   "execution_count": 44,
   "metadata": {},
   "outputs": [],
   "source": [
    "#handling skew data in respective columns\n",
    "list=['RATING','CUISINES3']\n",
    "final_train[list]=np.square(final_train[list])"
   ]
  },
  {
   "cell_type": "code",
   "execution_count": 45,
   "metadata": {},
   "outputs": [],
   "source": [
    "#There is a diffrence OF 600 rows in dataset shape after applying zscore,so taking modified one as the prime dataset\n",
    "final_train=final_train_new"
   ]
  },
  {
   "cell_type": "markdown",
   "metadata": {},
   "source": [
    "Now shaping the data for machine learning process"
   ]
  },
  {
   "cell_type": "code",
   "execution_count": 46,
   "metadata": {},
   "outputs": [],
   "source": [
    "def_x=final_train.drop('COST',axis=1)\n",
    "y=final_train['COST']"
   ]
  },
  {
   "cell_type": "code",
   "execution_count": 47,
   "metadata": {},
   "outputs": [
    {
     "data": {
      "text/html": [
       "<div>\n",
       "<style scoped>\n",
       "    .dataframe tbody tr th:only-of-type {\n",
       "        vertical-align: middle;\n",
       "    }\n",
       "\n",
       "    .dataframe tbody tr th {\n",
       "        vertical-align: top;\n",
       "    }\n",
       "\n",
       "    .dataframe thead th {\n",
       "        text-align: right;\n",
       "    }\n",
       "</style>\n",
       "<table border=\"1\" class=\"dataframe\">\n",
       "  <thead>\n",
       "    <tr style=\"text-align: right;\">\n",
       "      <th></th>\n",
       "      <th>CITY</th>\n",
       "      <th>LOCALITY</th>\n",
       "      <th>RATING</th>\n",
       "      <th>VOTES</th>\n",
       "      <th>CUISINES1</th>\n",
       "      <th>CUISINES2</th>\n",
       "      <th>CUISINES3</th>\n",
       "    </tr>\n",
       "  </thead>\n",
       "  <tbody>\n",
       "    <tr>\n",
       "      <td>0</td>\n",
       "      <td>400</td>\n",
       "      <td>328</td>\n",
       "      <td>3.6</td>\n",
       "      <td>3.988984</td>\n",
       "      <td>61</td>\n",
       "      <td>32</td>\n",
       "      <td>71</td>\n",
       "    </tr>\n",
       "    <tr>\n",
       "      <td>1</td>\n",
       "      <td>75</td>\n",
       "      <td>1214</td>\n",
       "      <td>4.2</td>\n",
       "      <td>3.555348</td>\n",
       "      <td>6</td>\n",
       "      <td>62</td>\n",
       "      <td>45</td>\n",
       "    </tr>\n",
       "    <tr>\n",
       "      <td>2</td>\n",
       "      <td>75</td>\n",
       "      <td>1272</td>\n",
       "      <td>3.8</td>\n",
       "      <td>5.420535</td>\n",
       "      <td>74</td>\n",
       "      <td>23</td>\n",
       "      <td>14</td>\n",
       "    </tr>\n",
       "    <tr>\n",
       "      <td>3</td>\n",
       "      <td>277</td>\n",
       "      <td>161</td>\n",
       "      <td>4.1</td>\n",
       "      <td>3.367296</td>\n",
       "      <td>102</td>\n",
       "      <td>23</td>\n",
       "      <td>100</td>\n",
       "    </tr>\n",
       "    <tr>\n",
       "      <td>4</td>\n",
       "      <td>277</td>\n",
       "      <td>709</td>\n",
       "      <td>3.8</td>\n",
       "      <td>5.135798</td>\n",
       "      <td>30</td>\n",
       "      <td>100</td>\n",
       "      <td>100</td>\n",
       "    </tr>\n",
       "    <tr>\n",
       "      <td>...</td>\n",
       "      <td>...</td>\n",
       "      <td>...</td>\n",
       "      <td>...</td>\n",
       "      <td>...</td>\n",
       "      <td>...</td>\n",
       "      <td>...</td>\n",
       "      <td>...</td>\n",
       "    </tr>\n",
       "    <tr>\n",
       "      <td>12685</td>\n",
       "      <td>160</td>\n",
       "      <td>395</td>\n",
       "      <td>3.8</td>\n",
       "      <td>6.311735</td>\n",
       "      <td>74</td>\n",
       "      <td>17</td>\n",
       "      <td>48</td>\n",
       "    </tr>\n",
       "    <tr>\n",
       "      <td>12686</td>\n",
       "      <td>277</td>\n",
       "      <td>158</td>\n",
       "      <td>4.3</td>\n",
       "      <td>7.105786</td>\n",
       "      <td>39</td>\n",
       "      <td>25</td>\n",
       "      <td>100</td>\n",
       "    </tr>\n",
       "    <tr>\n",
       "      <td>12687</td>\n",
       "      <td>300</td>\n",
       "      <td>1549</td>\n",
       "      <td>4.0</td>\n",
       "      <td>6.418365</td>\n",
       "      <td>36</td>\n",
       "      <td>25</td>\n",
       "      <td>5</td>\n",
       "    </tr>\n",
       "    <tr>\n",
       "      <td>12688</td>\n",
       "      <td>75</td>\n",
       "      <td>720</td>\n",
       "      <td>3.5</td>\n",
       "      <td>3.610918</td>\n",
       "      <td>74</td>\n",
       "      <td>86</td>\n",
       "      <td>23</td>\n",
       "    </tr>\n",
       "    <tr>\n",
       "      <td>12689</td>\n",
       "      <td>160</td>\n",
       "      <td>1540</td>\n",
       "      <td>3.4</td>\n",
       "      <td>6.525030</td>\n",
       "      <td>74</td>\n",
       "      <td>23</td>\n",
       "      <td>100</td>\n",
       "    </tr>\n",
       "  </tbody>\n",
       "</table>\n",
       "<p>12142 rows × 7 columns</p>\n",
       "</div>"
      ],
      "text/plain": [
       "       CITY  LOCALITY  RATING     VOTES  CUISINES1  CUISINES2  CUISINES3\n",
       "0       400       328     3.6  3.988984         61         32         71\n",
       "1        75      1214     4.2  3.555348          6         62         45\n",
       "2        75      1272     3.8  5.420535         74         23         14\n",
       "3       277       161     4.1  3.367296        102         23        100\n",
       "4       277       709     3.8  5.135798         30        100        100\n",
       "...     ...       ...     ...       ...        ...        ...        ...\n",
       "12685   160       395     3.8  6.311735         74         17         48\n",
       "12686   277       158     4.3  7.105786         39         25        100\n",
       "12687   300      1549     4.0  6.418365         36         25          5\n",
       "12688    75       720     3.5  3.610918         74         86         23\n",
       "12689   160      1540     3.4  6.525030         74         23        100\n",
       "\n",
       "[12142 rows x 7 columns]"
      ]
     },
     "execution_count": 47,
     "metadata": {},
     "output_type": "execute_result"
    }
   ],
   "source": [
    "def_x"
   ]
  },
  {
   "cell_type": "code",
   "execution_count": 48,
   "metadata": {},
   "outputs": [],
   "source": [
    "#applying standard scaler to the input variables to scale in same params\n",
    "from sklearn.preprocessing import StandardScaler\n",
    "scale=StandardScaler()\n",
    "x=scale.fit_transform(def_x)\n",
    "x=pd.DataFrame(x,columns=def_x.columns)"
   ]
  },
  {
   "cell_type": "code",
   "execution_count": 49,
   "metadata": {},
   "outputs": [],
   "source": [
    "#creating function for determining random state\n",
    "def random(alg):\n",
    "    r_state=0\n",
    "    for r_score in range(43,101):\n",
    "        x_train,x_test,y_train,y_test=train_test_split(x,y,test_size=0.33,random_state=r_score)\n",
    "        alg.fit(x_train,y_train)\n",
    "        pred=alg.predict(x_test)\n",
    "        r2scr=r2_score(y_test,pred)\n",
    "        if r2scr > r_state:\n",
    "            r_state=r2scr\n",
    "            final_r=r_score\n",
    "    print(r2scr,'at',final_r)"
   ]
  },
  {
   "cell_type": "code",
   "execution_count": 50,
   "metadata": {},
   "outputs": [],
   "source": [
    "#creating the function for algorithm operations\n",
    "def model(alg):\n",
    "    ml=alg\n",
    "    ml.fit(x_train,y_train)\n",
    "    pred=ml.predict(x_test)\n",
    "    print('mean_squared_error=',mean_squared_error(y_test,pred))\n",
    "    print('mean_absolute_error=',mean_absolute_error(y_test,pred))\n",
    "    print('r2_score=',r2_score(y_test,pred))\n",
    "    print('root_mean_squared_error=',np.sqrt(mean_squared_error(y_test,pred)))"
   ]
  },
  {
   "cell_type": "code",
   "execution_count": 51,
   "metadata": {},
   "outputs": [],
   "source": [
    "#function for cross_val score \n",
    "def cross_val(alg):\n",
    "    score=cross_val_score(alg,x,y,cv=5)\n",
    "    print(score)\n",
    "    print('mean_score=',score.mean())\n",
    "    print('standard deviation',score.std())"
   ]
  },
  {
   "cell_type": "markdown",
   "metadata": {},
   "source": [
    "lets start to apply algorithm one by one.\n",
    "\n",
    "Linear Regression"
   ]
  },
  {
   "cell_type": "code",
   "execution_count": 52,
   "metadata": {},
   "outputs": [
    {
     "name": "stdout",
     "output_type": "stream",
     "text": [
      "0.23390294745922535 at 100\n"
     ]
    }
   ],
   "source": [
    "# using Linear regression\n",
    "from sklearn.linear_model import LinearRegression\n",
    "lm=LinearRegression()\n",
    "random(lm)"
   ]
  },
  {
   "cell_type": "code",
   "execution_count": 53,
   "metadata": {},
   "outputs": [
    {
     "name": "stdout",
     "output_type": "stream",
     "text": [
      "[0.21996857 0.22555522 0.2300626  0.21270414 0.21720421]\n",
      "mean_score= 0.22109894937568128\n",
      "standard deviation 0.006117597068849354\n"
     ]
    }
   ],
   "source": [
    "cross_val(lm)"
   ]
  },
  {
   "cell_type": "markdown",
   "metadata": {},
   "source": [
    "Decision Tree Regressor"
   ]
  },
  {
   "cell_type": "code",
   "execution_count": 54,
   "metadata": {},
   "outputs": [
    {
     "name": "stdout",
     "output_type": "stream",
     "text": [
      "-0.013912123268965848 at 70\n"
     ]
    }
   ],
   "source": [
    "#applying Decision Tree Regressor\n",
    "from sklearn.tree import DecisionTreeRegressor\n",
    "dtr=DecisionTreeRegressor()\n",
    "random(dtr)"
   ]
  },
  {
   "cell_type": "code",
   "execution_count": 55,
   "metadata": {},
   "outputs": [
    {
     "name": "stdout",
     "output_type": "stream",
     "text": [
      "[-0.07290043 -0.02428067 -0.00295842 -0.07761973 -0.04516729]\n",
      "mean_score= -0.044585304453385446\n",
      "standard deviation 0.02841983039206986\n"
     ]
    }
   ],
   "source": [
    "cross_val(dtr)"
   ]
  },
  {
   "cell_type": "markdown",
   "metadata": {},
   "source": [
    "K-Neighbors"
   ]
  },
  {
   "cell_type": "code",
   "execution_count": 56,
   "metadata": {},
   "outputs": [
    {
     "data": {
      "text/plain": [
       "{'n_neighbors': 26}"
      ]
     },
     "execution_count": 56,
     "metadata": {},
     "output_type": "execute_result"
    }
   ],
   "source": [
    "from sklearn.neighbors import KNeighborsRegressor\n",
    "knr=KNeighborsRegressor()\n",
    "\n",
    "#getting the best neighbors using GridSearchCV\n",
    "parameters={'n_neighbors':range(1,40)}\n",
    "grid=GridSearchCV(knr,parameters,cv=5)\n",
    "grid.fit(x,y)\n",
    "grid.best_params_"
   ]
  },
  {
   "cell_type": "code",
   "execution_count": 57,
   "metadata": {},
   "outputs": [
    {
     "name": "stdout",
     "output_type": "stream",
     "text": [
      "0.3231034150949028 at 86\n"
     ]
    }
   ],
   "source": [
    "knr=KNeighborsRegressor(n_neighbors=26)\n",
    "random(knr)"
   ]
  },
  {
   "cell_type": "code",
   "execution_count": 58,
   "metadata": {},
   "outputs": [
    {
     "name": "stdout",
     "output_type": "stream",
     "text": [
      "[0.30758188 0.31622063 0.32373382 0.31414667 0.31146822]\n",
      "mean_score= 0.3146302425363932\n",
      "standard deviation 0.00539102926754141\n"
     ]
    }
   ],
   "source": [
    "cross_val(knr)"
   ]
  },
  {
   "cell_type": "markdown",
   "metadata": {},
   "source": [
    "Random Forest"
   ]
  },
  {
   "cell_type": "code",
   "execution_count": 59,
   "metadata": {},
   "outputs": [
    {
     "data": {
      "text/plain": [
       "{'n_estimators': 500}"
      ]
     },
     "execution_count": 59,
     "metadata": {},
     "output_type": "execute_result"
    }
   ],
   "source": [
    "from sklearn.ensemble import RandomForestRegressor\n",
    "rfr=RandomForestRegressor()\n",
    "\n",
    "#getting the best params using GridsearchCV\n",
    "parameters={'n_estimators':[10,100,500]}\n",
    "grid=GridSearchCV(rfr,parameters,cv=5)\n",
    "grid.fit(x,y)\n",
    "grid.best_params_"
   ]
  },
  {
   "cell_type": "code",
   "execution_count": 60,
   "metadata": {},
   "outputs": [
    {
     "name": "stdout",
     "output_type": "stream",
     "text": [
      "0.47852691938932335 at 95\n"
     ]
    }
   ],
   "source": [
    "rfr=RandomForestRegressor(n_estimators=500)\n",
    "random(rfr)"
   ]
  },
  {
   "cell_type": "code",
   "execution_count": 61,
   "metadata": {},
   "outputs": [
    {
     "name": "stdout",
     "output_type": "stream",
     "text": [
      "[0.47678191 0.47964344 0.49697717 0.47862146 0.47725743]\n",
      "mean_score= 0.4818562819458072\n",
      "standard deviation 0.007627588715629243\n"
     ]
    }
   ],
   "source": [
    "cross_val(rfr)"
   ]
  },
  {
   "cell_type": "code",
   "execution_count": 62,
   "metadata": {},
   "outputs": [
    {
     "data": {
      "text/plain": [
       "{'learning_rate': 0.1, 'n_estimators': 500}"
      ]
     },
     "execution_count": 62,
     "metadata": {},
     "output_type": "execute_result"
    }
   ],
   "source": [
    "from sklearn.ensemble import GradientBoostingRegressor\n",
    "gbr=GradientBoostingRegressor()\n",
    "\n",
    "#getting the best params\n",
    "parameters={'learning_rate':[1,0.1,0.01,0.001],'n_estimators':[10,100,500]}\n",
    "grid=GridSearchCV(gbr,parameters,cv=5)\n",
    "grid.fit(x,y)\n",
    "grid.best_params_"
   ]
  },
  {
   "cell_type": "code",
   "execution_count": 63,
   "metadata": {},
   "outputs": [
    {
     "name": "stdout",
     "output_type": "stream",
     "text": [
      "0.5915383234087109 at 67\n"
     ]
    }
   ],
   "source": [
    "gbr=GradientBoostingRegressor(learning_rate=0.1,n_estimators=500)\n",
    "random(gbr)"
   ]
  },
  {
   "cell_type": "code",
   "execution_count": 64,
   "metadata": {},
   "outputs": [
    {
     "name": "stdout",
     "output_type": "stream",
     "text": [
      "[0.57845202 0.56657192 0.58358409 0.57051804 0.58202367]\n",
      "mean_score= 0.576229949009318\n",
      "standard deviation 0.006610468332913972\n"
     ]
    }
   ],
   "source": [
    "cross_val(gbr)"
   ]
  },
  {
   "cell_type": "markdown",
   "metadata": {},
   "source": [
    "From the above solved algorithms,I get the best score of 0.59 at the random_state of 67 from gradient Boosting classifier.So I am taking it as a final algorithm for this dataset."
   ]
  },
  {
   "cell_type": "code",
   "execution_count": 65,
   "metadata": {},
   "outputs": [
    {
     "name": "stdout",
     "output_type": "stream",
     "text": [
      "mean_squared_error= 0.2020214103669461\n",
      "mean_absolute_error= 0.3445089343207353\n",
      "r2_score= 0.591753232472185\n",
      "root_mean_squared_error= 0.449467919174379\n"
     ]
    }
   ],
   "source": [
    "#solving for the metrics from best chosen algorithm\n",
    "x_train,x_test,y_train,y_test=train_test_split(x,y,test_size=0.33,random_state=67)\n",
    "model(gbr)"
   ]
  },
  {
   "cell_type": "code",
   "execution_count": 66,
   "metadata": {},
   "outputs": [],
   "source": [
    "#now applying the algorithm to test data\n",
    "test_cost_pred=gbr.predict(final_test)"
   ]
  },
  {
   "cell_type": "code",
   "execution_count": 67,
   "metadata": {},
   "outputs": [],
   "source": [
    "#storing as dataFrame\n",
    "test_cost_pred=pd.DataFrame(test_cost_pred,columns=[\"cost\"])\n",
    "\n",
    "#Storing results as csv\n",
    "test_cost_pred.to_csv(\"foodcost_predictions.csv\",index=False)"
   ]
  },
  {
   "cell_type": "code",
   "execution_count": 68,
   "metadata": {},
   "outputs": [
    {
     "data": {
      "text/plain": [
       "['gbr_foodcost.pkl']"
      ]
     },
     "execution_count": 68,
     "metadata": {},
     "output_type": "execute_result"
    }
   ],
   "source": [
    "#saving the model\n",
    "from sklearn.externals import joblib\n",
    "joblib.dump(gbr,'gbr_foodcost.pkl')"
   ]
  },
  {
   "cell_type": "markdown",
   "metadata": {},
   "source": [
    "## Conclusion\n",
    "\n",
    "After importing the dataset from both train and test files,I checked for the shape of trhe data and null values.Then i concat them both and impute each column one by one to replace the unwanted term and managing null values.Then i plots the data from diffrent prospects to get the data insights and correlation map too.I dropped some of the unnecessary column such as title,time and restaurent ID to remove the complexity.After checking the statistical summary,I applied zscore to reduce the outliers.Then operate some skewed values also.\n",
    "\n",
    "After the complete data processing,I shape the data for machine modelling and applied standard scaler also to scale the data.On applying to various algorithm,I get the best fit algorithm as Gradient Boosting Regressor."
   ]
  }
 ],
 "metadata": {
  "kernelspec": {
   "display_name": "Python 3",
   "language": "python",
   "name": "python3"
  },
  "language_info": {
   "codemirror_mode": {
    "name": "ipython",
    "version": 3
   },
   "file_extension": ".py",
   "mimetype": "text/x-python",
   "name": "python",
   "nbconvert_exporter": "python",
   "pygments_lexer": "ipython3",
   "version": "3.7.4"
  }
 },
 "nbformat": 4,
 "nbformat_minor": 2
}
